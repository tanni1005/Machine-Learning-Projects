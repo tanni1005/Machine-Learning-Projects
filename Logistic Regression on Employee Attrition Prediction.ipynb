{
 "cells": [
  {
   "cell_type": "markdown",
   "metadata": {},
   "source": [
    "### Author: Tanvi Bhagat"
   ]
  },
  {
   "cell_type": "markdown",
   "metadata": {},
   "source": [
    "###  Implemented a Logistic Regression model to determine the causes for employee attrition, and predict when employees are going to leave a company, and assessed the performance of model."
   ]
  },
  {
   "cell_type": "markdown",
   "metadata": {},
   "source": [
    "### Part 1"
   ]
  },
  {
   "cell_type": "code",
   "execution_count": 1,
   "metadata": {},
   "outputs": [],
   "source": [
    "#!pip install imblearn -U\n",
    "#!pip install sklearn"
   ]
  },
  {
   "cell_type": "markdown",
   "metadata": {},
   "source": [
    "### Importing Packages"
   ]
  },
  {
   "cell_type": "code",
   "execution_count": 2,
   "metadata": {},
   "outputs": [],
   "source": [
    "import numpy as np\n",
    "import pandas as pd\n",
    "import os\n",
    "import seaborn as sns\n",
    "import pylab \n",
    "import statsmodels.api as sm\n",
    "import warnings\n",
    "warnings.filterwarnings('ignore')\n",
    "from imblearn.over_sampling import SMOTE\n",
    "\n",
    "from sklearn.model_selection import train_test_split,cross_val_predict,cross_val_score\n",
    "from scipy import stats\n",
    "from sklearn import datasets\n",
    "from sklearn import linear_model\n",
    "from sklearn.metrics import roc_auc_score,make_scorer,classification_report,roc_curve,auc\n",
    "from sklearn.linear_model import LogisticRegression\n",
    "from sklearn import metrics\n",
    "from sklearn.metrics import confusion_matrix\n",
    "from sklearn.feature_selection import RFE\n",
    "from sklearn.linear_model import LogisticRegression\n",
    "from sklearn.linear_model import LinearRegression\n",
    "from sklearn.metrics import accuracy_score\n",
    "from sklearn.neighbors import KNeighborsClassifier\n",
    "from sklearn.preprocessing import PolynomialFeatures\n",
    "from sklearn.preprocessing import LabelEncoder\n",
    "from sklearn.model_selection import train_test_split\n",
    "from sklearn.metrics import mean_squared_error, r2_score\n",
    "\n",
    "from matplotlib import pyplot as plt\n",
    "from matplotlib.ticker import PercentFormatter\n",
    "\n",
    "from pylab import rcParams\n",
    "\n",
    "rcParams['figure.figsize'] = (23, 8)\n",
    "sns.set_style('whitegrid')\n",
    "plt.style.use('seaborn-whitegrid')"
   ]
  },
  {
   "cell_type": "markdown",
   "metadata": {},
   "source": [
    "### Acquiring Data and Performing Modifications"
   ]
  },
  {
   "cell_type": "code",
   "execution_count": 3,
   "metadata": {},
   "outputs": [],
   "source": [
    "data_path=\"https://docs.google.com/spreadsheets/d/e/2PACX-1vQZvx0T8KIdTjHPYIfQxIjHS99EL5NFsWWnYw_zDbQ_sqSpdf7_txf36_aETKnWojgqbBd7A3sDketf/pub?gid=2043645550&single=true&output=csv\"\n",
    "ad= pd.read_csv(data_path)"
   ]
  },
  {
   "cell_type": "code",
   "execution_count": 4,
   "metadata": {},
   "outputs": [
    {
     "data": {
      "text/html": [
       "<div>\n",
       "<style scoped>\n",
       "    .dataframe tbody tr th:only-of-type {\n",
       "        vertical-align: middle;\n",
       "    }\n",
       "\n",
       "    .dataframe tbody tr th {\n",
       "        vertical-align: top;\n",
       "    }\n",
       "\n",
       "    .dataframe thead th {\n",
       "        text-align: right;\n",
       "    }\n",
       "</style>\n",
       "<table border=\"1\" class=\"dataframe\">\n",
       "  <thead>\n",
       "    <tr style=\"text-align: right;\">\n",
       "      <th></th>\n",
       "      <th>employee_satisfaction</th>\n",
       "      <th>last_performance_rating</th>\n",
       "      <th>workload</th>\n",
       "      <th>avg_montly_hours</th>\n",
       "      <th>tenure_years</th>\n",
       "      <th>ergo_issues</th>\n",
       "      <th>attrit</th>\n",
       "      <th>promo_in_last_5_years</th>\n",
       "      <th>dept</th>\n",
       "      <th>salary</th>\n",
       "    </tr>\n",
       "  </thead>\n",
       "  <tbody>\n",
       "    <tr>\n",
       "      <td>0</td>\n",
       "      <td>0.82</td>\n",
       "      <td>0.97</td>\n",
       "      <td>3</td>\n",
       "      <td>244</td>\n",
       "      <td>5</td>\n",
       "      <td>0</td>\n",
       "      <td>0</td>\n",
       "      <td>0</td>\n",
       "      <td>SALES</td>\n",
       "      <td>MEDIUM</td>\n",
       "    </tr>\n",
       "    <tr>\n",
       "      <td>1</td>\n",
       "      <td>0.75</td>\n",
       "      <td>0.81</td>\n",
       "      <td>2</td>\n",
       "      <td>247</td>\n",
       "      <td>4</td>\n",
       "      <td>0</td>\n",
       "      <td>0</td>\n",
       "      <td>0</td>\n",
       "      <td>HR</td>\n",
       "      <td>SMALL</td>\n",
       "    </tr>\n",
       "  </tbody>\n",
       "</table>\n",
       "</div>"
      ],
      "text/plain": [
       "   employee_satisfaction  last_performance_rating  workload  avg_montly_hours  \\\n",
       "0                   0.82                     0.97         3               244   \n",
       "1                   0.75                     0.81         2               247   \n",
       "\n",
       "   tenure_years  ergo_issues  attrit  promo_in_last_5_years   dept  salary  \n",
       "0             5            0       0                      0  SALES  MEDIUM  \n",
       "1             4            0       0                      0     HR   SMALL  "
      ]
     },
     "execution_count": 4,
     "metadata": {},
     "output_type": "execute_result"
    }
   ],
   "source": [
    "ad.head(2)"
   ]
  },
  {
   "cell_type": "code",
   "execution_count": 5,
   "metadata": {},
   "outputs": [
    {
     "data": {
      "text/html": [
       "<div>\n",
       "<style scoped>\n",
       "    .dataframe tbody tr th:only-of-type {\n",
       "        vertical-align: middle;\n",
       "    }\n",
       "\n",
       "    .dataframe tbody tr th {\n",
       "        vertical-align: top;\n",
       "    }\n",
       "\n",
       "    .dataframe thead th {\n",
       "        text-align: right;\n",
       "    }\n",
       "</style>\n",
       "<table border=\"1\" class=\"dataframe\">\n",
       "  <thead>\n",
       "    <tr style=\"text-align: right;\">\n",
       "      <th></th>\n",
       "      <th>employee_satisfaction</th>\n",
       "      <th>last_performance_rating</th>\n",
       "      <th>workload</th>\n",
       "      <th>avg_montly_hours</th>\n",
       "      <th>tenure_years</th>\n",
       "      <th>ergo_issues</th>\n",
       "      <th>attrit</th>\n",
       "      <th>promo_in_last_5_years</th>\n",
       "      <th>dept</th>\n",
       "      <th>salary</th>\n",
       "    </tr>\n",
       "  </thead>\n",
       "  <tbody>\n",
       "    <tr>\n",
       "      <td>11247</td>\n",
       "      <td>0.98</td>\n",
       "      <td>0.67</td>\n",
       "      <td>4</td>\n",
       "      <td>209</td>\n",
       "      <td>6</td>\n",
       "      <td>0</td>\n",
       "      <td>0</td>\n",
       "      <td>0</td>\n",
       "      <td>MKT</td>\n",
       "      <td>SMALL</td>\n",
       "    </tr>\n",
       "    <tr>\n",
       "      <td>11248</td>\n",
       "      <td>0.75</td>\n",
       "      <td>0.69</td>\n",
       "      <td>3</td>\n",
       "      <td>242</td>\n",
       "      <td>3</td>\n",
       "      <td>0</td>\n",
       "      <td>0</td>\n",
       "      <td>0</td>\n",
       "      <td>SALES</td>\n",
       "      <td>LARGE</td>\n",
       "    </tr>\n",
       "  </tbody>\n",
       "</table>\n",
       "</div>"
      ],
      "text/plain": [
       "       employee_satisfaction  last_performance_rating  workload  \\\n",
       "11247                   0.98                     0.67         4   \n",
       "11248                   0.75                     0.69         3   \n",
       "\n",
       "       avg_montly_hours  tenure_years  ergo_issues  attrit  \\\n",
       "11247               209             6            0       0   \n",
       "11248               242             3            0       0   \n",
       "\n",
       "       promo_in_last_5_years   dept salary  \n",
       "11247                      0    MKT  SMALL  \n",
       "11248                      0  SALES  LARGE  "
      ]
     },
     "execution_count": 5,
     "metadata": {},
     "output_type": "execute_result"
    }
   ],
   "source": [
    "ad.tail(2)"
   ]
  },
  {
   "cell_type": "markdown",
   "metadata": {},
   "source": [
    "## Column List\n",
    "#### employee_satisfaction - satisfaction of the employee between 0 to 1.\n",
    "#### last_performance_rating - rating of the employee between 0 to 1\n",
    "#### workload - range between 2 to 8\n",
    "#### avg_montly_hours - The count of monthly average hours of each employee.\n",
    "#### tenure_years - number of years the employee has been working in the company.\n",
    "#### ergo_issues - binary values, 0= no issues, 1= employee has issues.\n",
    "#### attrit - 1 if employee has left the company and 0 if not left the company.\n",
    "#### promo_in_last_5_years - 1 for yes promotion and 0 for no promotion in the last 5 years\n",
    "#### dept -  10 different departments \n",
    "#### salary - 3 categories i.e small, medium and large for salary of employee."
   ]
  },
  {
   "cell_type": "markdown",
   "metadata": {},
   "source": [
    "#### Checking for missing values"
   ]
  },
  {
   "cell_type": "code",
   "execution_count": 6,
   "metadata": {},
   "outputs": [
    {
     "data": {
      "text/plain": [
       "employee_satisfaction      0.0\n",
       "last_performance_rating    0.0\n",
       "workload                   0.0\n",
       "avg_montly_hours           0.0\n",
       "tenure_years               0.0\n",
       "ergo_issues                0.0\n",
       "attrit                     0.0\n",
       "promo_in_last_5_years      0.0\n",
       "dept                       0.0\n",
       "salary                     0.0\n",
       "dtype: float64"
      ]
     },
     "execution_count": 6,
     "metadata": {},
     "output_type": "execute_result"
    }
   ],
   "source": [
    "round(100*(ad.isnull().sum()/len(ad.index)), 2)"
   ]
  },
  {
   "cell_type": "markdown",
   "metadata": {},
   "source": [
    "#### No Missing Values found in the data"
   ]
  },
  {
   "cell_type": "code",
   "execution_count": 7,
   "metadata": {},
   "outputs": [
    {
     "data": {
      "text/plain": [
       "['employee_satisfaction',\n",
       " 'last_performance_rating',\n",
       " 'workload',\n",
       " 'avg_montly_hours',\n",
       " 'tenure_years',\n",
       " 'ergo_issues',\n",
       " 'attrit',\n",
       " 'promo_in_last_5_years',\n",
       " 'dept',\n",
       " 'salary']"
      ]
     },
     "execution_count": 7,
     "metadata": {},
     "output_type": "execute_result"
    }
   ],
   "source": [
    "list(ad)"
   ]
  },
  {
   "cell_type": "code",
   "execution_count": 8,
   "metadata": {},
   "outputs": [
    {
     "data": {
      "text/plain": [
       "ergo_issues                  2\n",
       "attrit                       2\n",
       "promo_in_last_5_years        2\n",
       "salary                       3\n",
       "workload                     6\n",
       "tenure_years                 8\n",
       "dept                        10\n",
       "last_performance_rating     65\n",
       "employee_satisfaction       92\n",
       "avg_montly_hours           215\n",
       "dtype: int64"
      ]
     },
     "execution_count": 8,
     "metadata": {},
     "output_type": "execute_result"
    }
   ],
   "source": [
    "Nunique = ad.nunique()\n",
    "Nunique = Nunique.sort_values()\n",
    "Nunique"
   ]
  },
  {
   "cell_type": "markdown",
   "metadata": {},
   "source": [
    "### Describing Quantitative Variables"
   ]
  },
  {
   "cell_type": "code",
   "execution_count": 9,
   "metadata": {
    "scrolled": true
   },
   "outputs": [
    {
     "data": {
      "text/html": [
       "<div>\n",
       "<style scoped>\n",
       "    .dataframe tbody tr th:only-of-type {\n",
       "        vertical-align: middle;\n",
       "    }\n",
       "\n",
       "    .dataframe tbody tr th {\n",
       "        vertical-align: top;\n",
       "    }\n",
       "\n",
       "    .dataframe thead th {\n",
       "        text-align: right;\n",
       "    }\n",
       "</style>\n",
       "<table border=\"1\" class=\"dataframe\">\n",
       "  <thead>\n",
       "    <tr style=\"text-align: right;\">\n",
       "      <th></th>\n",
       "      <th>employee_satisfaction</th>\n",
       "      <th>last_performance_rating</th>\n",
       "      <th>workload</th>\n",
       "      <th>avg_montly_hours</th>\n",
       "      <th>tenure_years</th>\n",
       "      <th>ergo_issues</th>\n",
       "      <th>attrit</th>\n",
       "      <th>promo_in_last_5_years</th>\n",
       "    </tr>\n",
       "  </thead>\n",
       "  <tbody>\n",
       "    <tr>\n",
       "      <td>count</td>\n",
       "      <td>11249.000000</td>\n",
       "      <td>11249.000000</td>\n",
       "      <td>11249.000000</td>\n",
       "      <td>11249.000000</td>\n",
       "      <td>11249.000000</td>\n",
       "      <td>11249.000000</td>\n",
       "      <td>11249.000000</td>\n",
       "      <td>11249.000000</td>\n",
       "    </tr>\n",
       "    <tr>\n",
       "      <td>mean</td>\n",
       "      <td>0.612957</td>\n",
       "      <td>0.716225</td>\n",
       "      <td>3.799716</td>\n",
       "      <td>201.176727</td>\n",
       "      <td>3.499600</td>\n",
       "      <td>0.144991</td>\n",
       "      <td>0.239577</td>\n",
       "      <td>0.021869</td>\n",
       "    </tr>\n",
       "    <tr>\n",
       "      <td>std</td>\n",
       "      <td>0.248235</td>\n",
       "      <td>0.171378</td>\n",
       "      <td>1.232190</td>\n",
       "      <td>50.058105</td>\n",
       "      <td>1.469892</td>\n",
       "      <td>0.352107</td>\n",
       "      <td>0.426844</td>\n",
       "      <td>0.146261</td>\n",
       "    </tr>\n",
       "    <tr>\n",
       "      <td>min</td>\n",
       "      <td>0.090000</td>\n",
       "      <td>0.360000</td>\n",
       "      <td>2.000000</td>\n",
       "      <td>96.000000</td>\n",
       "      <td>2.000000</td>\n",
       "      <td>0.000000</td>\n",
       "      <td>0.000000</td>\n",
       "      <td>0.000000</td>\n",
       "    </tr>\n",
       "    <tr>\n",
       "      <td>25%</td>\n",
       "      <td>0.440000</td>\n",
       "      <td>0.560000</td>\n",
       "      <td>3.000000</td>\n",
       "      <td>156.000000</td>\n",
       "      <td>3.000000</td>\n",
       "      <td>0.000000</td>\n",
       "      <td>0.000000</td>\n",
       "      <td>0.000000</td>\n",
       "    </tr>\n",
       "    <tr>\n",
       "      <td>50%</td>\n",
       "      <td>0.640000</td>\n",
       "      <td>0.720000</td>\n",
       "      <td>4.000000</td>\n",
       "      <td>201.000000</td>\n",
       "      <td>3.000000</td>\n",
       "      <td>0.000000</td>\n",
       "      <td>0.000000</td>\n",
       "      <td>0.000000</td>\n",
       "    </tr>\n",
       "    <tr>\n",
       "      <td>75%</td>\n",
       "      <td>0.820000</td>\n",
       "      <td>0.870000</td>\n",
       "      <td>5.000000</td>\n",
       "      <td>245.000000</td>\n",
       "      <td>4.000000</td>\n",
       "      <td>0.000000</td>\n",
       "      <td>0.000000</td>\n",
       "      <td>0.000000</td>\n",
       "    </tr>\n",
       "    <tr>\n",
       "      <td>max</td>\n",
       "      <td>1.000000</td>\n",
       "      <td>1.000000</td>\n",
       "      <td>7.000000</td>\n",
       "      <td>310.000000</td>\n",
       "      <td>10.000000</td>\n",
       "      <td>1.000000</td>\n",
       "      <td>1.000000</td>\n",
       "      <td>1.000000</td>\n",
       "    </tr>\n",
       "  </tbody>\n",
       "</table>\n",
       "</div>"
      ],
      "text/plain": [
       "       employee_satisfaction  last_performance_rating      workload  \\\n",
       "count           11249.000000             11249.000000  11249.000000   \n",
       "mean                0.612957                 0.716225      3.799716   \n",
       "std                 0.248235                 0.171378      1.232190   \n",
       "min                 0.090000                 0.360000      2.000000   \n",
       "25%                 0.440000                 0.560000      3.000000   \n",
       "50%                 0.640000                 0.720000      4.000000   \n",
       "75%                 0.820000                 0.870000      5.000000   \n",
       "max                 1.000000                 1.000000      7.000000   \n",
       "\n",
       "       avg_montly_hours  tenure_years   ergo_issues        attrit  \\\n",
       "count      11249.000000  11249.000000  11249.000000  11249.000000   \n",
       "mean         201.176727      3.499600      0.144991      0.239577   \n",
       "std           50.058105      1.469892      0.352107      0.426844   \n",
       "min           96.000000      2.000000      0.000000      0.000000   \n",
       "25%          156.000000      3.000000      0.000000      0.000000   \n",
       "50%          201.000000      3.000000      0.000000      0.000000   \n",
       "75%          245.000000      4.000000      0.000000      0.000000   \n",
       "max          310.000000     10.000000      1.000000      1.000000   \n",
       "\n",
       "       promo_in_last_5_years  \n",
       "count           11249.000000  \n",
       "mean                0.021869  \n",
       "std                 0.146261  \n",
       "min                 0.000000  \n",
       "25%                 0.000000  \n",
       "50%                 0.000000  \n",
       "75%                 0.000000  \n",
       "max                 1.000000  "
      ]
     },
     "execution_count": 9,
     "metadata": {},
     "output_type": "execute_result"
    }
   ],
   "source": [
    "ad.describe()"
   ]
  },
  {
   "cell_type": "markdown",
   "metadata": {},
   "source": [
    "<ul>\n",
    "<li>From the table above, it provides useful information:</li>\n",
    "<li>Approximately 24% of the employees have left the firm, which is quite a huge loss to the company.</li>\n",
    "<li>On an average the employees got a score of 0.71 which is quite good and the standard deviation is low. Even though the high evaluation score look good, the high attrition rate might imply that there may be other reasons that lead to the attrition of employee.</li>\n",
    "<li>There are only few exployee got promotion and had work accident, they may not be the factors of employee attrition.</li>\n",
    "<li>The satisfaction of employee is only 0.61, which is relatively low. We need to dig more into it to find out if there is relation with attrition.</li>\n",
    "    </ul>"
   ]
  },
  {
   "cell_type": "markdown",
   "metadata": {},
   "source": [
    "### Explore the data for only those who left the firm"
   ]
  },
  {
   "cell_type": "code",
   "execution_count": 10,
   "metadata": {},
   "outputs": [
    {
     "data": {
      "text/html": [
       "<div>\n",
       "<style scoped>\n",
       "    .dataframe tbody tr th:only-of-type {\n",
       "        vertical-align: middle;\n",
       "    }\n",
       "\n",
       "    .dataframe tbody tr th {\n",
       "        vertical-align: top;\n",
       "    }\n",
       "\n",
       "    .dataframe thead th {\n",
       "        text-align: right;\n",
       "    }\n",
       "</style>\n",
       "<table border=\"1\" class=\"dataframe\">\n",
       "  <thead>\n",
       "    <tr style=\"text-align: right;\">\n",
       "      <th></th>\n",
       "      <th>employee_satisfaction</th>\n",
       "      <th>last_performance_rating</th>\n",
       "      <th>workload</th>\n",
       "      <th>avg_montly_hours</th>\n",
       "      <th>tenure_years</th>\n",
       "      <th>ergo_issues</th>\n",
       "      <th>attrit</th>\n",
       "      <th>promo_in_last_5_years</th>\n",
       "    </tr>\n",
       "  </thead>\n",
       "  <tbody>\n",
       "    <tr>\n",
       "      <td>count</td>\n",
       "      <td>2695.000000</td>\n",
       "      <td>2695.000000</td>\n",
       "      <td>2695.000000</td>\n",
       "      <td>2695.000000</td>\n",
       "      <td>2695.000000</td>\n",
       "      <td>2695.000000</td>\n",
       "      <td>2695.0</td>\n",
       "      <td>2695.000000</td>\n",
       "    </tr>\n",
       "    <tr>\n",
       "      <td>mean</td>\n",
       "      <td>0.441080</td>\n",
       "      <td>0.719837</td>\n",
       "      <td>3.863451</td>\n",
       "      <td>208.086456</td>\n",
       "      <td>3.881633</td>\n",
       "      <td>0.048237</td>\n",
       "      <td>1.0</td>\n",
       "      <td>0.004082</td>\n",
       "    </tr>\n",
       "    <tr>\n",
       "      <td>std</td>\n",
       "      <td>0.264924</td>\n",
       "      <td>0.197608</td>\n",
       "      <td>1.812862</td>\n",
       "      <td>61.118062</td>\n",
       "      <td>0.976571</td>\n",
       "      <td>0.214307</td>\n",
       "      <td>0.0</td>\n",
       "      <td>0.063769</td>\n",
       "    </tr>\n",
       "    <tr>\n",
       "      <td>min</td>\n",
       "      <td>0.090000</td>\n",
       "      <td>0.450000</td>\n",
       "      <td>2.000000</td>\n",
       "      <td>126.000000</td>\n",
       "      <td>2.000000</td>\n",
       "      <td>0.000000</td>\n",
       "      <td>1.0</td>\n",
       "      <td>0.000000</td>\n",
       "    </tr>\n",
       "    <tr>\n",
       "      <td>25%</td>\n",
       "      <td>0.120000</td>\n",
       "      <td>0.520000</td>\n",
       "      <td>2.000000</td>\n",
       "      <td>147.000000</td>\n",
       "      <td>3.000000</td>\n",
       "      <td>0.000000</td>\n",
       "      <td>1.0</td>\n",
       "      <td>0.000000</td>\n",
       "    </tr>\n",
       "    <tr>\n",
       "      <td>50%</td>\n",
       "      <td>0.410000</td>\n",
       "      <td>0.790000</td>\n",
       "      <td>4.000000</td>\n",
       "      <td>226.000000</td>\n",
       "      <td>4.000000</td>\n",
       "      <td>0.000000</td>\n",
       "      <td>1.0</td>\n",
       "      <td>0.000000</td>\n",
       "    </tr>\n",
       "    <tr>\n",
       "      <td>75%</td>\n",
       "      <td>0.730000</td>\n",
       "      <td>0.900000</td>\n",
       "      <td>6.000000</td>\n",
       "      <td>262.000000</td>\n",
       "      <td>5.000000</td>\n",
       "      <td>0.000000</td>\n",
       "      <td>1.0</td>\n",
       "      <td>0.000000</td>\n",
       "    </tr>\n",
       "    <tr>\n",
       "      <td>max</td>\n",
       "      <td>0.920000</td>\n",
       "      <td>1.000000</td>\n",
       "      <td>7.000000</td>\n",
       "      <td>310.000000</td>\n",
       "      <td>6.000000</td>\n",
       "      <td>1.000000</td>\n",
       "      <td>1.0</td>\n",
       "      <td>1.000000</td>\n",
       "    </tr>\n",
       "  </tbody>\n",
       "</table>\n",
       "</div>"
      ],
      "text/plain": [
       "       employee_satisfaction  last_performance_rating     workload  \\\n",
       "count            2695.000000              2695.000000  2695.000000   \n",
       "mean                0.441080                 0.719837     3.863451   \n",
       "std                 0.264924                 0.197608     1.812862   \n",
       "min                 0.090000                 0.450000     2.000000   \n",
       "25%                 0.120000                 0.520000     2.000000   \n",
       "50%                 0.410000                 0.790000     4.000000   \n",
       "75%                 0.730000                 0.900000     6.000000   \n",
       "max                 0.920000                 1.000000     7.000000   \n",
       "\n",
       "       avg_montly_hours  tenure_years  ergo_issues  attrit  \\\n",
       "count       2695.000000   2695.000000  2695.000000  2695.0   \n",
       "mean         208.086456      3.881633     0.048237     1.0   \n",
       "std           61.118062      0.976571     0.214307     0.0   \n",
       "min          126.000000      2.000000     0.000000     1.0   \n",
       "25%          147.000000      3.000000     0.000000     1.0   \n",
       "50%          226.000000      4.000000     0.000000     1.0   \n",
       "75%          262.000000      5.000000     0.000000     1.0   \n",
       "max          310.000000      6.000000     1.000000     1.0   \n",
       "\n",
       "       promo_in_last_5_years  \n",
       "count            2695.000000  \n",
       "mean                0.004082  \n",
       "std                 0.063769  \n",
       "min                 0.000000  \n",
       "25%                 0.000000  \n",
       "50%                 0.000000  \n",
       "75%                 0.000000  \n",
       "max                 1.000000  "
      ]
     },
     "execution_count": 10,
     "metadata": {},
     "output_type": "execute_result"
    }
   ],
   "source": [
    "attrit_df = ad[ad['attrit']==1]\n",
    "attrit_df.describe()"
   ]
  },
  {
   "cell_type": "markdown",
   "metadata": {},
   "source": [
    "<ul>\n",
    "<li>The table shows some information about the employees who left the company:</li>\n",
    "<li>The employees who left the firm have performed marginally better than the average employee, which is quite weird we need more exploration.</li>\n",
    "<li>These employees have a much less level of satisfaction.</li>\n",
    "<li>Other factors seem quite balanced, these employees:</li>\n",
    "<li>Spent almost the same amount of time each day in the office.</li>\n",
    "<li>Were alloted equally as many projects as everyone else.</li>\n",
    "<li>Spent almost the same years at the workplace as everyone else.</li>\n",
    "<li>The propotion of work accident and promotion are still low, do not have big impact on attrition.</li>\n",
    "    </ul>"
   ]
  },
  {
   "cell_type": "code",
   "execution_count": 14,
   "metadata": {},
   "outputs": [
    {
     "name": "stdout",
     "output_type": "stream",
     "text": [
      "(11249, 10)\n",
      "['employee_satisfaction', 'last_performance_rating', 'workload', 'avg_montly_hours', 'tenure_years', 'ergo_issues', 'attrit', 'promo_in_last_5_years', 'dept', 'salary']\n"
     ]
    }
   ],
   "source": [
    "print(ad.shape)\n",
    "print(list(ad.columns))"
   ]
  },
  {
   "cell_type": "markdown",
   "metadata": {},
   "source": [
    "### Heat Map for all the variables"
   ]
  },
  {
   "cell_type": "code",
   "execution_count": 51,
   "metadata": {},
   "outputs": [
    {
     "data": {
      "image/png": "[encoded data removed]",
      "text/plain": [
       "<Figure size 1296x1296 with 2 Axes>"
      ]
     },
     "metadata": {
      "needs_background": "light"
     },
     "output_type": "display_data"
    }
   ],
   "source": [
    "f,ax=plt.subplots(figsize=(18,18))\n",
    "sns.heatmap(ad.corr(),annot=True,linewidths=0.5,linecolor=\"green\",fmt=\".1f\",ax=ax)\n",
    "plt.show()"
   ]
  },
  {
   "cell_type": "markdown",
   "metadata": {},
   "source": [
    "<ul>\n",
    "<li>From the heat map, we can find:</li>\n",
    "<li>The workload and the average monthly hours worked by an employee and their last_perf are positively co-related.</li>\n",
    "<li>The level of satisfaction and 'attrit' variables are negatively co-related which further leads evidence to our previous hypothesis.</li>\n",
    "<li>Other than those none of the features show a co-relation high enough to mean something.</li>\n",
    "    </ul>"
   ]
  },
  {
   "cell_type": "markdown",
   "metadata": {},
   "source": [
    "### Plotting countplots for the categorical variables"
   ]
  },
  {
   "cell_type": "markdown",
   "metadata": {},
   "source": [
    "### Explore the relation among attrit, salary and department"
   ]
  },
  {
   "cell_type": "markdown",
   "metadata": {},
   "source": [
    "#### Find the propotion of attrition of different salary level"
   ]
  },
  {
   "cell_type": "code",
   "execution_count": 13,
   "metadata": {},
   "outputs": [
    {
     "data": {
      "text/plain": [
       "Text(0, 0.5, 'Salary Level')"
      ]
     },
     "execution_count": 13,
     "metadata": {},
     "output_type": "execute_result"
    },
    {
     "data": {
      "image/png": "[encoded data removed]",
      "text/plain": [
       "<Figure size 792x432 with 1 Axes>"
      ]
     },
     "metadata": {
      "needs_background": "light"
     },
     "output_type": "display_data"
    }
   ],
   "source": [
    "import pylab as pl\n",
    "from matplotlib.ticker import PercentFormatter\n",
    "\n",
    "table = pd.crosstab(ad.salary, ad.attrit)\n",
    "table.div(table.sum(1).astype(float), axis = 0).plot(kind = 'bar', stacked = True, colormap = 'tab20c', figsize=(11,6))\n",
    "pl.xticks(rotation=360)\n",
    "plt.title('Salary Level vs Attrition', fontsize=22)\n",
    "plt.xlabel('Proportion of Employees', fontsize=16)\n",
    "plt.ylabel('Salary Level', fontsize=16)"
   ]
  },
  {
   "cell_type": "markdown",
   "metadata": {},
   "source": [
    "- The proportion of the employees attrition depend a great deal on their salary level; hence, salary level can be a good predictor in predicting the outcome.\n",
    "- Small salary level employees have the highest probability to quit the job."
   ]
  },
  {
   "cell_type": "code",
   "execution_count": 15,
   "metadata": {},
   "outputs": [
    {
     "data": {
      "image/png": "[encoded data removed]",
      "text/plain": [
       "<Figure size 1440x1440 with 6 Axes>"
      ]
     },
     "metadata": {
      "needs_background": "light"
     },
     "output_type": "display_data"
    }
   ],
   "source": [
    "fig,ax = plt.subplots(2,3, figsize=(20,20))            \n",
    "plt.suptitle(\"Distribution of various factors\", fontsize=20)\n",
    "sns.countplot(ad['salary'], ax = ax[0,0]) \n",
    "sns.countplot(ad['tenure_years'], ax = ax[0,1]) \n",
    "sns.countplot(ad['last_performance_rating'], ax = ax[0,2]) \n",
    "sns.countplot(ad['promo_in_last_5_years'], ax = ax[1,0])\n",
    "sns.countplot(ad['employee_satisfaction'], ax = ax[1,1])  \n",
    "sns.countplot(ad['avg_montly_hours'], ax = ax[1,2])  \n",
    "plt.xticks(rotation=20)\n",
    "plt.subplots_adjust(bottom=0.4)\n",
    "plt.show()"
   ]
  },
  {
   "cell_type": "code",
   "execution_count": 16,
   "metadata": {},
   "outputs": [
    {
     "data": {
      "text/plain": [
       "0    0\n",
       "1    0\n",
       "2    0\n",
       "3    0\n",
       "4    0\n",
       "5    0\n",
       "6    0\n",
       "7    1\n",
       "Name: attrit, dtype: int64"
      ]
     },
     "execution_count": 16,
     "metadata": {},
     "output_type": "execute_result"
    }
   ],
   "source": [
    "ad.attrit.head(8)"
   ]
  },
  {
   "cell_type": "markdown",
   "metadata": {},
   "source": [
    "#### Note that the number of observations belonging to the '0' category is way greater than that belonging to '1' category. "
   ]
  },
  {
   "cell_type": "markdown",
   "metadata": {},
   "source": [
    "### Countplot to describe attrition:"
   ]
  },
  {
   "cell_type": "code",
   "execution_count": 17,
   "metadata": {},
   "outputs": [
    {
     "data": {
      "image/png": "[encoded data removed]",
      "text/plain": [
       "<Figure size 432x288 with 1 Axes>"
      ]
     },
     "metadata": {
      "needs_background": "light"
     },
     "output_type": "display_data"
    }
   ],
   "source": [
    "ad.attrit.value_counts()\n",
    "sns.countplot(x = 'attrit', data = ad, palette = 'Paired')\n",
    "plt.show()"
   ]
  },
  {
   "cell_type": "code",
   "execution_count": 18,
   "metadata": {},
   "outputs": [
    {
     "data": {
      "text/plain": [
       "0    0.760423\n",
       "1    0.239577\n",
       "Name: attrit, dtype: float64"
      ]
     },
     "execution_count": 18,
     "metadata": {},
     "output_type": "execute_result"
    }
   ],
   "source": [
    "AttritionRate=ad.attrit.value_counts()/len(ad)\n",
    "AttritionRate"
   ]
  },
  {
   "cell_type": "markdown",
   "metadata": {},
   "source": [
    "#### Looks like about 76% of employees stayed with the company and only 24% of employees left."
   ]
  },
  {
   "cell_type": "markdown",
   "metadata": {},
   "source": [
    "## Overview of summary (Attrition V.S. Non-Attrition)"
   ]
  },
  {
   "cell_type": "code",
   "execution_count": 52,
   "metadata": {},
   "outputs": [
    {
     "data": {
      "text/html": [
       "<div>\n",
       "<style scoped>\n",
       "    .dataframe tbody tr th:only-of-type {\n",
       "        vertical-align: middle;\n",
       "    }\n",
       "\n",
       "    .dataframe tbody tr th {\n",
       "        vertical-align: top;\n",
       "    }\n",
       "\n",
       "    .dataframe thead th {\n",
       "        text-align: right;\n",
       "    }\n",
       "</style>\n",
       "<table border=\"1\" class=\"dataframe\">\n",
       "  <thead>\n",
       "    <tr style=\"text-align: right;\">\n",
       "      <th></th>\n",
       "      <th>employee_satisfaction</th>\n",
       "      <th>last_performance_rating</th>\n",
       "      <th>workload</th>\n",
       "      <th>avg_montly_hours</th>\n",
       "      <th>tenure_years</th>\n",
       "      <th>ergo_issues</th>\n",
       "      <th>promo_in_last_5_years</th>\n",
       "    </tr>\n",
       "    <tr>\n",
       "      <th>attrit</th>\n",
       "      <th></th>\n",
       "      <th></th>\n",
       "      <th></th>\n",
       "      <th></th>\n",
       "      <th></th>\n",
       "      <th></th>\n",
       "      <th></th>\n",
       "    </tr>\n",
       "  </thead>\n",
       "  <tbody>\n",
       "    <tr>\n",
       "      <td>0</td>\n",
       "      <td>0.667108</td>\n",
       "      <td>0.715087</td>\n",
       "      <td>3.779635</td>\n",
       "      <td>198.999766</td>\n",
       "      <td>3.379238</td>\n",
       "      <td>0.175473</td>\n",
       "      <td>0.027473</td>\n",
       "    </tr>\n",
       "    <tr>\n",
       "      <td>1</td>\n",
       "      <td>0.441080</td>\n",
       "      <td>0.719837</td>\n",
       "      <td>3.863451</td>\n",
       "      <td>208.086456</td>\n",
       "      <td>3.881633</td>\n",
       "      <td>0.048237</td>\n",
       "      <td>0.004082</td>\n",
       "    </tr>\n",
       "  </tbody>\n",
       "</table>\n",
       "</div>"
      ],
      "text/plain": [
       "        employee_satisfaction  last_performance_rating  workload  \\\n",
       "attrit                                                             \n",
       "0                    0.667108                 0.715087  3.779635   \n",
       "1                    0.441080                 0.719837  3.863451   \n",
       "\n",
       "        avg_montly_hours  tenure_years  ergo_issues  promo_in_last_5_years  \n",
       "attrit                                                                      \n",
       "0             198.999766      3.379238     0.175473               0.027473  \n",
       "1             208.086456      3.881633     0.048237               0.004082  "
      ]
     },
     "execution_count": 52,
     "metadata": {},
     "output_type": "execute_result"
    }
   ],
   "source": [
    "Attrition_Summary = ad.groupby('attrit')\n",
    "Attrition_Summary.mean()"
   ]
  },
  {
   "cell_type": "markdown",
   "metadata": {},
   "source": [
    "## Department\n",
    "\n",
    "### Find the frequency of attrition of department that employees work for"
   ]
  },
  {
   "cell_type": "code",
   "execution_count": 14,
   "metadata": {},
   "outputs": [
    {
     "data": {
      "text/plain": [
       "Text(0, 0.5, 'Frequency of Attrition')"
      ]
     },
     "execution_count": 14,
     "metadata": {},
     "output_type": "execute_result"
    },
    {
     "data": {
      "image/png": "[encoded data removed]",
      "text/plain": [
       "<Figure size 1296x504 with 1 Axes>"
      ]
     },
     "metadata": {},
     "output_type": "display_data"
    }
   ],
   "source": [
    "sns.set_style('darkgrid')\n",
    "plt.figure(figsize=(18,7))\n",
    "ax = sns.countplot(x = 'dept', hue = 'attrit', data = ad, palette = 'tab20')\n",
    "ax.set_title('Attrit Frequency for Department', fontsize=22)\n",
    "ax.set_xlabel('Department', fontsize=16)\n",
    "ax.set_ylabel('Frequency of Attrition', fontsize=16)"
   ]
  },
  {
   "cell_type": "markdown",
   "metadata": {},
   "source": [
    "- It is evident that the frequency of employees attrition depends a great deal on the department they work for. Thus, department can be a good predictor of the outcome variable.\n",
    "- The sales department has seen the highest level of attrition."
   ]
  },
  {
   "cell_type": "markdown",
   "metadata": {},
   "source": [
    "### Department wise attrition "
   ]
  },
  {
   "cell_type": "code",
   "execution_count": 27,
   "metadata": {},
   "outputs": [
    {
     "data": {
      "text/html": [
       "<div>\n",
       "<style scoped>\n",
       "    .dataframe tbody tr th:only-of-type {\n",
       "        vertical-align: middle;\n",
       "    }\n",
       "\n",
       "    .dataframe tbody tr th {\n",
       "        vertical-align: top;\n",
       "    }\n",
       "\n",
       "    .dataframe thead th {\n",
       "        text-align: right;\n",
       "    }\n",
       "</style>\n",
       "<table border=\"1\" class=\"dataframe\">\n",
       "  <thead>\n",
       "    <tr style=\"text-align: right;\">\n",
       "      <th>attrit</th>\n",
       "      <th>0</th>\n",
       "      <th>1</th>\n",
       "    </tr>\n",
       "    <tr>\n",
       "      <th>dept</th>\n",
       "      <th></th>\n",
       "      <th></th>\n",
       "    </tr>\n",
       "  </thead>\n",
       "  <tbody>\n",
       "    <tr>\n",
       "      <td>ADMIN</td>\n",
       "      <td>0.753883</td>\n",
       "      <td>0.246117</td>\n",
       "    </tr>\n",
       "    <tr>\n",
       "      <td>EXEC</td>\n",
       "      <td>0.865263</td>\n",
       "      <td>0.134737</td>\n",
       "    </tr>\n",
       "    <tr>\n",
       "      <td>FIN</td>\n",
       "      <td>0.732297</td>\n",
       "      <td>0.267703</td>\n",
       "    </tr>\n",
       "    <tr>\n",
       "      <td>HR</td>\n",
       "      <td>0.722523</td>\n",
       "      <td>0.277477</td>\n",
       "    </tr>\n",
       "    <tr>\n",
       "      <td>IS</td>\n",
       "      <td>0.773875</td>\n",
       "      <td>0.226125</td>\n",
       "    </tr>\n",
       "    <tr>\n",
       "      <td>MKT</td>\n",
       "      <td>0.777080</td>\n",
       "      <td>0.222920</td>\n",
       "    </tr>\n",
       "    <tr>\n",
       "      <td>PM</td>\n",
       "      <td>0.772727</td>\n",
       "      <td>0.227273</td>\n",
       "    </tr>\n",
       "    <tr>\n",
       "      <td>RTD</td>\n",
       "      <td>0.842382</td>\n",
       "      <td>0.157618</td>\n",
       "    </tr>\n",
       "    <tr>\n",
       "      <td>SALES</td>\n",
       "      <td>0.749516</td>\n",
       "      <td>0.250484</td>\n",
       "    </tr>\n",
       "    <tr>\n",
       "      <td>TECH</td>\n",
       "      <td>0.738268</td>\n",
       "      <td>0.261732</td>\n",
       "    </tr>\n",
       "    <tr>\n",
       "      <td>All</td>\n",
       "      <td>0.760423</td>\n",
       "      <td>0.239577</td>\n",
       "    </tr>\n",
       "  </tbody>\n",
       "</table>\n",
       "</div>"
      ],
      "text/plain": [
       "attrit         0         1\n",
       "dept                      \n",
       "ADMIN   0.753883  0.246117\n",
       "EXEC    0.865263  0.134737\n",
       "FIN     0.732297  0.267703\n",
       "HR      0.722523  0.277477\n",
       "IS      0.773875  0.226125\n",
       "MKT     0.777080  0.222920\n",
       "PM      0.772727  0.227273\n",
       "RTD     0.842382  0.157618\n",
       "SALES   0.749516  0.250484\n",
       "TECH    0.738268  0.261732\n",
       "All     0.760423  0.239577"
      ]
     },
     "execution_count": 27,
     "metadata": {},
     "output_type": "execute_result"
    }
   ],
   "source": [
    "pd.crosstab(columns=[ad.attrit],index=[ad.dept],margins=True,normalize='index') # set normalize=index to view rowwise %."
   ]
  },
  {
   "cell_type": "markdown",
   "metadata": {},
   "source": [
    "#### From the above crosstab, we can see that about 75 % of the people in Administration department dont want to leave the organisation and only 24% want to leave. Similar conclusions can be drawn for other departments too from the above cross-tabulation."
   ]
  },
  {
   "cell_type": "code",
   "execution_count": 54,
   "metadata": {},
   "outputs": [
    {
     "data": {
      "text/plain": [
       "dept\n",
       "SALES    776\n",
       "TECH     541\n",
       "ADMIN    412\n",
       "IS       206\n",
       "PM       155\n",
       "FIN      155\n",
       "HR       154\n",
       "MKT      142\n",
       "RTD       90\n",
       "EXEC      64\n",
       "Name: attrit, dtype: int64"
      ]
     },
     "execution_count": 54,
     "metadata": {},
     "output_type": "execute_result"
    }
   ],
   "source": [
    "ad.groupby(by= 'dept').sum()['attrit'].sort_values(ascending= False).head(25)"
   ]
  },
  {
   "cell_type": "markdown",
   "metadata": {},
   "source": [
    "#### 1. We can see that, Majority of the employees have left from the Sales Department followed by the TECH department. \n",
    "#### 2. EXEC has the less attrition rate."
   ]
  },
  {
   "cell_type": "markdown",
   "metadata": {},
   "source": [
    "### Average Monthly Hours"
   ]
  },
  {
   "cell_type": "code",
   "execution_count": 22,
   "metadata": {},
   "outputs": [
    {
     "data": {
      "text/plain": [
       "<seaborn.axisgrid.FacetGrid at 0x1c20533590>"
      ]
     },
     "execution_count": 22,
     "metadata": {},
     "output_type": "execute_result"
    },
    {
     "data": {
      "image/png": "[encoded data removed]",
      "text/plain": [
       "<Figure size 360x360 with 1 Axes>"
      ]
     },
     "metadata": {
      "needs_background": "light"
     },
     "output_type": "display_data"
    }
   ],
   "source": [
    "sns.factorplot(data=ad,y='avg_montly_hours',x='attrit',size=5,aspect=1,kind='box')"
   ]
  },
  {
   "cell_type": "markdown",
   "metadata": {},
   "source": [
    "#### From above, note that the median as well the maximum average monthly hours of the peole with '1' attrition is higher than that of the '0' category. This shows that people with high average monthly hours have more tendency to leave the organisation which makes sense as they may be finding the working hours too much."
   ]
  },
  {
   "cell_type": "markdown",
   "metadata": {},
   "source": [
    "### Distribution of employee satisfaction"
   ]
  },
  {
   "cell_type": "code",
   "execution_count": 55,
   "metadata": {},
   "outputs": [
    {
     "data": {
      "image/png": "[encoded data removed]",
      "text/plain": [
       "<Figure size 432x288 with 1 Axes>"
      ]
     },
     "metadata": {
      "needs_background": "light"
     },
     "output_type": "display_data"
    }
   ],
   "source": [
    "sns.distplot(ad['employee_satisfaction'])\n",
    "plt.show() "
   ]
  },
  {
   "cell_type": "code",
   "execution_count": 56,
   "metadata": {},
   "outputs": [
    {
     "data": {
      "image/png": "[encoded data removed]",
      "text/plain": [
       "<Figure size 864x576 with 1 Axes>"
      ]
     },
     "metadata": {
      "needs_background": "light"
     },
     "output_type": "display_data"
    }
   ],
   "source": [
    "plt.figure(figsize=(12,8))\n",
    "fig = sns.distplot(ad[ad['attrit'] == 0]['employee_satisfaction'], label='Non Attrit', kde=0, bins=15)\n",
    "sns.distplot(ad[ad['attrit'] == 1]['employee_satisfaction'], label='Attrit', kde=0, bins=15)\n",
    "\n",
    "sns.despine(left=1)\n",
    "\n",
    "fig.grid(axis='x')\n",
    "\n",
    "plt.xlabel('Employee Satisfaction',fontsize=15)\n",
    "plt.ylabel('Count',fontsize=15, rotation=0)\n",
    "fig.yaxis.labelpad = 30\n",
    "plt.title('Distribution of Employee Satisfaction',fontsize=20);\n",
    "plt.xticks(fontsize=14)\n",
    "plt.yticks(fontsize=14)\n",
    "fig.yaxis.labelpad = 35\n",
    "plt.legend(fontsize='x-large', bbox_to_anchor=(0.03, 0.95), loc=2, borderaxespad=0., frameon=1)\n",
    "plt.show()"
   ]
  },
  {
   "cell_type": "markdown",
   "metadata": {},
   "source": [
    "#### From the above graph, we can see that attrition is present amongst all the employees with various employee satisfaction score. Highest being with very low employee satisfaction and we can see that there is no attrition amongst employees having the highest satisfaction."
   ]
  },
  {
   "cell_type": "markdown",
   "metadata": {},
   "source": [
    "### Countplot of 3 categories of Employee Salary"
   ]
  },
  {
   "cell_type": "code",
   "execution_count": 58,
   "metadata": {},
   "outputs": [
    {
     "data": {
      "text/plain": [
       "<matplotlib.legend.Legend at 0x1c244b0a90>"
      ]
     },
     "execution_count": 58,
     "metadata": {},
     "output_type": "execute_result"
    },
    {
     "data": {
      "image/png": "[encoded data removed]",
      "text/plain": [
       "<Figure size 720x432 with 1 Axes>"
      ]
     },
     "metadata": {},
     "output_type": "display_data"
    }
   ],
   "source": [
    "plt.figure(figsize=(10,6))\n",
    "sns.countplot(data=ad, x='salary', hue='attrit')\n",
    "plt.legend(bbox_to_anchor=(1, 1.0))"
   ]
  },
  {
   "cell_type": "code",
   "execution_count": 26,
   "metadata": {},
   "outputs": [
    {
     "data": {
      "text/plain": [
       "SMALL     5445\n",
       "MEDIUM    4845\n",
       "LARGE      959\n",
       "Name: salary, dtype: int64"
      ]
     },
     "execution_count": 26,
     "metadata": {},
     "output_type": "execute_result"
    }
   ],
   "source": [
    "ad.salary.value_counts()"
   ]
  },
  {
   "cell_type": "markdown",
   "metadata": {},
   "source": [
    "#### Majority of the employees come under the Small and Medium Salary category."
   ]
  },
  {
   "cell_type": "code",
   "execution_count": 29,
   "metadata": {},
   "outputs": [
    {
     "data": {
      "image/png": "[encoded data removed]",
      "text/plain": [
       "<Figure size 864x576 with 2 Axes>"
      ]
     },
     "metadata": {
      "needs_background": "light"
     },
     "output_type": "display_data"
    }
   ],
   "source": [
    "#on the basis of salary\n",
    "columns = [\"employee_satisfaction\",\n",
    "\"last_performance_rating\"]\n",
    "plt.figure(figsize=(12,8))\n",
    "j=0\n",
    "for i in columns:\n",
    "    j +=1\n",
    "    plt.subplot(1,2,j)\n",
    "    sns.barplot(x = 'attrit', y = ad[i], hue=\"salary\", data =ad)\n",
    "\n",
    "plt.show()"
   ]
  },
  {
   "cell_type": "markdown",
   "metadata": {},
   "source": [
    "## Distplot of workload vs attrition"
   ]
  },
  {
   "cell_type": "code",
   "execution_count": 57,
   "metadata": {},
   "outputs": [
    {
     "data": {
      "text/plain": [
       "<matplotlib.legend.Legend at 0x1c238b3590>"
      ]
     },
     "execution_count": 57,
     "metadata": {},
     "output_type": "execute_result"
    },
    {
     "data": {
      "image/png": "[encoded data removed]",
      "text/plain": [
       "<Figure size 1656x576 with 1 Axes>"
      ]
     },
     "metadata": {},
     "output_type": "display_data"
    }
   ],
   "source": [
    "data0 = ad['workload'].loc[ad['attrit']==0]\n",
    "data1 = ad['workload'].loc[ad['attrit']==1]\n",
    "\n",
    "sns.set_style('whitegrid')\n",
    "plt.figure(figsize=(23,8))\n",
    "sns.set(style='whitegrid')\n",
    "ax = sns.distplot(data0, hist=True)\n",
    "ax = sns.distplot(data1, hist=True)\n",
    "plt.legend(['No Attrition','Attrition'])"
   ]
  },
  {
   "cell_type": "markdown",
   "metadata": {},
   "source": [
    "#### Attrition is present amongst employees having different workload parameters. Highest being  with employees with minimum workload. That is a bit strange and i feel there will be other factors along with workload to take under considerations for attrition."
   ]
  },
  {
   "cell_type": "markdown",
   "metadata": {},
   "source": [
    "## Logistic Regression"
   ]
  },
  {
   "cell_type": "code",
   "execution_count": 30,
   "metadata": {
    "scrolled": true
   },
   "outputs": [
    {
     "data": {
      "text/html": [
       "<div>\n",
       "<style scoped>\n",
       "    .dataframe tbody tr th:only-of-type {\n",
       "        vertical-align: middle;\n",
       "    }\n",
       "\n",
       "    .dataframe tbody tr th {\n",
       "        vertical-align: top;\n",
       "    }\n",
       "\n",
       "    .dataframe thead th {\n",
       "        text-align: right;\n",
       "    }\n",
       "</style>\n",
       "<table border=\"1\" class=\"dataframe\">\n",
       "  <thead>\n",
       "    <tr style=\"text-align: right;\">\n",
       "      <th></th>\n",
       "      <th>employee_satisfaction</th>\n",
       "      <th>last_performance_rating</th>\n",
       "      <th>workload</th>\n",
       "      <th>avg_montly_hours</th>\n",
       "      <th>tenure_years</th>\n",
       "      <th>ergo_issues</th>\n",
       "      <th>promo_in_last_5_years</th>\n",
       "      <th>dept</th>\n",
       "      <th>salary</th>\n",
       "    </tr>\n",
       "  </thead>\n",
       "  <tbody>\n",
       "    <tr>\n",
       "      <td>0</td>\n",
       "      <td>0.82</td>\n",
       "      <td>0.97</td>\n",
       "      <td>3</td>\n",
       "      <td>244</td>\n",
       "      <td>5</td>\n",
       "      <td>0</td>\n",
       "      <td>0</td>\n",
       "      <td>SALES</td>\n",
       "      <td>MEDIUM</td>\n",
       "    </tr>\n",
       "    <tr>\n",
       "      <td>1</td>\n",
       "      <td>0.75</td>\n",
       "      <td>0.81</td>\n",
       "      <td>2</td>\n",
       "      <td>247</td>\n",
       "      <td>4</td>\n",
       "      <td>0</td>\n",
       "      <td>0</td>\n",
       "      <td>HR</td>\n",
       "      <td>SMALL</td>\n",
       "    </tr>\n",
       "    <tr>\n",
       "      <td>2</td>\n",
       "      <td>0.54</td>\n",
       "      <td>0.81</td>\n",
       "      <td>4</td>\n",
       "      <td>257</td>\n",
       "      <td>2</td>\n",
       "      <td>0</td>\n",
       "      <td>0</td>\n",
       "      <td>ADMIN</td>\n",
       "      <td>SMALL</td>\n",
       "    </tr>\n",
       "    <tr>\n",
       "      <td>3</td>\n",
       "      <td>0.60</td>\n",
       "      <td>0.65</td>\n",
       "      <td>4</td>\n",
       "      <td>160</td>\n",
       "      <td>2</td>\n",
       "      <td>0</td>\n",
       "      <td>0</td>\n",
       "      <td>IS</td>\n",
       "      <td>SMALL</td>\n",
       "    </tr>\n",
       "    <tr>\n",
       "      <td>4</td>\n",
       "      <td>0.85</td>\n",
       "      <td>0.92</td>\n",
       "      <td>4</td>\n",
       "      <td>151</td>\n",
       "      <td>3</td>\n",
       "      <td>1</td>\n",
       "      <td>0</td>\n",
       "      <td>IS</td>\n",
       "      <td>MEDIUM</td>\n",
       "    </tr>\n",
       "  </tbody>\n",
       "</table>\n",
       "</div>"
      ],
      "text/plain": [
       "   employee_satisfaction  last_performance_rating  workload  avg_montly_hours  \\\n",
       "0                   0.82                     0.97         3               244   \n",
       "1                   0.75                     0.81         2               247   \n",
       "2                   0.54                     0.81         4               257   \n",
       "3                   0.60                     0.65         4               160   \n",
       "4                   0.85                     0.92         4               151   \n",
       "\n",
       "   tenure_years  ergo_issues  promo_in_last_5_years   dept  salary  \n",
       "0             5            0                      0  SALES  MEDIUM  \n",
       "1             4            0                      0     HR   SMALL  \n",
       "2             2            0                      0  ADMIN   SMALL  \n",
       "3             2            0                      0     IS   SMALL  \n",
       "4             3            1                      0     IS  MEDIUM  "
      ]
     },
     "execution_count": 30,
     "metadata": {},
     "output_type": "execute_result"
    }
   ],
   "source": [
    "X =ad.iloc[:,ad.columns != 'attrit' ]\n",
    "y =ad.attrit\n",
    "X.head()"
   ]
  },
  {
   "cell_type": "markdown",
   "metadata": {},
   "source": [
    "### Label Encoding for department and salary column"
   ]
  },
  {
   "cell_type": "code",
   "execution_count": 60,
   "metadata": {},
   "outputs": [
    {
     "data": {
      "text/html": [
       "<div>\n",
       "<style scoped>\n",
       "    .dataframe tbody tr th:only-of-type {\n",
       "        vertical-align: middle;\n",
       "    }\n",
       "\n",
       "    .dataframe tbody tr th {\n",
       "        vertical-align: top;\n",
       "    }\n",
       "\n",
       "    .dataframe thead th {\n",
       "        text-align: right;\n",
       "    }\n",
       "</style>\n",
       "<table border=\"1\" class=\"dataframe\">\n",
       "  <thead>\n",
       "    <tr style=\"text-align: right;\">\n",
       "      <th></th>\n",
       "      <th>employee_satisfaction</th>\n",
       "      <th>last_performance_rating</th>\n",
       "      <th>workload</th>\n",
       "      <th>avg_montly_hours</th>\n",
       "      <th>tenure_years</th>\n",
       "      <th>ergo_issues</th>\n",
       "      <th>promo_in_last_5_years</th>\n",
       "      <th>dept</th>\n",
       "      <th>salary</th>\n",
       "    </tr>\n",
       "  </thead>\n",
       "  <tbody>\n",
       "    <tr>\n",
       "      <td>0</td>\n",
       "      <td>0.82</td>\n",
       "      <td>0.97</td>\n",
       "      <td>3</td>\n",
       "      <td>244</td>\n",
       "      <td>5</td>\n",
       "      <td>0</td>\n",
       "      <td>0</td>\n",
       "      <td>8</td>\n",
       "      <td>1</td>\n",
       "    </tr>\n",
       "    <tr>\n",
       "      <td>1</td>\n",
       "      <td>0.75</td>\n",
       "      <td>0.81</td>\n",
       "      <td>2</td>\n",
       "      <td>247</td>\n",
       "      <td>4</td>\n",
       "      <td>0</td>\n",
       "      <td>0</td>\n",
       "      <td>3</td>\n",
       "      <td>2</td>\n",
       "    </tr>\n",
       "    <tr>\n",
       "      <td>2</td>\n",
       "      <td>0.54</td>\n",
       "      <td>0.81</td>\n",
       "      <td>4</td>\n",
       "      <td>257</td>\n",
       "      <td>2</td>\n",
       "      <td>0</td>\n",
       "      <td>0</td>\n",
       "      <td>0</td>\n",
       "      <td>2</td>\n",
       "    </tr>\n",
       "    <tr>\n",
       "      <td>3</td>\n",
       "      <td>0.60</td>\n",
       "      <td>0.65</td>\n",
       "      <td>4</td>\n",
       "      <td>160</td>\n",
       "      <td>2</td>\n",
       "      <td>0</td>\n",
       "      <td>0</td>\n",
       "      <td>4</td>\n",
       "      <td>2</td>\n",
       "    </tr>\n",
       "    <tr>\n",
       "      <td>4</td>\n",
       "      <td>0.85</td>\n",
       "      <td>0.92</td>\n",
       "      <td>4</td>\n",
       "      <td>151</td>\n",
       "      <td>3</td>\n",
       "      <td>1</td>\n",
       "      <td>0</td>\n",
       "      <td>4</td>\n",
       "      <td>1</td>\n",
       "    </tr>\n",
       "  </tbody>\n",
       "</table>\n",
       "</div>"
      ],
      "text/plain": [
       "   employee_satisfaction  last_performance_rating  workload  avg_montly_hours  \\\n",
       "0                   0.82                     0.97         3               244   \n",
       "1                   0.75                     0.81         2               247   \n",
       "2                   0.54                     0.81         4               257   \n",
       "3                   0.60                     0.65         4               160   \n",
       "4                   0.85                     0.92         4               151   \n",
       "\n",
       "   tenure_years  ergo_issues  promo_in_last_5_years  dept  salary  \n",
       "0             5            0                      0     8       1  \n",
       "1             4            0                      0     3       2  \n",
       "2             2            0                      0     0       2  \n",
       "3             2            0                      0     4       2  \n",
       "4             3            1                      0     4       1  "
      ]
     },
     "execution_count": 60,
     "metadata": {},
     "output_type": "execute_result"
    }
   ],
   "source": [
    "encode= LabelEncoder()\n",
    "X.loc[:, ['dept', 'salary']]= \\\n",
    "X.loc[:, ['dept', 'salary']].apply(encode.fit_transform)\n",
    "X.head(5)\n",
    "\n"
   ]
  },
  {
   "cell_type": "markdown",
   "metadata": {},
   "source": [
    "## SMOTE: Synthetic Minority Over-sampling Technique"
   ]
  },
  {
   "cell_type": "code",
   "execution_count": 61,
   "metadata": {},
   "outputs": [],
   "source": [
    "X_train, X_test, y_train, y_test = train_test_split(X,y, test_size= 0.3)"
   ]
  },
  {
   "cell_type": "code",
   "execution_count": 33,
   "metadata": {},
   "outputs": [],
   "source": [
    "smote = SMOTE(random_state=2)\n",
    "X_train_res, y_train_res = smote.fit_sample(X_train, y_train.ravel())\n",
    "X_test_res, y_test_res = smote.fit_sample(X_test,y_test)"
   ]
  },
  {
   "cell_type": "code",
   "execution_count": 34,
   "metadata": {},
   "outputs": [],
   "source": [
    "logreg = LogisticRegression()\n",
    "logreg.fit(X_train_res, y_train_res)\n",
    "\n",
    "y_pred = logreg.predict(X_test_res)"
   ]
  },
  {
   "cell_type": "markdown",
   "metadata": {},
   "source": [
    "### Calculating Accuracy"
   ]
  },
  {
   "cell_type": "code",
   "execution_count": 67,
   "metadata": {},
   "outputs": [
    {
     "name": "stdout",
     "output_type": "stream",
     "text": [
      "Accuracy of logistic regression classifier on test set: 0.77\n"
     ]
    }
   ],
   "source": [
    "print('Accuracy of logistic regression classifier on test set: {:.2f}'.format(logreg.score(X_test_res, y_test_res)))"
   ]
  },
  {
   "cell_type": "code",
   "execution_count": 68,
   "metadata": {},
   "outputs": [
    {
     "data": {
      "text/plain": [
       "0.7657153875819515"
      ]
     },
     "execution_count": 68,
     "metadata": {},
     "output_type": "execute_result"
    }
   ],
   "source": [
    "logreg.score(X_test_res, y_test_res)"
   ]
  },
  {
   "cell_type": "markdown",
   "metadata": {},
   "source": [
    "### Cross Validation Prediction and score"
   ]
  },
  {
   "cell_type": "code",
   "execution_count": 66,
   "metadata": {},
   "outputs": [
    {
     "name": "stdout",
     "output_type": "stream",
     "text": [
      "cross_val_score : 0.7659123044650438\n"
     ]
    }
   ],
   "source": [
    "cv_pred = cross_val_predict(logreg,X_test_res,y_test_res,cv=5)\n",
    "cv_score = cross_val_score(logreg,X_test_res,y_test_res,cv=5)\n",
    "print('cross_val_score :',np.average(cv_score))"
   ]
  },
  {
   "cell_type": "markdown",
   "metadata": {},
   "source": [
    "### Confusion Matrix"
   ]
  },
  {
   "cell_type": "code",
   "execution_count": 65,
   "metadata": {},
   "outputs": [
    {
     "data": {
      "text/plain": [
       "array([[1888,  705],\n",
       "       [ 510, 2083]])"
      ]
     },
     "execution_count": 65,
     "metadata": {},
     "output_type": "execute_result"
    }
   ],
   "source": [
    "cnf_matrix = metrics.confusion_matrix(y_test_res, y_pred)\n",
    "cnf_matrix\n"
   ]
  },
  {
   "cell_type": "markdown",
   "metadata": {},
   "source": [
    "<P>=>True Positive(TP)= 1888</P>\n",
    "<P>=>True Negative(TN)= 2083</P>\n",
    "<P>=>False Positive(FP)= 705</P>\n",
    "<P>=>False Negative(NP)= 510</P>"
   ]
  },
  {
   "cell_type": "code",
   "execution_count": 38,
   "metadata": {},
   "outputs": [
    {
     "data": {
      "text/plain": [
       "Text(0.5, 257.44, 'Predicted label')"
      ]
     },
     "execution_count": 38,
     "metadata": {},
     "output_type": "execute_result"
    },
    {
     "data": {
      "image/png": "[encoded data removed]",
      "text/plain": [
       "<Figure size 432x288 with 2 Axes>"
      ]
     },
     "metadata": {
      "needs_background": "light"
     },
     "output_type": "display_data"
    }
   ],
   "source": [
    "class_names=[1,2,3]\n",
    "fig, ax = plt.subplots()\n",
    "tick_marks = np.arange(len(class_names))\n",
    "plt.xticks(tick_marks, class_names)\n",
    "plt.yticks(tick_marks, class_names)\n",
    "sns.heatmap(pd.DataFrame(cnf_matrix), cmap=\"coolwarm\" ,fmt='g')\n",
    "ax.xaxis.set_label_position(\"top\")\n",
    "plt.tight_layout()\n",
    "plt.title('Confusion matrix', y=1.1)\n",
    "plt.ylabel('Actual label')\n",
    "plt.xlabel('Predicted label')"
   ]
  },
  {
   "cell_type": "markdown",
   "metadata": {},
   "source": [
    "## ROC"
   ]
  },
  {
   "cell_type": "code",
   "execution_count": 39,
   "metadata": {
    "scrolled": true
   },
   "outputs": [
    {
     "name": "stdout",
     "output_type": "stream",
     "text": [
      "ROC score is: 0.7657153875819513\n"
     ]
    },
    {
     "data": {
      "image/png": "[encoded data removed]",
      "text/plain": [
       "<Figure size 720x576 with 1 Axes>"
      ]
     },
     "metadata": {
      "needs_background": "light"
     },
     "output_type": "display_data"
    },
    {
     "name": "stdout",
     "output_type": "stream",
     "text": [
      "AUC: 0.7657153875819513\n"
     ]
    }
   ],
   "source": [
    "roc_score = roc_auc_score(y_test_res,y_pred)\n",
    "print('ROC score is:',roc_score)\n",
    "plt.figure(figsize=(10,8))\n",
    "false_positive_rate, recall, thresholds = roc_curve(y_test_res,y_pred)\n",
    "\n",
    "roc_auc = auc(false_positive_rate,recall)\n",
    "plt.plot(false_positive_rate,recall,'r',label='ROC(area=%0.3f)' %roc_auc)\n",
    "\n",
    "plt.legend()\n",
    "plt.plot([0,1],[0,1],'b--')\n",
    "\n",
    "plt.xlim([0.0,1.0])\n",
    "plt.ylim([0.0,1.0])\n",
    "\n",
    "plt.title('Reciver Operating Characteristics(ROC)', fontsize=18)\n",
    "plt.ylabel('Recall(True Positive Rate)', fontsize=18 )\n",
    "plt.xlabel('False Positive Rate',fontsize=18)\n",
    "plt.show()\n",
    "print('AUC:',roc_auc)"
   ]
  },
  {
   "cell_type": "code",
   "execution_count": 41,
   "metadata": {},
   "outputs": [
    {
     "data": {
      "text/plain": [
       "array([1, 1, 1, ..., 1, 1, 1])"
      ]
     },
     "execution_count": 41,
     "metadata": {},
     "output_type": "execute_result"
    }
   ],
   "source": [
    "logreg.predict(X_test_res)"
   ]
  },
  {
   "cell_type": "raw",
   "metadata": {},
   "source": [
    "logreg.score(X_test_res,y_test_res)"
   ]
  },
  {
   "cell_type": "code",
   "execution_count": 47,
   "metadata": {},
   "outputs": [
    {
     "data": {
      "text/plain": [
       "array([[0.13166817, 0.86833183],\n",
       "       [0.48603639, 0.51396361],\n",
       "       [0.41023287, 0.58976713],\n",
       "       ...,\n",
       "       [0.4805651 , 0.5194349 ],\n",
       "       [0.34106481, 0.65893519],\n",
       "       [0.36560402, 0.63439598]])"
      ]
     },
     "execution_count": 47,
     "metadata": {},
     "output_type": "execute_result"
    }
   ],
   "source": [
    "logreg.predict_proba(X_test_res)"
   ]
  },
  {
   "cell_type": "code",
   "execution_count": 48,
   "metadata": {
    "scrolled": true
   },
   "outputs": [
    {
     "data": {
      "text/html": [
       "<div>\n",
       "<style scoped>\n",
       "    .dataframe tbody tr th:only-of-type {\n",
       "        vertical-align: middle;\n",
       "    }\n",
       "\n",
       "    .dataframe tbody tr th {\n",
       "        vertical-align: top;\n",
       "    }\n",
       "\n",
       "    .dataframe thead th {\n",
       "        text-align: right;\n",
       "    }\n",
       "</style>\n",
       "<table border=\"1\" class=\"dataframe\">\n",
       "  <thead>\n",
       "    <tr style=\"text-align: right;\">\n",
       "      <th></th>\n",
       "      <th>employee_satisfaction</th>\n",
       "      <th>last_performance_rating</th>\n",
       "      <th>workload</th>\n",
       "      <th>avg_montly_hours</th>\n",
       "      <th>tenure_years</th>\n",
       "      <th>ergo_issues</th>\n",
       "      <th>promo_in_last_5_years</th>\n",
       "      <th>dept</th>\n",
       "      <th>salary</th>\n",
       "      <th>attrit</th>\n",
       "      <th>Prediction</th>\n",
       "      <th>0</th>\n",
       "      <th>1</th>\n",
       "    </tr>\n",
       "  </thead>\n",
       "  <tbody>\n",
       "    <tr>\n",
       "      <td>0</td>\n",
       "      <td>0.160000</td>\n",
       "      <td>0.720000</td>\n",
       "      <td>3</td>\n",
       "      <td>203</td>\n",
       "      <td>3</td>\n",
       "      <td>0</td>\n",
       "      <td>0</td>\n",
       "      <td>8</td>\n",
       "      <td>1</td>\n",
       "      <td>0</td>\n",
       "      <td>1</td>\n",
       "      <td>0.131668</td>\n",
       "      <td>0.868332</td>\n",
       "    </tr>\n",
       "    <tr>\n",
       "      <td>1</td>\n",
       "      <td>0.890000</td>\n",
       "      <td>0.950000</td>\n",
       "      <td>2</td>\n",
       "      <td>181</td>\n",
       "      <td>5</td>\n",
       "      <td>0</td>\n",
       "      <td>0</td>\n",
       "      <td>9</td>\n",
       "      <td>1</td>\n",
       "      <td>1</td>\n",
       "      <td>1</td>\n",
       "      <td>0.486036</td>\n",
       "      <td>0.513964</td>\n",
       "    </tr>\n",
       "    <tr>\n",
       "      <td>2</td>\n",
       "      <td>0.370000</td>\n",
       "      <td>0.460000</td>\n",
       "      <td>2</td>\n",
       "      <td>149</td>\n",
       "      <td>3</td>\n",
       "      <td>0</td>\n",
       "      <td>0</td>\n",
       "      <td>5</td>\n",
       "      <td>0</td>\n",
       "      <td>1</td>\n",
       "      <td>1</td>\n",
       "      <td>0.410233</td>\n",
       "      <td>0.589767</td>\n",
       "    </tr>\n",
       "    <tr>\n",
       "      <td>3</td>\n",
       "      <td>0.780000</td>\n",
       "      <td>0.910000</td>\n",
       "      <td>3</td>\n",
       "      <td>238</td>\n",
       "      <td>2</td>\n",
       "      <td>0</td>\n",
       "      <td>0</td>\n",
       "      <td>7</td>\n",
       "      <td>0</td>\n",
       "      <td>0</td>\n",
       "      <td>0</td>\n",
       "      <td>0.807715</td>\n",
       "      <td>0.192285</td>\n",
       "    </tr>\n",
       "    <tr>\n",
       "      <td>4</td>\n",
       "      <td>0.830000</td>\n",
       "      <td>1.000000</td>\n",
       "      <td>5</td>\n",
       "      <td>240</td>\n",
       "      <td>5</td>\n",
       "      <td>0</td>\n",
       "      <td>0</td>\n",
       "      <td>0</td>\n",
       "      <td>2</td>\n",
       "      <td>1</td>\n",
       "      <td>0</td>\n",
       "      <td>0.554113</td>\n",
       "      <td>0.445887</td>\n",
       "    </tr>\n",
       "    <tr>\n",
       "      <td>...</td>\n",
       "      <td>...</td>\n",
       "      <td>...</td>\n",
       "      <td>...</td>\n",
       "      <td>...</td>\n",
       "      <td>...</td>\n",
       "      <td>...</td>\n",
       "      <td>...</td>\n",
       "      <td>...</td>\n",
       "      <td>...</td>\n",
       "      <td>...</td>\n",
       "      <td>...</td>\n",
       "      <td>...</td>\n",
       "      <td>...</td>\n",
       "    </tr>\n",
       "    <tr>\n",
       "      <td>5181</td>\n",
       "      <td>0.895588</td>\n",
       "      <td>0.841081</td>\n",
       "      <td>5</td>\n",
       "      <td>264</td>\n",
       "      <td>4</td>\n",
       "      <td>0</td>\n",
       "      <td>0</td>\n",
       "      <td>9</td>\n",
       "      <td>1</td>\n",
       "      <td>1</td>\n",
       "      <td>0</td>\n",
       "      <td>0.812912</td>\n",
       "      <td>0.187088</td>\n",
       "    </tr>\n",
       "    <tr>\n",
       "      <td>5182</td>\n",
       "      <td>0.387441</td>\n",
       "      <td>0.491280</td>\n",
       "      <td>2</td>\n",
       "      <td>141</td>\n",
       "      <td>3</td>\n",
       "      <td>0</td>\n",
       "      <td>0</td>\n",
       "      <td>8</td>\n",
       "      <td>2</td>\n",
       "      <td>1</td>\n",
       "      <td>1</td>\n",
       "      <td>0.229530</td>\n",
       "      <td>0.770470</td>\n",
       "    </tr>\n",
       "    <tr>\n",
       "      <td>5183</td>\n",
       "      <td>0.836504</td>\n",
       "      <td>1.000000</td>\n",
       "      <td>4</td>\n",
       "      <td>217</td>\n",
       "      <td>5</td>\n",
       "      <td>0</td>\n",
       "      <td>0</td>\n",
       "      <td>9</td>\n",
       "      <td>2</td>\n",
       "      <td>1</td>\n",
       "      <td>1</td>\n",
       "      <td>0.480565</td>\n",
       "      <td>0.519435</td>\n",
       "    </tr>\n",
       "    <tr>\n",
       "      <td>5184</td>\n",
       "      <td>0.426643</td>\n",
       "      <td>0.506783</td>\n",
       "      <td>2</td>\n",
       "      <td>155</td>\n",
       "      <td>3</td>\n",
       "      <td>0</td>\n",
       "      <td>0</td>\n",
       "      <td>8</td>\n",
       "      <td>1</td>\n",
       "      <td>1</td>\n",
       "      <td>1</td>\n",
       "      <td>0.341065</td>\n",
       "      <td>0.658935</td>\n",
       "    </tr>\n",
       "    <tr>\n",
       "      <td>5185</td>\n",
       "      <td>0.430000</td>\n",
       "      <td>0.518290</td>\n",
       "      <td>2</td>\n",
       "      <td>136</td>\n",
       "      <td>3</td>\n",
       "      <td>0</td>\n",
       "      <td>0</td>\n",
       "      <td>3</td>\n",
       "      <td>1</td>\n",
       "      <td>1</td>\n",
       "      <td>1</td>\n",
       "      <td>0.365604</td>\n",
       "      <td>0.634396</td>\n",
       "    </tr>\n",
       "  </tbody>\n",
       "</table>\n",
       "<p>5186 rows × 13 columns</p>\n",
       "</div>"
      ],
      "text/plain": [
       "      employee_satisfaction  last_performance_rating  workload  \\\n",
       "0                  0.160000                 0.720000         3   \n",
       "1                  0.890000                 0.950000         2   \n",
       "2                  0.370000                 0.460000         2   \n",
       "3                  0.780000                 0.910000         3   \n",
       "4                  0.830000                 1.000000         5   \n",
       "...                     ...                      ...       ...   \n",
       "5181               0.895588                 0.841081         5   \n",
       "5182               0.387441                 0.491280         2   \n",
       "5183               0.836504                 1.000000         4   \n",
       "5184               0.426643                 0.506783         2   \n",
       "5185               0.430000                 0.518290         2   \n",
       "\n",
       "      avg_montly_hours  tenure_years  ergo_issues  promo_in_last_5_years  \\\n",
       "0                  203             3            0                      0   \n",
       "1                  181             5            0                      0   \n",
       "2                  149             3            0                      0   \n",
       "3                  238             2            0                      0   \n",
       "4                  240             5            0                      0   \n",
       "...                ...           ...          ...                    ...   \n",
       "5181               264             4            0                      0   \n",
       "5182               141             3            0                      0   \n",
       "5183               217             5            0                      0   \n",
       "5184               155             3            0                      0   \n",
       "5185               136             3            0                      0   \n",
       "\n",
       "      dept  salary  attrit  Prediction         0         1  \n",
       "0        8       1       0           1  0.131668  0.868332  \n",
       "1        9       1       1           1  0.486036  0.513964  \n",
       "2        5       0       1           1  0.410233  0.589767  \n",
       "3        7       0       0           0  0.807715  0.192285  \n",
       "4        0       2       1           0  0.554113  0.445887  \n",
       "...    ...     ...     ...         ...       ...       ...  \n",
       "5181     9       1       1           0  0.812912  0.187088  \n",
       "5182     8       2       1           1  0.229530  0.770470  \n",
       "5183     9       2       1           1  0.480565  0.519435  \n",
       "5184     8       1       1           1  0.341065  0.658935  \n",
       "5185     3       1       1           1  0.365604  0.634396  \n",
       "\n",
       "[5186 rows x 13 columns]"
      ]
     },
     "execution_count": 48,
     "metadata": {},
     "output_type": "execute_result"
    }
   ],
   "source": [
    "prediction_df = pd.DataFrame(logreg.predict(X_test_res), columns = {'Prediction'}).set_index([pd.Index(X_test_res.index)])\n",
    "probability_df = pd.DataFrame(logreg.predict_proba(X_test_res)).set_index([pd.Index(X_test_res.index)])\n",
    "all_together_df = X_test_res.join(y_test_res).join(prediction_df).join(probability_df)\n",
    "all_together_df"
   ]
  },
  {
   "cell_type": "code",
   "execution_count": 44,
   "metadata": {},
   "outputs": [
    {
     "data": {
      "text/plain": [
       "RangeIndex(start=0, stop=5, step=1)"
      ]
     },
     "execution_count": 44,
     "metadata": {},
     "output_type": "execute_result"
    }
   ],
   "source": [
    "arbitrary_values1 = pd.DataFrame(data = {'employee_satisfaction':[0.90,0.50,0.75,0.89,0.09]})\n",
    "arbitrary_values1.index"
   ]
  },
  {
   "cell_type": "code",
   "execution_count": 49,
   "metadata": {
    "scrolled": true
   },
   "outputs": [
    {
     "data": {
      "text/html": [
       "<div>\n",
       "<style scoped>\n",
       "    .dataframe tbody tr th:only-of-type {\n",
       "        vertical-align: middle;\n",
       "    }\n",
       "\n",
       "    .dataframe tbody tr th {\n",
       "        vertical-align: top;\n",
       "    }\n",
       "\n",
       "    .dataframe thead th {\n",
       "        text-align: right;\n",
       "    }\n",
       "</style>\n",
       "<table border=\"1\" class=\"dataframe\">\n",
       "  <thead>\n",
       "    <tr style=\"text-align: right;\">\n",
       "      <th></th>\n",
       "      <th>employee_satisfaction</th>\n",
       "      <th>workload</th>\n",
       "      <th>last_performance_rating</th>\n",
       "      <th>avg_montly_hours</th>\n",
       "      <th>tenure_years</th>\n",
       "      <th>ergo_issues</th>\n",
       "      <th>salary</th>\n",
       "      <th>dept</th>\n",
       "      <th>promo_in_last_5_years</th>\n",
       "      <th>Prediction</th>\n",
       "    </tr>\n",
       "  </thead>\n",
       "  <tbody>\n",
       "    <tr>\n",
       "      <td>0</td>\n",
       "      <td>0.90</td>\n",
       "      <td>1</td>\n",
       "      <td>0.74</td>\n",
       "      <td>152</td>\n",
       "      <td>5</td>\n",
       "      <td>0</td>\n",
       "      <td>1</td>\n",
       "      <td>1</td>\n",
       "      <td>0</td>\n",
       "      <td>0</td>\n",
       "    </tr>\n",
       "    <tr>\n",
       "      <td>1</td>\n",
       "      <td>0.50</td>\n",
       "      <td>3</td>\n",
       "      <td>0.72</td>\n",
       "      <td>164</td>\n",
       "      <td>3</td>\n",
       "      <td>1</td>\n",
       "      <td>3</td>\n",
       "      <td>2</td>\n",
       "      <td>1</td>\n",
       "      <td>0</td>\n",
       "    </tr>\n",
       "    <tr>\n",
       "      <td>2</td>\n",
       "      <td>0.75</td>\n",
       "      <td>6</td>\n",
       "      <td>0.90</td>\n",
       "      <td>210</td>\n",
       "      <td>4</td>\n",
       "      <td>1</td>\n",
       "      <td>1</td>\n",
       "      <td>3</td>\n",
       "      <td>0</td>\n",
       "      <td>1</td>\n",
       "    </tr>\n",
       "    <tr>\n",
       "      <td>3</td>\n",
       "      <td>0.89</td>\n",
       "      <td>7</td>\n",
       "      <td>1.00</td>\n",
       "      <td>247</td>\n",
       "      <td>2</td>\n",
       "      <td>1</td>\n",
       "      <td>2</td>\n",
       "      <td>5</td>\n",
       "      <td>1</td>\n",
       "      <td>1</td>\n",
       "    </tr>\n",
       "    <tr>\n",
       "      <td>4</td>\n",
       "      <td>0.09</td>\n",
       "      <td>6</td>\n",
       "      <td>0.46</td>\n",
       "      <td>192</td>\n",
       "      <td>5</td>\n",
       "      <td>0</td>\n",
       "      <td>3</td>\n",
       "      <td>8</td>\n",
       "      <td>1</td>\n",
       "      <td>1</td>\n",
       "    </tr>\n",
       "  </tbody>\n",
       "</table>\n",
       "</div>"
      ],
      "text/plain": [
       "   employee_satisfaction  workload  last_performance_rating  avg_montly_hours  \\\n",
       "0                   0.90         1                     0.74               152   \n",
       "1                   0.50         3                     0.72               164   \n",
       "2                   0.75         6                     0.90               210   \n",
       "3                   0.89         7                     1.00               247   \n",
       "4                   0.09         6                     0.46               192   \n",
       "\n",
       "   tenure_years  ergo_issues  salary  dept  promo_in_last_5_years  Prediction  \n",
       "0             5            0       1     1                      0           0  \n",
       "1             3            1       3     2                      1           0  \n",
       "2             4            1       1     3                      0           1  \n",
       "3             2            1       2     5                      1           1  \n",
       "4             5            0       3     8                      1           1  "
      ]
     },
     "execution_count": 49,
     "metadata": {},
     "output_type": "execute_result"
    }
   ],
   "source": [
    "arbitrary_values1 = pd.DataFrame(data = {'employee_satisfaction':[0.90,0.50,0.75,0.89,0.09]})\n",
    "arbitrary_values2 = pd.DataFrame(data = {'workload': [1,3,6,7,6]})\n",
    "arbitrary_values3 = pd.DataFrame(data = {'last_performance_rating':[0.74,0.72,0.9,1,0.46]})\n",
    "arbitrary_values4 = pd.DataFrame(data = {'avg_montly_hours':[152,164,210,247,192]})\n",
    "arbitrary_values5 = pd.DataFrame(data = {'tenure_years': [5,3,4,2,5]})\n",
    "arbitrary_values6 = pd.DataFrame(data = {'ergo_issues':[0,1,1,1,0]})\n",
    "arbitrary_values7 = pd.DataFrame(data = {'salary': [1,3,1,2,3]})\n",
    "arbitrary_values8 = pd.DataFrame(data = {'dept':[1,2,3,5,8]})\n",
    "arbitrary_values9 = pd.DataFrame(data = {'promo_in_last_5_years':[0,1,0,1,1]})\n",
    "\n",
    "arbitrary_values_merged = arbitrary_values1.join(arbitrary_values2).join(arbitrary_values3).join(arbitrary_values4).join(arbitrary_values5).join(arbitrary_values6).join(arbitrary_values7).join(arbitrary_values8).join(arbitrary_values9).set_index([pd.Index(arbitrary_values1.index)])\n",
    "arbitrary_values_merged\n",
    "\n",
    "final_df = arbitrary_values_merged.join(pd.DataFrame(logreg.predict(arbitrary_values_merged), columns = {'Prediction'}).set_index([pd.Index(arbitrary_values_merged.index)]))\n",
    "final_df"
   ]
  },
  {
   "cell_type": "markdown",
   "metadata": {},
   "source": [
    "## Observations:\n",
    "\n",
    "- 1. The above table contains predicted attrition values for different features.\n",
    "- 2. Employees with high satisfaction level are having high performance rating and are willing to stay in the company as they might be eligible for a promotion. Whereas we can see that the employees who have a lot of workload tend to leave the company."
   ]
  },
  {
   "cell_type": "markdown",
   "metadata": {},
   "source": [
    "### Things that the company can work on:\n",
    "\n",
    "- If the company hope to retain employees, it needs to improve employee satisfactions. Maybe it can hold some campaigns to improve the relationship between company and employees, or properly assign the workload for everyone. Especially those who have high performance but low satisfaction, company must try to retain those talented employees!\n",
    "\n",
    "- If possible, raise the salary for high performance employees is important. The higher the salary, the lower chance employees leave the job. From the analysis above, we found that employees with high performance still choose to leave the job because of small salary. If company really hope to retain high talented employees, it should raise the salary for them. All people need encouragement, sometimes give some benefit to employees they will feedback the company more than expected."
   ]
  },
  {
   "cell_type": "code",
   "execution_count": null,
   "metadata": {},
   "outputs": [],
   "source": []
  }
 ],
 "metadata": {
  "kernelspec": {
   "display_name": "Python 3",
   "language": "python",
   "name": "python3"
  },
  "language_info": {
   "codemirror_mode": {
    "name": "ipython",
    "version": 3
   },
   "file_extension": ".py",
   "mimetype": "text/x-python",
   "name": "python",
   "nbconvert_exporter": "python",
   "pygments_lexer": "ipython3",
   "version": "3.7.4"
  }
 },
 "nbformat": 4,
 "nbformat_minor": 2
}
