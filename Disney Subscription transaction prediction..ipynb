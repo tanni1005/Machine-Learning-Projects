{
 "cells": [
  {
   "cell_type": "markdown",
   "metadata": {},
   "source": [
    "### Author: Tanvi Bhagat"
   ]
  },
  {
   "cell_type": "markdown",
   "metadata": {},
   "source": [
    "## Importing Packages"
   ]
  },
  {
   "cell_type": "markdown",
   "metadata": {},
   "source": [
    "### AIM: To understand people's buying pattern of disney subscription and predict disney subscription transaction"
   ]
  },
  {
   "cell_type": "code",
   "execution_count": 120,
   "metadata": {},
   "outputs": [],
   "source": [
    "import numpy as np\n",
    "import pandas as pd\n",
    "import os\n",
    "import seaborn as sns\n",
    "import pylab \n",
    "import statsmodels.api as sm\n",
    "import warnings\n",
    "warnings.filterwarnings('ignore')\n",
    "from imblearn.over_sampling import SMOTE\n",
    "from sklearn.feature_selection import SelectKBest\n",
    "from sklearn.feature_selection import chi2\n",
    "from sklearn.ensemble import ExtraTreesClassifier\n",
    "from scipy import stats\n",
    "from sklearn import datasets\n",
    "from sklearn import linear_model\n",
    "from sklearn.metrics import roc_auc_score,make_scorer,classification_report,roc_curve,auc\n",
    "from sklearn.linear_model import LogisticRegression\n",
    "from sklearn import metrics\n",
    "from sklearn.metrics import confusion_matrix\n",
    "from sklearn.feature_selection import RFE\n",
    "from sklearn.linear_model import LogisticRegression\n",
    "from sklearn.linear_model import LinearRegression\n",
    "from sklearn.metrics import accuracy_score\n",
    "from sklearn.neighbors import KNeighborsClassifier\n",
    "from sklearn.preprocessing import PolynomialFeatures\n",
    "from sklearn.preprocessing import LabelEncoder\n",
    "from sklearn.model_selection import train_test_split\n",
    "from sklearn.metrics import mean_squared_error, r2_score\n",
    "from sklearn.model_selection import train_test_split,cross_val_predict,cross_val_score\n",
    "from matplotlib import pyplot as plt\n",
    "from matplotlib.ticker import PercentFormatter\n",
    "\n",
    "from pylab import rcParams\n",
    "\n",
    "rcParams['figure.figsize'] = (23, 8)\n",
    "sns.set_style('whitegrid')\n",
    "plt.style.use('seaborn-whitegrid')"
   ]
  },
  {
   "cell_type": "markdown",
   "metadata": {},
   "source": [
    "### Acquiring Data and Performing Modifications"
   ]
  },
  {
   "cell_type": "code",
   "execution_count": 14,
   "metadata": {},
   "outputs": [],
   "source": [
    "data_path=\"https://docs.google.com/spreadsheets/d/e/2PACX-1vRBEQLgZ8pocw4jnXJ7H0OaDAYL4iAhpA57ZWNSqUgwTs2lk0XCGiq2hBFXrtCUny1VAHmGjBBtP7sK/pub?gid=242143577&single=true&output=csv\"\n",
    "disney= pd.read_csv(data_path)"
   ]
  },
  {
   "cell_type": "code",
   "execution_count": 3,
   "metadata": {},
   "outputs": [
    {
     "data": {
      "text/html": [
       "<div>\n",
       "<style scoped>\n",
       "    .dataframe tbody tr th:only-of-type {\n",
       "        vertical-align: middle;\n",
       "    }\n",
       "\n",
       "    .dataframe tbody tr th {\n",
       "        vertical-align: top;\n",
       "    }\n",
       "\n",
       "    .dataframe thead th {\n",
       "        text-align: right;\n",
       "    }\n",
       "</style>\n",
       "<table border=\"1\" class=\"dataframe\">\n",
       "  <thead>\n",
       "    <tr style=\"text-align: right;\">\n",
       "      <th></th>\n",
       "      <th>row</th>\n",
       "      <th>transaction</th>\n",
       "      <th>salary_usd</th>\n",
       "      <th>is_male</th>\n",
       "      <th>is_married</th>\n",
       "      <th>is_college</th>\n",
       "      <th>is_professional</th>\n",
       "      <th>is_senior</th>\n",
       "      <th>is_employed</th>\n",
       "      <th>is_single_income</th>\n",
       "      <th>children_present</th>\n",
       "      <th>is_renter</th>\n",
       "      <th>lives_in_house</th>\n",
       "      <th>is_english_primary_language</th>\n",
       "      <th>previously_disney_customer</th>\n",
       "      <th>previous_streaming_service_customer</th>\n",
       "    </tr>\n",
       "  </thead>\n",
       "  <tbody>\n",
       "    <tr>\n",
       "      <td>0</td>\n",
       "      <td>653</td>\n",
       "      <td>0</td>\n",
       "      <td>25000</td>\n",
       "      <td>1</td>\n",
       "      <td>0</td>\n",
       "      <td>0</td>\n",
       "      <td>0</td>\n",
       "      <td>0</td>\n",
       "      <td>0</td>\n",
       "      <td>1</td>\n",
       "      <td>0</td>\n",
       "      <td>1</td>\n",
       "      <td>0</td>\n",
       "      <td>1</td>\n",
       "      <td>0</td>\n",
       "      <td>0</td>\n",
       "    </tr>\n",
       "    <tr>\n",
       "      <td>1</td>\n",
       "      <td>546</td>\n",
       "      <td>0</td>\n",
       "      <td>7000</td>\n",
       "      <td>0</td>\n",
       "      <td>0</td>\n",
       "      <td>0</td>\n",
       "      <td>0</td>\n",
       "      <td>0</td>\n",
       "      <td>0</td>\n",
       "      <td>1</td>\n",
       "      <td>1</td>\n",
       "      <td>1</td>\n",
       "      <td>1</td>\n",
       "      <td>1</td>\n",
       "      <td>0</td>\n",
       "      <td>0</td>\n",
       "    </tr>\n",
       "  </tbody>\n",
       "</table>\n",
       "</div>"
      ],
      "text/plain": [
       "   row  transaction  salary_usd  is_male  is_married  is_college  \\\n",
       "0  653            0       25000        1           0           0   \n",
       "1  546            0        7000        0           0           0   \n",
       "\n",
       "   is_professional  is_senior  is_employed  is_single_income  \\\n",
       "0                0          0            0                 1   \n",
       "1                0          0            0                 1   \n",
       "\n",
       "   children_present  is_renter  lives_in_house  is_english_primary_language  \\\n",
       "0                 0          1               0                            1   \n",
       "1                 1          1               1                            1   \n",
       "\n",
       "   previously_disney_customer  previous_streaming_service_customer  \n",
       "0                           0                                    0  \n",
       "1                           0                                    0  "
      ]
     },
     "execution_count": 3,
     "metadata": {},
     "output_type": "execute_result"
    }
   ],
   "source": [
    "disney.head(2)"
   ]
  },
  {
   "cell_type": "code",
   "execution_count": 4,
   "metadata": {},
   "outputs": [
    {
     "data": {
      "text/html": [
       "<div>\n",
       "<style scoped>\n",
       "    .dataframe tbody tr th:only-of-type {\n",
       "        vertical-align: middle;\n",
       "    }\n",
       "\n",
       "    .dataframe tbody tr th {\n",
       "        vertical-align: top;\n",
       "    }\n",
       "\n",
       "    .dataframe thead th {\n",
       "        text-align: right;\n",
       "    }\n",
       "</style>\n",
       "<table border=\"1\" class=\"dataframe\">\n",
       "  <thead>\n",
       "    <tr style=\"text-align: right;\">\n",
       "      <th></th>\n",
       "      <th>row</th>\n",
       "      <th>transaction</th>\n",
       "      <th>salary_usd</th>\n",
       "      <th>is_male</th>\n",
       "      <th>is_married</th>\n",
       "      <th>is_college</th>\n",
       "      <th>is_professional</th>\n",
       "      <th>is_senior</th>\n",
       "      <th>is_employed</th>\n",
       "      <th>is_single_income</th>\n",
       "      <th>children_present</th>\n",
       "      <th>is_renter</th>\n",
       "      <th>lives_in_house</th>\n",
       "      <th>is_english_primary_language</th>\n",
       "      <th>previously_disney_customer</th>\n",
       "      <th>previous_streaming_service_customer</th>\n",
       "    </tr>\n",
       "  </thead>\n",
       "  <tbody>\n",
       "    <tr>\n",
       "      <td>503</td>\n",
       "      <td>47</td>\n",
       "      <td>0</td>\n",
       "      <td>55000</td>\n",
       "      <td>0</td>\n",
       "      <td>1</td>\n",
       "      <td>0</td>\n",
       "      <td>0</td>\n",
       "      <td>0</td>\n",
       "      <td>0</td>\n",
       "      <td>0</td>\n",
       "      <td>0</td>\n",
       "      <td>0</td>\n",
       "      <td>1</td>\n",
       "      <td>1</td>\n",
       "      <td>0</td>\n",
       "      <td>0</td>\n",
       "    </tr>\n",
       "    <tr>\n",
       "      <td>504</td>\n",
       "      <td>590</td>\n",
       "      <td>0</td>\n",
       "      <td>53000</td>\n",
       "      <td>0</td>\n",
       "      <td>0</td>\n",
       "      <td>0</td>\n",
       "      <td>1</td>\n",
       "      <td>0</td>\n",
       "      <td>0</td>\n",
       "      <td>1</td>\n",
       "      <td>0</td>\n",
       "      <td>1</td>\n",
       "      <td>0</td>\n",
       "      <td>1</td>\n",
       "      <td>0</td>\n",
       "      <td>0</td>\n",
       "    </tr>\n",
       "  </tbody>\n",
       "</table>\n",
       "</div>"
      ],
      "text/plain": [
       "     row  transaction  salary_usd  is_male  is_married  is_college  \\\n",
       "503   47            0       55000        0           1           0   \n",
       "504  590            0       53000        0           0           0   \n",
       "\n",
       "     is_professional  is_senior  is_employed  is_single_income  \\\n",
       "503                0          0            0                 0   \n",
       "504                1          0            0                 1   \n",
       "\n",
       "     children_present  is_renter  lives_in_house  is_english_primary_language  \\\n",
       "503                 0          0               1                            1   \n",
       "504                 0          1               0                            1   \n",
       "\n",
       "     previously_disney_customer  previous_streaming_service_customer  \n",
       "503                           0                                    0  \n",
       "504                           0                                    0  "
      ]
     },
     "execution_count": 4,
     "metadata": {},
     "output_type": "execute_result"
    }
   ],
   "source": [
    "disney.tail(2)"
   ]
  },
  {
   "cell_type": "code",
   "execution_count": 5,
   "metadata": {},
   "outputs": [
    {
     "data": {
      "text/plain": [
       "['row',\n",
       " 'transaction',\n",
       " 'salary_usd',\n",
       " 'is_male',\n",
       " 'is_married',\n",
       " 'is_college',\n",
       " 'is_professional',\n",
       " 'is_senior',\n",
       " 'is_employed',\n",
       " 'is_single_income',\n",
       " 'children_present',\n",
       " 'is_renter',\n",
       " 'lives_in_house',\n",
       " 'is_english_primary_language',\n",
       " 'previously_disney_customer',\n",
       " 'previous_streaming_service_customer']"
      ]
     },
     "execution_count": 5,
     "metadata": {},
     "output_type": "execute_result"
    }
   ],
   "source": [
    "list(disney)"
   ]
  },
  {
   "cell_type": "code",
   "execution_count": 6,
   "metadata": {},
   "outputs": [
    {
     "data": {
      "text/plain": [
       "transaction                              2\n",
       "is_male                                  2\n",
       "is_married                               2\n",
       "is_college                               2\n",
       "is_professional                          2\n",
       "is_senior                                2\n",
       "is_employed                              2\n",
       "is_single_income                         2\n",
       "children_present                         2\n",
       "is_renter                                2\n",
       "lives_in_house                           2\n",
       "is_english_primary_language              2\n",
       "previously_disney_customer               2\n",
       "previous_streaming_service_customer      2\n",
       "salary_usd                              72\n",
       "row                                    505\n",
       "dtype: int64"
      ]
     },
     "execution_count": 6,
     "metadata": {},
     "output_type": "execute_result"
    }
   ],
   "source": [
    "Nunique = disney.nunique()\n",
    "Nunique = Nunique.sort_values()\n",
    "Nunique"
   ]
  },
  {
   "cell_type": "markdown",
   "metadata": {},
   "source": [
    "#### Checking for missing values"
   ]
  },
  {
   "cell_type": "code",
   "execution_count": 7,
   "metadata": {},
   "outputs": [
    {
     "data": {
      "text/plain": [
       "row                                    0.0\n",
       "transaction                            0.0\n",
       "salary_usd                             0.0\n",
       "is_male                                0.0\n",
       "is_married                             0.0\n",
       "is_college                             0.0\n",
       "is_professional                        0.0\n",
       "is_senior                              0.0\n",
       "is_employed                            0.0\n",
       "is_single_income                       0.0\n",
       "children_present                       0.0\n",
       "is_renter                              0.0\n",
       "lives_in_house                         0.0\n",
       "is_english_primary_language            0.0\n",
       "previously_disney_customer             0.0\n",
       "previous_streaming_service_customer    0.0\n",
       "dtype: float64"
      ]
     },
     "execution_count": 7,
     "metadata": {},
     "output_type": "execute_result"
    }
   ],
   "source": [
    "round(100*(disney.isnull().sum()/len(disney.index)), 2)"
   ]
  },
  {
   "cell_type": "markdown",
   "metadata": {},
   "source": [
    "### Describing Quantitative Variables"
   ]
  },
  {
   "cell_type": "code",
   "execution_count": 8,
   "metadata": {},
   "outputs": [
    {
     "data": {
      "text/html": [
       "<div>\n",
       "<style scoped>\n",
       "    .dataframe tbody tr th:only-of-type {\n",
       "        vertical-align: middle;\n",
       "    }\n",
       "\n",
       "    .dataframe tbody tr th {\n",
       "        vertical-align: top;\n",
       "    }\n",
       "\n",
       "    .dataframe thead th {\n",
       "        text-align: right;\n",
       "    }\n",
       "</style>\n",
       "<table border=\"1\" class=\"dataframe\">\n",
       "  <thead>\n",
       "    <tr style=\"text-align: right;\">\n",
       "      <th></th>\n",
       "      <th>row</th>\n",
       "      <th>transaction</th>\n",
       "      <th>salary_usd</th>\n",
       "      <th>is_male</th>\n",
       "      <th>is_married</th>\n",
       "      <th>is_college</th>\n",
       "      <th>is_professional</th>\n",
       "      <th>is_senior</th>\n",
       "      <th>is_employed</th>\n",
       "      <th>is_single_income</th>\n",
       "      <th>children_present</th>\n",
       "      <th>is_renter</th>\n",
       "      <th>lives_in_house</th>\n",
       "      <th>is_english_primary_language</th>\n",
       "      <th>previously_disney_customer</th>\n",
       "      <th>previous_streaming_service_customer</th>\n",
       "    </tr>\n",
       "  </thead>\n",
       "  <tbody>\n",
       "    <tr>\n",
       "      <td>count</td>\n",
       "      <td>505.000000</td>\n",
       "      <td>505.000000</td>\n",
       "      <td>505.000000</td>\n",
       "      <td>505.000000</td>\n",
       "      <td>505.000000</td>\n",
       "      <td>505.000000</td>\n",
       "      <td>505.000000</td>\n",
       "      <td>505.000000</td>\n",
       "      <td>505.000000</td>\n",
       "      <td>505.000000</td>\n",
       "      <td>505.000000</td>\n",
       "      <td>505.000000</td>\n",
       "      <td>505.000000</td>\n",
       "      <td>505.000000</td>\n",
       "      <td>505.000000</td>\n",
       "      <td>505.000000</td>\n",
       "    </tr>\n",
       "    <tr>\n",
       "      <td>mean</td>\n",
       "      <td>337.425743</td>\n",
       "      <td>0.186139</td>\n",
       "      <td>58223.762376</td>\n",
       "      <td>0.443564</td>\n",
       "      <td>0.366337</td>\n",
       "      <td>0.308911</td>\n",
       "      <td>0.352475</td>\n",
       "      <td>0.063366</td>\n",
       "      <td>0.029703</td>\n",
       "      <td>0.762376</td>\n",
       "      <td>0.364356</td>\n",
       "      <td>0.605941</td>\n",
       "      <td>0.673267</td>\n",
       "      <td>0.900990</td>\n",
       "      <td>0.075248</td>\n",
       "      <td>0.079208</td>\n",
       "    </tr>\n",
       "    <tr>\n",
       "      <td>std</td>\n",
       "      <td>196.318960</td>\n",
       "      <td>0.389604</td>\n",
       "      <td>39098.058320</td>\n",
       "      <td>0.497297</td>\n",
       "      <td>0.482281</td>\n",
       "      <td>0.462502</td>\n",
       "      <td>0.478215</td>\n",
       "      <td>0.243862</td>\n",
       "      <td>0.169935</td>\n",
       "      <td>0.426049</td>\n",
       "      <td>0.481726</td>\n",
       "      <td>0.489132</td>\n",
       "      <td>0.469484</td>\n",
       "      <td>0.298971</td>\n",
       "      <td>0.264052</td>\n",
       "      <td>0.270331</td>\n",
       "    </tr>\n",
       "    <tr>\n",
       "      <td>min</td>\n",
       "      <td>1.000000</td>\n",
       "      <td>0.000000</td>\n",
       "      <td>0.000000</td>\n",
       "      <td>0.000000</td>\n",
       "      <td>0.000000</td>\n",
       "      <td>0.000000</td>\n",
       "      <td>0.000000</td>\n",
       "      <td>0.000000</td>\n",
       "      <td>0.000000</td>\n",
       "      <td>0.000000</td>\n",
       "      <td>0.000000</td>\n",
       "      <td>0.000000</td>\n",
       "      <td>0.000000</td>\n",
       "      <td>0.000000</td>\n",
       "      <td>0.000000</td>\n",
       "      <td>0.000000</td>\n",
       "    </tr>\n",
       "    <tr>\n",
       "      <td>25%</td>\n",
       "      <td>162.000000</td>\n",
       "      <td>0.000000</td>\n",
       "      <td>25000.000000</td>\n",
       "      <td>0.000000</td>\n",
       "      <td>0.000000</td>\n",
       "      <td>0.000000</td>\n",
       "      <td>0.000000</td>\n",
       "      <td>0.000000</td>\n",
       "      <td>0.000000</td>\n",
       "      <td>1.000000</td>\n",
       "      <td>0.000000</td>\n",
       "      <td>0.000000</td>\n",
       "      <td>0.000000</td>\n",
       "      <td>1.000000</td>\n",
       "      <td>0.000000</td>\n",
       "      <td>0.000000</td>\n",
       "    </tr>\n",
       "    <tr>\n",
       "      <td>50%</td>\n",
       "      <td>338.000000</td>\n",
       "      <td>0.000000</td>\n",
       "      <td>55000.000000</td>\n",
       "      <td>0.000000</td>\n",
       "      <td>0.000000</td>\n",
       "      <td>0.000000</td>\n",
       "      <td>0.000000</td>\n",
       "      <td>0.000000</td>\n",
       "      <td>0.000000</td>\n",
       "      <td>1.000000</td>\n",
       "      <td>0.000000</td>\n",
       "      <td>1.000000</td>\n",
       "      <td>1.000000</td>\n",
       "      <td>1.000000</td>\n",
       "      <td>0.000000</td>\n",
       "      <td>0.000000</td>\n",
       "    </tr>\n",
       "    <tr>\n",
       "      <td>75%</td>\n",
       "      <td>506.000000</td>\n",
       "      <td>0.000000</td>\n",
       "      <td>86000.000000</td>\n",
       "      <td>1.000000</td>\n",
       "      <td>1.000000</td>\n",
       "      <td>1.000000</td>\n",
       "      <td>1.000000</td>\n",
       "      <td>0.000000</td>\n",
       "      <td>0.000000</td>\n",
       "      <td>1.000000</td>\n",
       "      <td>1.000000</td>\n",
       "      <td>1.000000</td>\n",
       "      <td>1.000000</td>\n",
       "      <td>1.000000</td>\n",
       "      <td>0.000000</td>\n",
       "      <td>0.000000</td>\n",
       "    </tr>\n",
       "    <tr>\n",
       "      <td>max</td>\n",
       "      <td>672.000000</td>\n",
       "      <td>1.000000</td>\n",
       "      <td>124000.000000</td>\n",
       "      <td>1.000000</td>\n",
       "      <td>1.000000</td>\n",
       "      <td>1.000000</td>\n",
       "      <td>1.000000</td>\n",
       "      <td>1.000000</td>\n",
       "      <td>1.000000</td>\n",
       "      <td>1.000000</td>\n",
       "      <td>1.000000</td>\n",
       "      <td>1.000000</td>\n",
       "      <td>1.000000</td>\n",
       "      <td>1.000000</td>\n",
       "      <td>1.000000</td>\n",
       "      <td>1.000000</td>\n",
       "    </tr>\n",
       "  </tbody>\n",
       "</table>\n",
       "</div>"
      ],
      "text/plain": [
       "              row  transaction     salary_usd     is_male  is_married  \\\n",
       "count  505.000000   505.000000     505.000000  505.000000  505.000000   \n",
       "mean   337.425743     0.186139   58223.762376    0.443564    0.366337   \n",
       "std    196.318960     0.389604   39098.058320    0.497297    0.482281   \n",
       "min      1.000000     0.000000       0.000000    0.000000    0.000000   \n",
       "25%    162.000000     0.000000   25000.000000    0.000000    0.000000   \n",
       "50%    338.000000     0.000000   55000.000000    0.000000    0.000000   \n",
       "75%    506.000000     0.000000   86000.000000    1.000000    1.000000   \n",
       "max    672.000000     1.000000  124000.000000    1.000000    1.000000   \n",
       "\n",
       "       is_college  is_professional   is_senior  is_employed  is_single_income  \\\n",
       "count  505.000000       505.000000  505.000000   505.000000        505.000000   \n",
       "mean     0.308911         0.352475    0.063366     0.029703          0.762376   \n",
       "std      0.462502         0.478215    0.243862     0.169935          0.426049   \n",
       "min      0.000000         0.000000    0.000000     0.000000          0.000000   \n",
       "25%      0.000000         0.000000    0.000000     0.000000          1.000000   \n",
       "50%      0.000000         0.000000    0.000000     0.000000          1.000000   \n",
       "75%      1.000000         1.000000    0.000000     0.000000          1.000000   \n",
       "max      1.000000         1.000000    1.000000     1.000000          1.000000   \n",
       "\n",
       "       children_present   is_renter  lives_in_house  \\\n",
       "count        505.000000  505.000000      505.000000   \n",
       "mean           0.364356    0.605941        0.673267   \n",
       "std            0.481726    0.489132        0.469484   \n",
       "min            0.000000    0.000000        0.000000   \n",
       "25%            0.000000    0.000000        0.000000   \n",
       "50%            0.000000    1.000000        1.000000   \n",
       "75%            1.000000    1.000000        1.000000   \n",
       "max            1.000000    1.000000        1.000000   \n",
       "\n",
       "       is_english_primary_language  previously_disney_customer  \\\n",
       "count                   505.000000                  505.000000   \n",
       "mean                      0.900990                    0.075248   \n",
       "std                       0.298971                    0.264052   \n",
       "min                       0.000000                    0.000000   \n",
       "25%                       1.000000                    0.000000   \n",
       "50%                       1.000000                    0.000000   \n",
       "75%                       1.000000                    0.000000   \n",
       "max                       1.000000                    1.000000   \n",
       "\n",
       "       previous_streaming_service_customer  \n",
       "count                           505.000000  \n",
       "mean                              0.079208  \n",
       "std                               0.270331  \n",
       "min                               0.000000  \n",
       "25%                               0.000000  \n",
       "50%                               0.000000  \n",
       "75%                               0.000000  \n",
       "max                               1.000000  "
      ]
     },
     "execution_count": 8,
     "metadata": {},
     "output_type": "execute_result"
    }
   ],
   "source": [
    "disney.describe()"
   ]
  },
  {
   "cell_type": "code",
   "execution_count": 9,
   "metadata": {},
   "outputs": [
    {
     "name": "stdout",
     "output_type": "stream",
     "text": [
      "(505, 16)\n",
      "['row', 'transaction', 'salary_usd', 'is_male', 'is_married', 'is_college', 'is_professional', 'is_senior', 'is_employed', 'is_single_income', 'children_present', 'is_renter', 'lives_in_house', 'is_english_primary_language', 'previously_disney_customer', 'previous_streaming_service_customer']\n"
     ]
    }
   ],
   "source": [
    "print(disney.shape)\n",
    "print(list(disney.columns))"
   ]
  },
  {
   "cell_type": "markdown",
   "metadata": {},
   "source": [
    "### Plotting countplots for the categorical variables"
   ]
  },
  {
   "cell_type": "code",
   "execution_count": 15,
   "metadata": {},
   "outputs": [
    {
     "data": {
      "image/png": "[encoded data removed]",
      "text/plain": [
       "<Figure size 1440x1440 with 6 Axes>"
      ]
     },
     "metadata": {},
     "output_type": "display_data"
    }
   ],
   "source": [
    "fig,ax = plt.subplots(2,3, figsize=(20,20))            \n",
    "plt.suptitle(\"Distribution of various factors\", fontsize=20)\n",
    "sns.countplot(disney['salary_usd'], ax = ax[0,0]) \n",
    "sns.countplot(disney['is_male'], ax = ax[0,1]) \n",
    "sns.countplot(disney['is_married'], ax = ax[0,2]) \n",
    "sns.countplot(disney['is_employed'], ax = ax[1,0])\n",
    "sns.countplot(disney['children_present'], ax = ax[1,1])  \n",
    "sns.countplot(disney['is_english_primary_language'], ax = ax[1,2])  \n",
    "plt.xticks(rotation=20)\n",
    "plt.subplots_adjust(bottom=0.4)\n",
    "plt.show()"
   ]
  },
  {
   "cell_type": "markdown",
   "metadata": {},
   "source": [
    "### Feature Selection: The scores displayed below identifies the important features."
   ]
  },
  {
   "cell_type": "code",
   "execution_count": 16,
   "metadata": {},
   "outputs": [
    {
     "name": "stdout",
     "output_type": "stream",
     "text": [
      "                                 Disney         Score\n",
      "1                            salary_usd  6.019215e+06\n",
      "3                            is_married  5.034928e+01\n",
      "10                            is_renter  2.946581e+01\n",
      "5                       is_professional  2.112519e+01\n",
      "4                            is_college  1.859386e+01\n",
      "8                      is_single_income  1.312086e+01\n",
      "13           previously_disney_customer  1.091485e+01\n",
      "11                       lives_in_house  7.544560e+00\n",
      "0                                   row  4.478699e+00\n",
      "7                           is_employed  3.430657e+00\n",
      "14  previous_streaming_service_customer  3.423151e+00\n",
      "2                               is_male  2.227969e+00\n",
      "6                             is_senior  7.895765e-01\n",
      "12          is_english_primary_language  7.745896e-01\n",
      "9                      children_present  2.020649e-02\n"
     ]
    }
   ],
   "source": [
    "X =disney.iloc[:,disney.columns != 'transaction' ]\n",
    "y =disney.transaction\n",
    "X.head()\n",
    "bestfeatures = SelectKBest(score_func=chi2, k=10)\n",
    "fit = bestfeatures.fit(X,y)\n",
    "dfscores = pd.DataFrame(fit.scores_)\n",
    "dfcolumns = pd.DataFrame(X.columns)\n",
    "\n",
    "#concat two dataframes for better visualization \n",
    "featureScores = pd.concat([dfcolumns,dfscores],axis=1)\n",
    "featureScores.columns = ['Disney','Score']  #naming the dataframe columns\n",
    "print(featureScores.nlargest(16,'Score'))  #print 10 best features"
   ]
  },
  {
   "cell_type": "markdown",
   "metadata": {},
   "source": [
    "### Based on the above score, I have decided to skip some columns which are not relevant to predict the transaction of disney subscriptions."
   ]
  },
  {
   "cell_type": "code",
   "execution_count": 75,
   "metadata": {},
   "outputs": [],
   "source": [
    "disney_2= disney[['row','transaction','salary_usd','is_married','is_college','is_renter','lives_in_house','is_single_income','is_professional','is_english_primary_language','is_senior','is_employed']].copy()"
   ]
  },
  {
   "cell_type": "markdown",
   "metadata": {},
   "source": [
    "#### Getting correlations of selected  features from dataset by displaying a heatmap."
   ]
  },
  {
   "cell_type": "code",
   "execution_count": 109,
   "metadata": {},
   "outputs": [
    {
     "data": {
      "text/plain": [
       "Text(0.5, 1, 'Correlation plot')"
      ]
     },
     "execution_count": 109,
     "metadata": {},
     "output_type": "execute_result"
    },
    {
     "data": {
      "image/png": "[encoded data removed]",
      "text/plain": [
       "<Figure size 1440x1440 with 2 Axes>"
      ]
     },
     "metadata": {},
     "output_type": "display_data"
    }
   ],
   "source": [
    "corrmat = disney_2.corr()\n",
    "top_corr_features = corrmat.index\n",
    "plt.figure(figsize=(20,20))\n",
    "\n",
    "sns.set(font_scale=2)\n",
    "\n",
    "ax=sns.heatmap(disney_2[top_corr_features].corr(),annot=True,cmap=\"Greens\", annot_kws={\"size\":5})\n",
    "\n",
    "ax.xaxis.set_label_position(\"top\")\n",
    "plt.tight_layout()\n",
    "plt.title('Correlation plot',fontsize=17)"
   ]
  },
  {
   "cell_type": "code",
   "execution_count": 77,
   "metadata": {},
   "outputs": [
    {
     "data": {
      "text/plain": [
       "0    0\n",
       "1    0\n",
       "2    0\n",
       "3    1\n",
       "4    1\n",
       "5    0\n",
       "6    0\n",
       "7    0\n",
       "Name: transaction, dtype: int64"
      ]
     },
     "execution_count": 77,
     "metadata": {},
     "output_type": "execute_result"
    }
   ],
   "source": [
    "disney.transaction.head(8)"
   ]
  },
  {
   "cell_type": "code",
   "execution_count": 78,
   "metadata": {},
   "outputs": [
    {
     "data": {
      "image/png": "[encoded data removed]",
      "text/plain": [
       "<Figure size 1656x576 with 1 Axes>"
      ]
     },
     "metadata": {},
     "output_type": "display_data"
    }
   ],
   "source": [
    "disney.transaction.value_counts()\n",
    "sns.countplot(x = 'transaction', data = disney, palette = 'hls')\n",
    "plt.show()"
   ]
  },
  {
   "cell_type": "markdown",
   "metadata": {},
   "source": [
    "#### We see that the count for transaction is way too much compared to the non-transaction. It means it is an imbalanced dataset and hence I will be using SMOTE technique while implementing logistic regression later in the code."
   ]
  },
  {
   "cell_type": "code",
   "execution_count": 116,
   "metadata": {},
   "outputs": [
    {
     "data": {
      "text/plain": [
       "0    0.813861\n",
       "1    0.186139\n",
       "Name: transaction, dtype: float64"
      ]
     },
     "execution_count": 116,
     "metadata": {},
     "output_type": "execute_result"
    }
   ],
   "source": [
    "TransactionRate=disney.transaction.value_counts()/len(disney)\n",
    "TransactionRate"
   ]
  },
  {
   "cell_type": "markdown",
   "metadata": {},
   "source": [
    "#### By looking at the above countplot, it is understood that there are 81% transactions done and 18% transactions are not done for the disney subscriptions."
   ]
  },
  {
   "cell_type": "markdown",
   "metadata": {},
   "source": [
    "#### Overview of summary (Transaction V.S. Non-Transaction)"
   ]
  },
  {
   "cell_type": "code",
   "execution_count": 117,
   "metadata": {},
   "outputs": [
    {
     "data": {
      "text/html": [
       "<div>\n",
       "<style scoped>\n",
       "    .dataframe tbody tr th:only-of-type {\n",
       "        vertical-align: middle;\n",
       "    }\n",
       "\n",
       "    .dataframe tbody tr th {\n",
       "        vertical-align: top;\n",
       "    }\n",
       "\n",
       "    .dataframe thead th {\n",
       "        text-align: right;\n",
       "    }\n",
       "</style>\n",
       "<table border=\"1\" class=\"dataframe\">\n",
       "  <thead>\n",
       "    <tr style=\"text-align: right;\">\n",
       "      <th></th>\n",
       "      <th>row</th>\n",
       "      <th>salary_usd</th>\n",
       "      <th>is_male</th>\n",
       "      <th>is_married</th>\n",
       "      <th>is_college</th>\n",
       "      <th>is_professional</th>\n",
       "      <th>is_senior</th>\n",
       "      <th>is_employed</th>\n",
       "      <th>is_single_income</th>\n",
       "      <th>children_present</th>\n",
       "      <th>is_renter</th>\n",
       "      <th>lives_in_house</th>\n",
       "      <th>is_english_primary_language</th>\n",
       "      <th>previously_disney_customer</th>\n",
       "      <th>previous_streaming_service_customer</th>\n",
       "    </tr>\n",
       "    <tr>\n",
       "      <th>transaction</th>\n",
       "      <th></th>\n",
       "      <th></th>\n",
       "      <th></th>\n",
       "      <th></th>\n",
       "      <th></th>\n",
       "      <th></th>\n",
       "      <th></th>\n",
       "      <th></th>\n",
       "      <th></th>\n",
       "      <th></th>\n",
       "      <th></th>\n",
       "      <th></th>\n",
       "      <th></th>\n",
       "      <th></th>\n",
       "      <th></th>\n",
       "    </tr>\n",
       "  </thead>\n",
       "  <tbody>\n",
       "    <tr>\n",
       "      <td>0</td>\n",
       "      <td>338.253041</td>\n",
       "      <td>45625.304136</td>\n",
       "      <td>0.464720</td>\n",
       "      <td>0.274939</td>\n",
       "      <td>0.257908</td>\n",
       "      <td>0.294404</td>\n",
       "      <td>0.068127</td>\n",
       "      <td>0.036496</td>\n",
       "      <td>0.829684</td>\n",
       "      <td>0.36253</td>\n",
       "      <td>0.695864</td>\n",
       "      <td>0.625304</td>\n",
       "      <td>0.883212</td>\n",
       "      <td>0.055961</td>\n",
       "      <td>0.068127</td>\n",
       "    </tr>\n",
       "    <tr>\n",
       "      <td>1</td>\n",
       "      <td>333.808511</td>\n",
       "      <td>113308.510638</td>\n",
       "      <td>0.351064</td>\n",
       "      <td>0.765957</td>\n",
       "      <td>0.531915</td>\n",
       "      <td>0.606383</td>\n",
       "      <td>0.042553</td>\n",
       "      <td>0.000000</td>\n",
       "      <td>0.468085</td>\n",
       "      <td>0.37234</td>\n",
       "      <td>0.212766</td>\n",
       "      <td>0.882979</td>\n",
       "      <td>0.978723</td>\n",
       "      <td>0.159574</td>\n",
       "      <td>0.127660</td>\n",
       "    </tr>\n",
       "  </tbody>\n",
       "</table>\n",
       "</div>"
      ],
      "text/plain": [
       "                    row     salary_usd   is_male  is_married  is_college  \\\n",
       "transaction                                                                \n",
       "0            338.253041   45625.304136  0.464720    0.274939    0.257908   \n",
       "1            333.808511  113308.510638  0.351064    0.765957    0.531915   \n",
       "\n",
       "             is_professional  is_senior  is_employed  is_single_income  \\\n",
       "transaction                                                              \n",
       "0                   0.294404   0.068127     0.036496          0.829684   \n",
       "1                   0.606383   0.042553     0.000000          0.468085   \n",
       "\n",
       "             children_present  is_renter  lives_in_house  \\\n",
       "transaction                                                \n",
       "0                     0.36253   0.695864        0.625304   \n",
       "1                     0.37234   0.212766        0.882979   \n",
       "\n",
       "             is_english_primary_language  previously_disney_customer  \\\n",
       "transaction                                                            \n",
       "0                               0.883212                    0.055961   \n",
       "1                               0.978723                    0.159574   \n",
       "\n",
       "             previous_streaming_service_customer  \n",
       "transaction                                       \n",
       "0                                       0.068127  \n",
       "1                                       0.127660  "
      ]
     },
     "execution_count": 117,
     "metadata": {},
     "output_type": "execute_result"
    }
   ],
   "source": [
    "Transaction_Summary = disney.groupby('transaction')\n",
    "Transaction_Summary.mean()"
   ]
  },
  {
   "cell_type": "markdown",
   "metadata": {},
   "source": [
    "### Transaction vs Salary"
   ]
  },
  {
   "cell_type": "markdown",
   "metadata": {},
   "source": [
    "### Distribution of salary and transaction"
   ]
  },
  {
   "cell_type": "code",
   "execution_count": 118,
   "metadata": {},
   "outputs": [
    {
     "data": {
      "image/png": "[encoded data removed]",
      "text/plain": [
       "<Figure size 864x576 with 1 Axes>"
      ]
     },
     "metadata": {},
     "output_type": "display_data"
    }
   ],
   "source": [
    "plt.figure(figsize=(12,8))\n",
    "\n",
    "fig = sns.distplot(disney[disney['transaction'] == 0]['salary_usd'], label='Non Transaction', kde=0, bins=15)\n",
    "sns.distplot(disney[disney['transaction'] == 1]['salary_usd'], label='Transaction', kde=0, bins=15)\n",
    "\n",
    "sns.despine(left=1)\n",
    "fig.grid(axis='x')\n",
    "\n",
    "plt.xlabel('salary_usd',fontsize=15)\n",
    "plt.ylabel('Count',fontsize=15, rotation=0)\n",
    "fig.yaxis.labelpad = 30\n",
    "plt.title('Distribution of Salary in USD',fontsize=20);\n",
    "plt.xticks(fontsize=14)\n",
    "plt.yticks(fontsize=14)\n",
    "fig.yaxis.labelpad = 35\n",
    "plt.legend(fontsize='x-large', bbox_to_anchor=(0.03, 0.95), loc=2, borderaxespad=0., frameon=1)\n",
    "plt.show()"
   ]
  },
  {
   "cell_type": "markdown",
   "metadata": {},
   "source": [
    "- 1. By looking at the above distplot, we can see that the people who have salary more that 60000USD tend to buy the disney subscriptions and less than 60000USD do not tend to buy the subscription.\n",
    "- 2. Highest number of disney subscription rate can be observed amongst people who have 120000USD as their salary."
   ]
  },
  {
   "cell_type": "markdown",
   "metadata": {},
   "source": [
    "## Logistic Regression"
   ]
  },
  {
   "cell_type": "code",
   "execution_count": 112,
   "metadata": {},
   "outputs": [],
   "source": [
    "X = np.array(disney_2.loc[:,disney_2.columns != 'transaction'])\n",
    "y = np.array(disney_2.loc[:,disney_2.columns == 'transaction'])"
   ]
  },
  {
   "cell_type": "code",
   "execution_count": 113,
   "metadata": {},
   "outputs": [
    {
     "data": {
      "text/plain": [
       "array([[  653, 25000,     0, ...,     1,     0,     0],\n",
       "       [  546,  7000,     0, ...,     1,     0,     0],\n",
       "       [  463, 25000,     0, ...,     1,     0,     0],\n",
       "       ...,\n",
       "       [  148, 10000,     0, ...,     1,     0,     1],\n",
       "       [   47, 55000,     1, ...,     1,     0,     0],\n",
       "       [  590, 53000,     0, ...,     1,     0,     0]])"
      ]
     },
     "execution_count": 113,
     "metadata": {},
     "output_type": "execute_result"
    }
   ],
   "source": [
    "X"
   ]
  },
  {
   "cell_type": "code",
   "execution_count": 114,
   "metadata": {},
   "outputs": [
    {
     "data": {
      "text/plain": [
       "(505, 11)"
      ]
     },
     "execution_count": 114,
     "metadata": {},
     "output_type": "execute_result"
    }
   ],
   "source": [
    "X.shape"
   ]
  },
  {
   "cell_type": "code",
   "execution_count": 115,
   "metadata": {},
   "outputs": [
    {
     "name": "stdout",
     "output_type": "stream",
     "text": [
      "Shape of X: (505, 11)\n",
      "Shape of y: (505, 1)\n"
     ]
    }
   ],
   "source": [
    "print('Shape of X: {}'.format(X.shape))\n",
    "print('Shape of y: {}'.format(y.shape))"
   ]
  },
  {
   "cell_type": "code",
   "execution_count": 87,
   "metadata": {},
   "outputs": [
    {
     "name": "stdout",
     "output_type": "stream",
     "text": [
      "Number transactions X_train dataset:  (353, 11)\n",
      "Number transactions y_train dataset:  (353, 1)\n",
      "Number transactions X_test dataset:  (152, 11)\n",
      "Number transactions y_test dataset:  (152, 1)\n"
     ]
    }
   ],
   "source": [
    "X_train, X_test, y_train, y_test = train_test_split(X,y, test_size= 0.3, random_state=0)\n",
    "print(\"Number transactions X_train dataset: \", X_train.shape)\n",
    "print(\"Number transactions y_train dataset: \", y_train.shape)\n",
    "print(\"Number transactions X_test dataset: \", X_test.shape)\n",
    "print(\"Number transactions y_test dataset: \", y_test.shape)"
   ]
  },
  {
   "cell_type": "code",
   "execution_count": 88,
   "metadata": {},
   "outputs": [
    {
     "name": "stdout",
     "output_type": "stream",
     "text": [
      "Before OverSampling, counts of label '1': [68]\n",
      "Before OverSampling, counts of label '0': [285] \n",
      "\n"
     ]
    }
   ],
   "source": [
    "print(\"Before OverSampling, counts of label '1': {}\".format(sum(y_train==1)))\n",
    "print(\"Before OverSampling, counts of label '0': {} \\n\".format(sum(y_train==0)))"
   ]
  },
  {
   "cell_type": "markdown",
   "metadata": {},
   "source": [
    "## SMOTE: Synthetic Minority Over-sampling Technique"
   ]
  },
  {
   "cell_type": "code",
   "execution_count": 89,
   "metadata": {},
   "outputs": [],
   "source": [
    "smote = SMOTE(random_state=2)\n",
    "X_train_res, y_train_res = smote.fit_sample(X_train, y_train.ravel())\n",
    "X_test_res, y_test_res = smote.fit_sample(X_test,y_test)"
   ]
  },
  {
   "cell_type": "code",
   "execution_count": 90,
   "metadata": {},
   "outputs": [],
   "source": [
    "logreg = LogisticRegression()\n",
    "logreg.fit(X_train_res, y_train_res)\n",
    "\n",
    "y_pred = logreg.predict(X_test_res)"
   ]
  },
  {
   "cell_type": "markdown",
   "metadata": {},
   "source": [
    "### Calculating Accuracy"
   ]
  },
  {
   "cell_type": "code",
   "execution_count": 91,
   "metadata": {},
   "outputs": [
    {
     "name": "stdout",
     "output_type": "stream",
     "text": [
      "Accuracy of logistic regression classifier on test set: 0.95\n"
     ]
    }
   ],
   "source": [
    "print('Accuracy of logistic regression classifier on test set: {:.2f}'.format(logreg.score(X_test_res, y_test_res)))"
   ]
  },
  {
   "cell_type": "markdown",
   "metadata": {},
   "source": [
    "### Cross Validation Prediction and score"
   ]
  },
  {
   "cell_type": "code",
   "execution_count": 121,
   "metadata": {},
   "outputs": [
    {
     "name": "stdout",
     "output_type": "stream",
     "text": [
      "cross_val_score : 0.8884705882352939\n"
     ]
    }
   ],
   "source": [
    "cv_pred = cross_val_predict(logreg,X_test_res,y_test_res,cv=5)\n",
    "cv_score = cross_val_score(logreg,X_test_res,y_test_res,cv=5)\n",
    "print('cross_val_score :',np.average(cv_score))"
   ]
  },
  {
   "cell_type": "markdown",
   "metadata": {},
   "source": [
    "### Confusion Matrix"
   ]
  },
  {
   "cell_type": "code",
   "execution_count": 92,
   "metadata": {},
   "outputs": [
    {
     "data": {
      "text/plain": [
       "array([[118,   8],\n",
       "       [  4, 122]])"
      ]
     },
     "execution_count": 92,
     "metadata": {},
     "output_type": "execute_result"
    }
   ],
   "source": [
    "cnf_matrix = metrics.confusion_matrix(y_test_res, y_pred)\n",
    "cnf_matrix\n",
    "\n"
   ]
  },
  {
   "cell_type": "markdown",
   "metadata": {},
   "source": [
    "<P>=>True Positive(TP)= 118</P>\n",
    "<P>=>True Negative(TN)= 122</P>\n",
    "<P>=>False Positive(FP)= 8</P>\n",
    "<P>=>False Negative(NP)= 4</P>}"
   ]
  },
  {
   "cell_type": "code",
   "execution_count": 123,
   "metadata": {},
   "outputs": [
    {
     "data": {
      "text/plain": [
       "Text(0.5, 510.88, 'Predicted label')"
      ]
     },
     "execution_count": 123,
     "metadata": {},
     "output_type": "execute_result"
    },
    {
     "data": {
      "image/png": "[encoded data removed]",
      "text/plain": [
       "<Figure size 1656x576 with 2 Axes>"
      ]
     },
     "metadata": {},
     "output_type": "display_data"
    }
   ],
   "source": [
    "class_names=[1,2,3]\n",
    "fig, ax = plt.subplots()\n",
    "tick_marks = np.arange(len(class_names))\n",
    "plt.xticks(tick_marks, class_names)\n",
    "plt.yticks(tick_marks, class_names)\n",
    "sns.heatmap(pd.DataFrame(cnf_matrix), cmap=\"coolwarm\" ,fmt='g')\n",
    "ax.xaxis.set_label_position(\"top\")\n",
    "plt.tight_layout()\n",
    "plt.title('Confusion matrix', y=1.1)\n",
    "plt.ylabel('Actual label')\n",
    "plt.xlabel('Predicted label')"
   ]
  },
  {
   "cell_type": "markdown",
   "metadata": {},
   "source": [
    "## ROC"
   ]
  },
  {
   "cell_type": "code",
   "execution_count": 94,
   "metadata": {},
   "outputs": [
    {
     "name": "stdout",
     "output_type": "stream",
     "text": [
      "ROC score is: 0.9523809523809524\n"
     ]
    },
    {
     "data": {
      "image/png": "[encoded data removed]",
      "text/plain": [
       "<Figure size 720x576 with 1 Axes>"
      ]
     },
     "metadata": {},
     "output_type": "display_data"
    },
    {
     "name": "stdout",
     "output_type": "stream",
     "text": [
      "AUC: 0.9523809523809524\n"
     ]
    }
   ],
   "source": [
    "roc_score = roc_auc_score(y_test_res,y_pred)\n",
    "print('ROC score is:',roc_score)\n",
    "plt.figure(figsize=(10,8))\n",
    "false_positive_rate, recall, thresholds = roc_curve(y_test_res,y_pred)\n",
    "\n",
    "roc_auc = auc(false_positive_rate,recall)\n",
    "plt.plot(false_positive_rate,recall,'r',label='ROC(area=%0.3f)' %roc_auc)\n",
    "\n",
    "plt.legend()\n",
    "plt.plot([0,1],[0,1],'b--')\n",
    "\n",
    "plt.xlim([0.0,1.0])\n",
    "plt.ylim([0.0,1.0])\n",
    "\n",
    "plt.title('Reciver Operating Characteristics(ROC)', fontsize=18)\n",
    "plt.ylabel('Recall(True Positive Rate)', fontsize=18 )\n",
    "plt.xlabel('False Positive Rate',fontsize=18)\n",
    "plt.show()\n",
    "print('AUC:',roc_auc)"
   ]
  },
  {
   "cell_type": "code",
   "execution_count": 95,
   "metadata": {},
   "outputs": [
    {
     "data": {
      "text/plain": [
       "array([0, 0, 0, 0, 0, 0, 0, 1, 0, 0, 0, 1, 0, 0, 0, 0, 0, 1, 0, 0, 0, 0,\n",
       "       0, 0, 0, 0, 0, 0, 0, 1, 0, 0, 0, 0, 0, 0, 0, 1, 0, 1, 1, 0, 0, 0,\n",
       "       1, 0, 0, 1, 0, 1, 0, 0, 0, 0, 0, 0, 0, 0, 0, 1, 0, 1, 1, 0, 0, 0,\n",
       "       1, 0, 0, 0, 0, 0, 0, 1, 0, 0, 0, 1, 1, 0, 0, 0, 1, 0, 0, 1, 0, 0,\n",
       "       0, 1, 0, 0, 0, 0, 0, 0, 0, 0, 0, 0, 0, 0, 0, 0, 0, 0, 0, 1, 0, 1,\n",
       "       0, 0, 1, 0, 0, 0, 0, 0, 0, 0, 1, 1, 0, 0, 0, 1, 0, 0, 0, 0, 0, 0,\n",
       "       0, 0, 1, 0, 0, 1, 1, 0, 0, 0, 0, 0, 0, 1, 0, 0, 0, 0, 0, 1, 1, 1,\n",
       "       1, 1, 1, 1, 1, 1, 1, 1, 1, 1, 1, 1, 1, 1, 1, 1, 1, 1, 1, 1, 1, 1,\n",
       "       1, 1, 1, 1, 1, 1, 1, 1, 1, 1, 1, 1, 1, 1, 1, 1, 1, 1, 1, 1, 1, 1,\n",
       "       1, 1, 1, 1, 1, 1, 1, 1, 1, 1, 1, 1, 1, 1, 1, 1, 1, 1, 1, 1, 1, 1,\n",
       "       1, 1, 0, 1, 1, 1, 1, 1, 1, 1, 1, 1, 1, 1, 1, 1, 1, 1, 1, 1, 1, 1,\n",
       "       1, 1, 1, 1, 1, 1, 1, 1, 1, 1])"
      ]
     },
     "execution_count": 95,
     "metadata": {},
     "output_type": "execute_result"
    }
   ],
   "source": [
    "logreg.predict(X_test_res)"
   ]
  },
  {
   "cell_type": "code",
   "execution_count": 96,
   "metadata": {},
   "outputs": [
    {
     "data": {
      "text/plain": [
       "0.9523809523809523"
      ]
     },
     "execution_count": 96,
     "metadata": {},
     "output_type": "execute_result"
    }
   ],
   "source": [
    "logreg.score(X_test_res,y_test_res)"
   ]
  },
  {
   "cell_type": "code",
   "execution_count": 97,
   "metadata": {},
   "outputs": [
    {
     "data": {
      "text/plain": [
       "array([[9.94268334e-01, 5.73166555e-03],\n",
       "       [9.98331635e-01, 1.66836506e-03],\n",
       "       [9.99367429e-01, 6.32570719e-04],\n",
       "       [9.94837390e-01, 5.16260989e-03],\n",
       "       [9.99116994e-01, 8.83006090e-04],\n",
       "       [9.75505782e-01, 2.44942176e-02],\n",
       "       [9.33690951e-01, 6.63090490e-02],\n",
       "       [1.63508043e-01, 8.36491957e-01],\n",
       "       [8.67642980e-01, 1.32357020e-01],\n",
       "       [9.93777790e-01, 6.22220973e-03],\n",
       "       [9.98419482e-01, 1.58051833e-03],\n",
       "       [1.86445670e-01, 8.13554330e-01],\n",
       "       [9.75376612e-01, 2.46233879e-02],\n",
       "       [9.83166011e-01, 1.68339892e-02],\n",
       "       [9.99081893e-01, 9.18107100e-04],\n",
       "       [9.25616023e-01, 7.43839766e-02],\n",
       "       [5.32576116e-01, 4.67423884e-01],\n",
       "       [2.11291321e-01, 7.88708679e-01],\n",
       "       [9.86725462e-01, 1.32745375e-02],\n",
       "       [8.20002402e-01, 1.79997598e-01],\n",
       "       [9.99125977e-01, 8.74023425e-04],\n",
       "       [8.44474478e-01, 1.55525522e-01],\n",
       "       [9.90948302e-01, 9.05169764e-03],\n",
       "       [9.85773229e-01, 1.42267709e-02],\n",
       "       [9.95979737e-01, 4.02026324e-03],\n",
       "       [9.98516851e-01, 1.48314912e-03],\n",
       "       [9.79375869e-01, 2.06241308e-02],\n",
       "       [5.09077944e-01, 4.90922056e-01],\n",
       "       [9.99241051e-01, 7.58948967e-04],\n",
       "       [2.67647191e-01, 7.32352809e-01],\n",
       "       [7.65264830e-01, 2.34735170e-01],\n",
       "       [9.91792489e-01, 8.20751069e-03],\n",
       "       [9.93046647e-01, 6.95335268e-03],\n",
       "       [9.94187250e-01, 5.81274974e-03],\n",
       "       [9.82737153e-01, 1.72628469e-02],\n",
       "       [7.98502470e-01, 2.01497530e-01],\n",
       "       [9.23033111e-01, 7.69668890e-02],\n",
       "       [4.56471589e-02, 9.54352841e-01],\n",
       "       [9.45600506e-01, 5.43994941e-02],\n",
       "       [2.08491824e-02, 9.79150818e-01],\n",
       "       [9.42983466e-02, 9.05701653e-01],\n",
       "       [8.93454498e-01, 1.06545502e-01],\n",
       "       [9.90920832e-01, 9.07916849e-03],\n",
       "       [9.98775676e-01, 1.22432368e-03],\n",
       "       [2.69866011e-01, 7.30133989e-01],\n",
       "       [9.99167304e-01, 8.32695770e-04],\n",
       "       [9.89087509e-01, 1.09124909e-02],\n",
       "       [1.51167292e-01, 8.48832708e-01],\n",
       "       [6.93985485e-01, 3.06014515e-01],\n",
       "       [1.90059946e-01, 8.09940054e-01],\n",
       "       [9.93878437e-01, 6.12156344e-03],\n",
       "       [9.98972822e-01, 1.02717812e-03],\n",
       "       [9.98633887e-01, 1.36611283e-03],\n",
       "       [7.68483071e-01, 2.31516929e-01],\n",
       "       [9.98912165e-01, 1.08783529e-03],\n",
       "       [9.92594249e-01, 7.40575100e-03],\n",
       "       [9.96585921e-01, 3.41407866e-03],\n",
       "       [9.98594030e-01, 1.40596997e-03],\n",
       "       [9.00374511e-01, 9.96254886e-02],\n",
       "       [2.61242500e-02, 9.73875750e-01],\n",
       "       [9.86084427e-01, 1.39155729e-02],\n",
       "       [7.90713654e-02, 9.20928635e-01],\n",
       "       [3.05623852e-01, 6.94376148e-01],\n",
       "       [8.06476189e-01, 1.93523811e-01],\n",
       "       [9.99131734e-01, 8.68266293e-04],\n",
       "       [9.18758423e-01, 8.12415774e-02],\n",
       "       [2.18507546e-02, 9.78149245e-01],\n",
       "       [9.97271663e-01, 2.72833741e-03],\n",
       "       [8.26416454e-01, 1.73583546e-01],\n",
       "       [9.91878319e-01, 8.12168075e-03],\n",
       "       [9.91687943e-01, 8.31205684e-03],\n",
       "       [9.98978855e-01, 1.02114509e-03],\n",
       "       [7.41845148e-01, 2.58154852e-01],\n",
       "       [3.43947873e-01, 6.56052127e-01],\n",
       "       [9.87252113e-01, 1.27478872e-02],\n",
       "       [9.54421424e-01, 4.55785755e-02],\n",
       "       [9.94579823e-01, 5.42017727e-03],\n",
       "       [2.61944487e-01, 7.38055513e-01],\n",
       "       [4.20322761e-02, 9.57967724e-01],\n",
       "       [9.53775011e-01, 4.62249887e-02],\n",
       "       [9.93612689e-01, 6.38731148e-03],\n",
       "       [9.53604636e-01, 4.63953639e-02],\n",
       "       [4.86827242e-01, 5.13172758e-01],\n",
       "       [5.25193826e-01, 4.74806174e-01],\n",
       "       [9.97097556e-01, 2.90244394e-03],\n",
       "       [4.57807948e-02, 9.54219205e-01],\n",
       "       [7.75925526e-01, 2.24074474e-01],\n",
       "       [9.44722956e-01, 5.52770443e-02],\n",
       "       [9.92702934e-01, 7.29706631e-03],\n",
       "       [3.62042599e-02, 9.63795740e-01],\n",
       "       [6.97208795e-01, 3.02791205e-01],\n",
       "       [9.14155574e-01, 8.58444257e-02],\n",
       "       [9.72067574e-01, 2.79324260e-02],\n",
       "       [9.87432699e-01, 1.25673012e-02],\n",
       "       [9.96895437e-01, 3.10456295e-03],\n",
       "       [9.43897773e-01, 5.61022271e-02],\n",
       "       [9.83327694e-01, 1.66723064e-02],\n",
       "       [9.97941982e-01, 2.05801830e-03],\n",
       "       [9.95775805e-01, 4.22419513e-03],\n",
       "       [9.97642214e-01, 2.35778634e-03],\n",
       "       [6.63840934e-01, 3.36159066e-01],\n",
       "       [9.98892134e-01, 1.10786633e-03],\n",
       "       [9.98550588e-01, 1.44941162e-03],\n",
       "       [9.81667980e-01, 1.83320200e-02],\n",
       "       [9.70458070e-01, 2.95419298e-02],\n",
       "       [9.98416846e-01, 1.58315358e-03],\n",
       "       [8.76607128e-01, 1.23392872e-01],\n",
       "       [2.05056875e-01, 7.94943125e-01],\n",
       "       [9.38936835e-01, 6.10631648e-02],\n",
       "       [8.13388049e-02, 9.18661195e-01],\n",
       "       [9.90152191e-01, 9.84780940e-03],\n",
       "       [9.97310779e-01, 2.68922118e-03],\n",
       "       [1.04731634e-01, 8.95268366e-01],\n",
       "       [9.93618383e-01, 6.38161719e-03],\n",
       "       [9.96767753e-01, 3.23224664e-03],\n",
       "       [8.75985701e-01, 1.24014299e-01],\n",
       "       [9.57227031e-01, 4.27729690e-02],\n",
       "       [9.95272408e-01, 4.72759249e-03],\n",
       "       [9.67812141e-01, 3.21878591e-02],\n",
       "       [9.98289623e-01, 1.71037671e-03],\n",
       "       [2.68124996e-01, 7.31875004e-01],\n",
       "       [2.60318080e-01, 7.39681920e-01],\n",
       "       [9.98698421e-01, 1.30157898e-03],\n",
       "       [8.84240583e-01, 1.15759417e-01],\n",
       "       [5.15223789e-01, 4.84776211e-01],\n",
       "       [2.40119533e-02, 9.75988047e-01],\n",
       "       [8.52590736e-01, 1.47409264e-01],\n",
       "       [6.71010594e-01, 3.28989406e-01],\n",
       "       [6.05673623e-01, 3.94326377e-01],\n",
       "       [6.01834943e-01, 3.98165057e-01],\n",
       "       [9.98753657e-01, 1.24634254e-03],\n",
       "       [9.99359606e-01, 6.40393672e-04],\n",
       "       [9.88946633e-01, 1.10533670e-02],\n",
       "       [9.96082742e-01, 3.91725832e-03],\n",
       "       [1.24882843e-01, 8.75117157e-01],\n",
       "       [9.99259805e-01, 7.40194679e-04],\n",
       "       [9.91520194e-01, 8.47980559e-03],\n",
       "       [1.88471062e-01, 8.11528938e-01],\n",
       "       [2.35238669e-01, 7.64761331e-01],\n",
       "       [9.53804575e-01, 4.61954253e-02],\n",
       "       [9.95682416e-01, 4.31758426e-03],\n",
       "       [9.93551185e-01, 6.44881456e-03],\n",
       "       [9.80812076e-01, 1.91879243e-02],\n",
       "       [8.16101194e-01, 1.83898806e-01],\n",
       "       [9.99002322e-01, 9.97677521e-04],\n",
       "       [2.74631720e-01, 7.25368280e-01],\n",
       "       [9.92848120e-01, 7.15187998e-03],\n",
       "       [9.29360834e-01, 7.06391656e-02],\n",
       "       [8.97815853e-01, 1.02184147e-01],\n",
       "       [8.85201247e-01, 1.14798753e-01],\n",
       "       [9.99337028e-01, 6.62972081e-04],\n",
       "       [1.50895750e-02, 9.84910425e-01],\n",
       "       [1.26607673e-01, 8.73392327e-01],\n",
       "       [2.14729297e-01, 7.85270703e-01],\n",
       "       [4.84738080e-02, 9.51526192e-01],\n",
       "       [1.58190286e-01, 8.41809714e-01],\n",
       "       [4.56471589e-02, 9.54352841e-01],\n",
       "       [2.65860998e-01, 7.34139002e-01],\n",
       "       [7.53186203e-02, 9.24681380e-01],\n",
       "       [5.25772193e-02, 9.47422781e-01],\n",
       "       [4.56471589e-02, 9.54352841e-01],\n",
       "       [2.70556565e-02, 9.72944343e-01],\n",
       "       [4.73215861e-02, 9.52678414e-01],\n",
       "       [2.71579613e-01, 7.28420387e-01],\n",
       "       [7.95432129e-02, 9.20456787e-01],\n",
       "       [4.55360795e-02, 9.54463921e-01],\n",
       "       [8.51169449e-02, 9.14883055e-01],\n",
       "       [4.80984107e-02, 9.51901589e-01],\n",
       "       [5.42705894e-02, 9.45729411e-01],\n",
       "       [7.96881039e-02, 9.20311896e-01],\n",
       "       [7.78413071e-02, 9.22158693e-01],\n",
       "       [2.66686216e-02, 9.73331378e-01],\n",
       "       [1.52878517e-01, 8.47121483e-01],\n",
       "       [5.08098199e-02, 9.49190180e-01],\n",
       "       [1.99463924e-02, 9.80053608e-01],\n",
       "       [1.65103906e-01, 8.34896094e-01],\n",
       "       [1.37182915e-02, 9.86281709e-01],\n",
       "       [4.30512334e-02, 9.56948767e-01],\n",
       "       [8.31889078e-02, 9.16811092e-01],\n",
       "       [2.61632467e-02, 9.73836753e-01],\n",
       "       [5.27427068e-02, 9.47257293e-01],\n",
       "       [1.95050023e-01, 8.04949977e-01],\n",
       "       [2.70570786e-01, 7.29429214e-01],\n",
       "       [1.57561289e-02, 9.84243871e-01],\n",
       "       [4.63267249e-02, 9.53673275e-01],\n",
       "       [6.92351257e-02, 9.30764874e-01],\n",
       "       [4.58031036e-02, 9.54196896e-01],\n",
       "       [2.60464261e-02, 9.73953574e-01],\n",
       "       [2.71610395e-02, 9.72838961e-01],\n",
       "       [1.26325660e-01, 8.73674340e-01],\n",
       "       [4.77954346e-02, 9.52204565e-01],\n",
       "       [6.08671034e-02, 9.39132897e-01],\n",
       "       [1.28568062e-01, 8.71431938e-01],\n",
       "       [7.59325461e-02, 9.24067454e-01],\n",
       "       [2.20998147e-02, 9.77900185e-01],\n",
       "       [5.63773068e-02, 9.43622693e-01],\n",
       "       [1.85207805e-01, 8.14792195e-01],\n",
       "       [2.67558488e-01, 7.32441512e-01],\n",
       "       [2.15052907e-02, 9.78494709e-01],\n",
       "       [4.82857631e-02, 9.51714237e-01],\n",
       "       [1.27286702e-01, 8.72713298e-01],\n",
       "       [5.00276335e-02, 9.49972367e-01],\n",
       "       [2.70974034e-01, 7.29025966e-01],\n",
       "       [4.68619304e-01, 5.31380696e-01],\n",
       "       [1.34853950e-02, 9.86514605e-01],\n",
       "       [1.19860234e-01, 8.80139766e-01],\n",
       "       [1.80399454e-02, 9.81960055e-01],\n",
       "       [1.43167456e-02, 9.85683254e-01],\n",
       "       [4.26325137e-02, 9.57367486e-01],\n",
       "       [2.87290436e-02, 9.71270956e-01],\n",
       "       [2.63984195e-02, 9.73601580e-01],\n",
       "       [1.52191127e-02, 9.84780887e-01],\n",
       "       [3.01204407e-01, 6.98795593e-01],\n",
       "       [8.41282404e-02, 9.15871760e-01],\n",
       "       [8.25007606e-02, 9.17499239e-01],\n",
       "       [4.66380738e-02, 9.53361926e-01],\n",
       "       [2.07449537e-01, 7.92550463e-01],\n",
       "       [1.51695463e-02, 9.84830454e-01],\n",
       "       [1.20696220e-01, 8.79303780e-01],\n",
       "       [1.23434503e-01, 8.76565497e-01],\n",
       "       [3.12782243e-01, 6.87217757e-01],\n",
       "       [2.14146479e-02, 9.78585352e-01],\n",
       "       [5.95336296e-01, 4.04663704e-01],\n",
       "       [2.12701983e-02, 9.78729802e-01],\n",
       "       [2.82193535e-02, 9.71780646e-01],\n",
       "       [4.65224738e-02, 9.53477526e-01],\n",
       "       [4.83561986e-02, 9.51643801e-01],\n",
       "       [1.33950110e-02, 9.86604989e-01],\n",
       "       [1.04683772e-01, 8.95316228e-01],\n",
       "       [2.68459939e-01, 7.31540061e-01],\n",
       "       [6.25297503e-02, 9.37470250e-01],\n",
       "       [1.32340373e-02, 9.86765963e-01],\n",
       "       [4.62514591e-02, 9.53748541e-01],\n",
       "       [4.57139303e-02, 9.54286070e-01],\n",
       "       [7.71959324e-02, 9.22804068e-01],\n",
       "       [7.37410482e-02, 9.26258952e-01],\n",
       "       [2.00643261e-02, 9.79935674e-01],\n",
       "       [1.59032818e-02, 9.84096718e-01],\n",
       "       [2.60853098e-02, 9.73914690e-01],\n",
       "       [1.24589149e-01, 8.75410851e-01],\n",
       "       [7.51905576e-02, 9.24809442e-01],\n",
       "       [2.64378144e-02, 9.73562186e-01],\n",
       "       [2.16921260e-01, 7.83078740e-01],\n",
       "       [2.49803066e-02, 9.75019693e-01],\n",
       "       [7.18118173e-02, 9.28188183e-01],\n",
       "       [5.75735137e-02, 9.42426486e-01],\n",
       "       [2.64368930e-01, 7.35631070e-01],\n",
       "       [1.51889343e-01, 8.48110657e-01],\n",
       "       [1.96797927e-01, 8.03202073e-01],\n",
       "       [1.76863899e-02, 9.82313610e-01],\n",
       "       [4.54031239e-02, 9.54596876e-01],\n",
       "       [6.01027238e-02, 9.39897276e-01]])"
      ]
     },
     "execution_count": 97,
     "metadata": {},
     "output_type": "execute_result"
    }
   ],
   "source": [
    "logreg.predict_proba(X_test_res)"
   ]
  },
  {
   "cell_type": "code",
   "execution_count": 104,
   "metadata": {},
   "outputs": [
    {
     "data": {
      "text/plain": [
       "RangeIndex(start=0, stop=5, step=1)"
      ]
     },
     "execution_count": 104,
     "metadata": {},
     "output_type": "execute_result"
    }
   ],
   "source": [
    "arbitrary_values1 = pd.DataFrame(data = {'row':[93,672,463,546,672]})\n",
    "arbitrary_values1.index"
   ]
  },
  {
   "cell_type": "code",
   "execution_count": 105,
   "metadata": {},
   "outputs": [
    {
     "data": {
      "text/html": [
       "<div>\n",
       "<style scoped>\n",
       "    .dataframe tbody tr th:only-of-type {\n",
       "        vertical-align: middle;\n",
       "    }\n",
       "\n",
       "    .dataframe tbody tr th {\n",
       "        vertical-align: top;\n",
       "    }\n",
       "\n",
       "    .dataframe thead th {\n",
       "        text-align: right;\n",
       "    }\n",
       "</style>\n",
       "<table border=\"1\" class=\"dataframe\">\n",
       "  <thead>\n",
       "    <tr style=\"text-align: right;\">\n",
       "      <th></th>\n",
       "      <th>row</th>\n",
       "      <th>transaction</th>\n",
       "      <th>salary_usd</th>\n",
       "      <th>is_married</th>\n",
       "      <th>is_college</th>\n",
       "      <th>is_renter</th>\n",
       "      <th>lives_in_house</th>\n",
       "      <th>is_single_income</th>\n",
       "      <th>is_professional</th>\n",
       "      <th>is_english_primary_language</th>\n",
       "      <th>is_senior</th>\n",
       "      <th>is_employed</th>\n",
       "    </tr>\n",
       "  </thead>\n",
       "  <tbody>\n",
       "    <tr>\n",
       "      <td>0</td>\n",
       "      <td>653</td>\n",
       "      <td>0</td>\n",
       "      <td>25000</td>\n",
       "      <td>0</td>\n",
       "      <td>0</td>\n",
       "      <td>1</td>\n",
       "      <td>0</td>\n",
       "      <td>1</td>\n",
       "      <td>0</td>\n",
       "      <td>1</td>\n",
       "      <td>0</td>\n",
       "      <td>0</td>\n",
       "    </tr>\n",
       "    <tr>\n",
       "      <td>1</td>\n",
       "      <td>546</td>\n",
       "      <td>0</td>\n",
       "      <td>7000</td>\n",
       "      <td>0</td>\n",
       "      <td>0</td>\n",
       "      <td>1</td>\n",
       "      <td>1</td>\n",
       "      <td>1</td>\n",
       "      <td>0</td>\n",
       "      <td>1</td>\n",
       "      <td>0</td>\n",
       "      <td>0</td>\n",
       "    </tr>\n",
       "    <tr>\n",
       "      <td>2</td>\n",
       "      <td>463</td>\n",
       "      <td>0</td>\n",
       "      <td>25000</td>\n",
       "      <td>0</td>\n",
       "      <td>0</td>\n",
       "      <td>1</td>\n",
       "      <td>0</td>\n",
       "      <td>1</td>\n",
       "      <td>1</td>\n",
       "      <td>1</td>\n",
       "      <td>0</td>\n",
       "      <td>0</td>\n",
       "    </tr>\n",
       "    <tr>\n",
       "      <td>3</td>\n",
       "      <td>93</td>\n",
       "      <td>1</td>\n",
       "      <td>124000</td>\n",
       "      <td>1</td>\n",
       "      <td>1</td>\n",
       "      <td>0</td>\n",
       "      <td>1</td>\n",
       "      <td>0</td>\n",
       "      <td>1</td>\n",
       "      <td>1</td>\n",
       "      <td>0</td>\n",
       "      <td>0</td>\n",
       "    </tr>\n",
       "    <tr>\n",
       "      <td>4</td>\n",
       "      <td>672</td>\n",
       "      <td>1</td>\n",
       "      <td>84000</td>\n",
       "      <td>1</td>\n",
       "      <td>0</td>\n",
       "      <td>0</td>\n",
       "      <td>1</td>\n",
       "      <td>0</td>\n",
       "      <td>1</td>\n",
       "      <td>1</td>\n",
       "      <td>0</td>\n",
       "      <td>0</td>\n",
       "    </tr>\n",
       "    <tr>\n",
       "      <td>5</td>\n",
       "      <td>273</td>\n",
       "      <td>0</td>\n",
       "      <td>66000</td>\n",
       "      <td>0</td>\n",
       "      <td>1</td>\n",
       "      <td>1</td>\n",
       "      <td>0</td>\n",
       "      <td>1</td>\n",
       "      <td>0</td>\n",
       "      <td>0</td>\n",
       "      <td>0</td>\n",
       "      <td>0</td>\n",
       "    </tr>\n",
       "  </tbody>\n",
       "</table>\n",
       "</div>"
      ],
      "text/plain": [
       "   row  transaction  salary_usd  is_married  is_college  is_renter  \\\n",
       "0  653            0       25000           0           0          1   \n",
       "1  546            0        7000           0           0          1   \n",
       "2  463            0       25000           0           0          1   \n",
       "3   93            1      124000           1           1          0   \n",
       "4  672            1       84000           1           0          0   \n",
       "5  273            0       66000           0           1          1   \n",
       "\n",
       "   lives_in_house  is_single_income  is_professional  \\\n",
       "0               0                 1                0   \n",
       "1               1                 1                0   \n",
       "2               0                 1                1   \n",
       "3               1                 0                1   \n",
       "4               1                 0                1   \n",
       "5               0                 1                0   \n",
       "\n",
       "   is_english_primary_language  is_senior  is_employed  \n",
       "0                            1          0            0  \n",
       "1                            1          0            0  \n",
       "2                            1          0            0  \n",
       "3                            1          0            0  \n",
       "4                            1          0            0  \n",
       "5                            0          0            0  "
      ]
     },
     "execution_count": 105,
     "metadata": {},
     "output_type": "execute_result"
    }
   ],
   "source": [
    "disney_2.head(6)"
   ]
  },
  {
   "cell_type": "code",
   "execution_count": 107,
   "metadata": {},
   "outputs": [
    {
     "data": {
      "text/html": [
       "<div>\n",
       "<style scoped>\n",
       "    .dataframe tbody tr th:only-of-type {\n",
       "        vertical-align: middle;\n",
       "    }\n",
       "\n",
       "    .dataframe tbody tr th {\n",
       "        vertical-align: top;\n",
       "    }\n",
       "\n",
       "    .dataframe thead th {\n",
       "        text-align: right;\n",
       "    }\n",
       "</style>\n",
       "<table border=\"1\" class=\"dataframe\">\n",
       "  <thead>\n",
       "    <tr style=\"text-align: right;\">\n",
       "      <th></th>\n",
       "      <th>row</th>\n",
       "      <th>salary_usd</th>\n",
       "      <th>is_married</th>\n",
       "      <th>is_college</th>\n",
       "      <th>is_professional</th>\n",
       "      <th>is_senior</th>\n",
       "      <th>is_employed</th>\n",
       "      <th>is_single_income</th>\n",
       "      <th>is_renter</th>\n",
       "      <th>lives_in_house</th>\n",
       "      <th>is_english_primary_language</th>\n",
       "      <th>Prediction</th>\n",
       "    </tr>\n",
       "  </thead>\n",
       "  <tbody>\n",
       "    <tr>\n",
       "      <td>0</td>\n",
       "      <td>93</td>\n",
       "      <td>7000</td>\n",
       "      <td>0</td>\n",
       "      <td>0</td>\n",
       "      <td>0</td>\n",
       "      <td>0</td>\n",
       "      <td>1</td>\n",
       "      <td>1</td>\n",
       "      <td>0</td>\n",
       "      <td>0</td>\n",
       "      <td>1</td>\n",
       "      <td>0</td>\n",
       "    </tr>\n",
       "    <tr>\n",
       "      <td>1</td>\n",
       "      <td>672</td>\n",
       "      <td>124000</td>\n",
       "      <td>1</td>\n",
       "      <td>1</td>\n",
       "      <td>1</td>\n",
       "      <td>0</td>\n",
       "      <td>1</td>\n",
       "      <td>1</td>\n",
       "      <td>1</td>\n",
       "      <td>1</td>\n",
       "      <td>0</td>\n",
       "      <td>0</td>\n",
       "    </tr>\n",
       "    <tr>\n",
       "      <td>2</td>\n",
       "      <td>463</td>\n",
       "      <td>84000</td>\n",
       "      <td>0</td>\n",
       "      <td>0</td>\n",
       "      <td>1</td>\n",
       "      <td>1</td>\n",
       "      <td>0</td>\n",
       "      <td>0</td>\n",
       "      <td>0</td>\n",
       "      <td>1</td>\n",
       "      <td>0</td>\n",
       "      <td>1</td>\n",
       "    </tr>\n",
       "    <tr>\n",
       "      <td>3</td>\n",
       "      <td>546</td>\n",
       "      <td>25000</td>\n",
       "      <td>1</td>\n",
       "      <td>1</td>\n",
       "      <td>1</td>\n",
       "      <td>1</td>\n",
       "      <td>0</td>\n",
       "      <td>1</td>\n",
       "      <td>1</td>\n",
       "      <td>1</td>\n",
       "      <td>1</td>\n",
       "      <td>0</td>\n",
       "    </tr>\n",
       "    <tr>\n",
       "      <td>4</td>\n",
       "      <td>672</td>\n",
       "      <td>124000</td>\n",
       "      <td>0</td>\n",
       "      <td>1</td>\n",
       "      <td>1</td>\n",
       "      <td>0</td>\n",
       "      <td>1</td>\n",
       "      <td>1</td>\n",
       "      <td>1</td>\n",
       "      <td>1</td>\n",
       "      <td>1</td>\n",
       "      <td>0</td>\n",
       "    </tr>\n",
       "  </tbody>\n",
       "</table>\n",
       "</div>"
      ],
      "text/plain": [
       "   row  salary_usd  is_married  is_college  is_professional  is_senior  \\\n",
       "0   93        7000           0           0                0          0   \n",
       "1  672      124000           1           1                1          0   \n",
       "2  463       84000           0           0                1          1   \n",
       "3  546       25000           1           1                1          1   \n",
       "4  672      124000           0           1                1          0   \n",
       "\n",
       "   is_employed  is_single_income  is_renter  lives_in_house  \\\n",
       "0            1                 1          0               0   \n",
       "1            1                 1          1               1   \n",
       "2            0                 0          0               1   \n",
       "3            0                 1          1               1   \n",
       "4            1                 1          1               1   \n",
       "\n",
       "   is_english_primary_language  Prediction  \n",
       "0                            1           0  \n",
       "1                            0           0  \n",
       "2                            0           1  \n",
       "3                            1           0  \n",
       "4                            1           0  "
      ]
     },
     "execution_count": 107,
     "metadata": {},
     "output_type": "execute_result"
    }
   ],
   "source": [
    "#Now, let's use the model to predict funeral plot purchases for arbitray values\n",
    "arbitrary_values1 = pd.DataFrame(data = {'row':[93,672,463,546,672]})\n",
    "arbitrary_values2 = pd.DataFrame(data = {'salary_usd': [7000,124000,84000,25000,124000]})\n",
    "arbitrary_values3 = pd.DataFrame(data = {'is_married':[0,1,0,1,0]})\n",
    "arbitrary_values4 = pd.DataFrame(data = {'is_college':[0,1,0,1,1]})\n",
    "arbitrary_values5 = pd.DataFrame(data = {'is_professional': [0,1,1,1,1]})\n",
    "arbitrary_values6 = pd.DataFrame(data = {'is_senior':[0,0,1,1,0]})\n",
    "arbitrary_values7 = pd.DataFrame(data = {'is_employed':[1,1,0,0,1]})\n",
    "arbitrary_values8 = pd.DataFrame(data = {'is_single_income': [1,1,0,1,1]})\n",
    "arbitrary_values9 = pd.DataFrame(data = {'is_renter':[0,1,0,1,1]})\n",
    "arbitrary_values10 = pd.DataFrame(data = {'lives_in_house':[0,1,1,1,1]})\n",
    "arbitrary_values11 = pd.DataFrame(data = {'is_english_primary_language':[1,0,0,1,1]})\n",
    "\n",
    "\n",
    "arbitrary_values_merged = arbitrary_values1.join(arbitrary_values2).join(arbitrary_values3).join(arbitrary_values4).join(arbitrary_values5).join(arbitrary_values6).join(arbitrary_values7).join(arbitrary_values8).join(arbitrary_values9).join(arbitrary_values10).join(arbitrary_values11).set_index([pd.Index(arbitrary_values1.index)])\n",
    "arbitrary_values_merged\n",
    "\n",
    "final_df = arbitrary_values_merged.join(pd.DataFrame(logreg.predict(arbitrary_values_merged), columns = {'Prediction'}).set_index([pd.Index(arbitrary_values_merged.index)]))\n",
    "final_df"
   ]
  },
  {
   "cell_type": "markdown",
   "metadata": {},
   "source": [
    "- 1. The above table contains predicted transaction values for different features.\n",
    "- 2. We can observe that those who are having single income are not keen on buying the disney subscription.\n",
    "- 3. We can also observe that the people who are married and have different salary range do not tend to buy the subscription."
   ]
  }
 ],
 "metadata": {
  "kernelspec": {
   "display_name": "Python 3",
   "language": "python",
   "name": "python3"
  },
  "language_info": {
   "codemirror_mode": {
    "name": "ipython",
    "version": 3
   },
   "file_extension": ".py",
   "mimetype": "text/x-python",
   "name": "python",
   "nbconvert_exporter": "python",
   "pygments_lexer": "ipython3",
   "version": "3.7.4"
  }
 },
 "nbformat": 4,
 "nbformat_minor": 2
}
