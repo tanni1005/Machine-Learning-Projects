{
 "cells": [
  {
   "cell_type": "markdown",
   "metadata": {},
   "source": [
    "### Author: Tanvi Bhagat"
   ]
  },
  {
   "cell_type": "markdown",
   "metadata": {},
   "source": [
    "### AIM: To do exploratory data analysis and implement linear regression."
   ]
  },
  {
   "cell_type": "markdown",
   "metadata": {},
   "source": [
    "#### Importing Packages"
   ]
  },
  {
   "cell_type": "code",
   "execution_count": 2,
   "metadata": {},
   "outputs": [],
   "source": [
    "import matplotlib.pyplot as plt\n",
    "import numpy as np\n",
    "import pandas as pd\n",
    "import seaborn as sns\n",
    "%matplotlib inline\n"
   ]
  },
  {
   "cell_type": "code",
   "execution_count": 3,
   "metadata": {},
   "outputs": [],
   "source": [
    "fleet_data = pd.read_csv(\"Fleet Data.csv\")"
   ]
  },
  {
   "cell_type": "code",
   "execution_count": 4,
   "metadata": {},
   "outputs": [
    {
     "data": {
      "text/html": [
       "<div>\n",
       "<style scoped>\n",
       "    .dataframe tbody tr th:only-of-type {\n",
       "        vertical-align: middle;\n",
       "    }\n",
       "\n",
       "    .dataframe tbody tr th {\n",
       "        vertical-align: top;\n",
       "    }\n",
       "\n",
       "    .dataframe thead th {\n",
       "        text-align: right;\n",
       "    }\n",
       "</style>\n",
       "<table border=\"1\" class=\"dataframe\">\n",
       "  <thead>\n",
       "    <tr style=\"text-align: right;\">\n",
       "      <th></th>\n",
       "      <th>Parent Airline</th>\n",
       "      <th>Airline</th>\n",
       "      <th>Aircraft Type</th>\n",
       "      <th>Current</th>\n",
       "      <th>Future</th>\n",
       "      <th>Historic</th>\n",
       "      <th>Total</th>\n",
       "      <th>Orders</th>\n",
       "      <th>Unit Cost</th>\n",
       "      <th>Total Cost (Current)</th>\n",
       "      <th>Average Age</th>\n",
       "    </tr>\n",
       "  </thead>\n",
       "  <tbody>\n",
       "    <tr>\n",
       "      <td>0</td>\n",
       "      <td>Aegean Airlines</td>\n",
       "      <td>Aegean Airlines</td>\n",
       "      <td>Airbus A319</td>\n",
       "      <td>1.0</td>\n",
       "      <td>NaN</td>\n",
       "      <td>3.0</td>\n",
       "      <td>4.0</td>\n",
       "      <td>NaN</td>\n",
       "      <td>$90</td>\n",
       "      <td>$90</td>\n",
       "      <td>11.6</td>\n",
       "    </tr>\n",
       "    <tr>\n",
       "      <td>1</td>\n",
       "      <td>Aegean Airlines</td>\n",
       "      <td>Olympic Air</td>\n",
       "      <td>Airbus A319</td>\n",
       "      <td>NaN</td>\n",
       "      <td>NaN</td>\n",
       "      <td>8.0</td>\n",
       "      <td>8.0</td>\n",
       "      <td>NaN</td>\n",
       "      <td>$90</td>\n",
       "      <td>$0</td>\n",
       "      <td>NaN</td>\n",
       "    </tr>\n",
       "    <tr>\n",
       "      <td>2</td>\n",
       "      <td>Aegean Airlines</td>\n",
       "      <td>Aegean Airlines</td>\n",
       "      <td>Airbus A320</td>\n",
       "      <td>38.0</td>\n",
       "      <td>NaN</td>\n",
       "      <td>3.0</td>\n",
       "      <td>41.0</td>\n",
       "      <td>NaN</td>\n",
       "      <td>$98</td>\n",
       "      <td>$3,724</td>\n",
       "      <td>7.5</td>\n",
       "    </tr>\n",
       "    <tr>\n",
       "      <td>3</td>\n",
       "      <td>Aegean Airlines</td>\n",
       "      <td>Olympic Air</td>\n",
       "      <td>Airbus A320</td>\n",
       "      <td>NaN</td>\n",
       "      <td>NaN</td>\n",
       "      <td>9.0</td>\n",
       "      <td>9.0</td>\n",
       "      <td>NaN</td>\n",
       "      <td>$98</td>\n",
       "      <td>$0</td>\n",
       "      <td>NaN</td>\n",
       "    </tr>\n",
       "    <tr>\n",
       "      <td>4</td>\n",
       "      <td>Aegean Airlines</td>\n",
       "      <td>Aegean Airlines</td>\n",
       "      <td>Airbus A321</td>\n",
       "      <td>8.0</td>\n",
       "      <td>NaN</td>\n",
       "      <td>NaN</td>\n",
       "      <td>8.0</td>\n",
       "      <td>NaN</td>\n",
       "      <td>$115</td>\n",
       "      <td>$919</td>\n",
       "      <td>10.3</td>\n",
       "    </tr>\n",
       "  </tbody>\n",
       "</table>\n",
       "</div>"
      ],
      "text/plain": [
       "    Parent Airline          Airline Aircraft Type  Current  Future  Historic  \\\n",
       "0  Aegean Airlines  Aegean Airlines   Airbus A319      1.0     NaN       3.0   \n",
       "1  Aegean Airlines      Olympic Air   Airbus A319      NaN     NaN       8.0   \n",
       "2  Aegean Airlines  Aegean Airlines   Airbus A320     38.0     NaN       3.0   \n",
       "3  Aegean Airlines      Olympic Air   Airbus A320      NaN     NaN       9.0   \n",
       "4  Aegean Airlines  Aegean Airlines   Airbus A321      8.0     NaN       NaN   \n",
       "\n",
       "   Total  Orders Unit Cost Total Cost (Current)  Average Age  \n",
       "0    4.0     NaN       $90                  $90         11.6  \n",
       "1    8.0     NaN       $90                   $0          NaN  \n",
       "2   41.0     NaN       $98               $3,724          7.5  \n",
       "3    9.0     NaN       $98                   $0          NaN  \n",
       "4    8.0     NaN      $115                 $919         10.3  "
      ]
     },
     "execution_count": 4,
     "metadata": {},
     "output_type": "execute_result"
    }
   ],
   "source": [
    "fleet_data.head()"
   ]
  },
  {
   "cell_type": "code",
   "execution_count": 157,
   "metadata": {},
   "outputs": [
    {
     "name": "stdout",
     "output_type": "stream",
     "text": [
      "<class 'pandas.core.frame.DataFrame'>\n",
      "RangeIndex: 1583 entries, 0 to 1582\n",
      "Data columns (total 11 columns):\n",
      "Parent Airline          1583 non-null object\n",
      "Airline                 1583 non-null object\n",
      "Aircraft Type           1583 non-null object\n",
      "Current                 859 non-null float64\n",
      "Future                  188 non-null float64\n",
      "Historic                1113 non-null float64\n",
      "Total                   1484 non-null float64\n",
      "Orders                  348 non-null float64\n",
      "Unit Cost               1548 non-null object\n",
      "Total Cost (Current)    1556 non-null object\n",
      "Average Age             820 non-null float64\n",
      "dtypes: float64(6), object(5)\n",
      "memory usage: 136.2+ KB\n"
     ]
    }
   ],
   "source": [
    "fleet_data.info()"
   ]
  },
  {
   "cell_type": "code",
   "execution_count": 158,
   "metadata": {},
   "outputs": [
    {
     "data": {
      "text/plain": [
       "Index(['Parent Airline', 'Airline', 'Aircraft Type', 'Current', 'Future',\n",
       "       'Historic', 'Total', 'Orders', 'Unit Cost', 'Total Cost (Current)',\n",
       "       'Average Age'],\n",
       "      dtype='object')"
      ]
     },
     "execution_count": 158,
     "metadata": {},
     "output_type": "execute_result"
    }
   ],
   "source": [
    "fleet_data.columns"
   ]
  },
  {
   "cell_type": "code",
   "execution_count": 17,
   "metadata": {},
   "outputs": [
    {
     "data": {
      "text/plain": [
       "101"
      ]
     },
     "execution_count": 17,
     "metadata": {},
     "output_type": "execute_result"
    }
   ],
   "source": [
    "fleet_data['Aircraft Type'].nunique()"
   ]
  },
  {
   "cell_type": "markdown",
   "metadata": {},
   "source": [
    "### Exploratory Data Analysis"
   ]
  },
  {
   "cell_type": "code",
   "execution_count": 101,
   "metadata": {},
   "outputs": [
    {
     "data": {
      "text/plain": [
       "Airline\n",
       "Lion Air                   425.0\n",
       "IndiGo                     420.0\n",
       "AirAsia                    401.0\n",
       "American Airlines          287.0\n",
       "Southwest Airlines         284.0\n",
       "Delta Airlines             268.0\n",
       "China Eastern Airlines     233.0\n",
       "Emirates                   231.0\n",
       "Skywest                    225.0\n",
       "RyanAir                    205.0\n",
       "Etihad Airways             190.0\n",
       "Qatar Airways              187.0\n",
       "Turkish Airlines           179.0\n",
       "Lufthansa                  176.0\n",
       "Air China                  175.0\n",
       "United Airlines            173.0\n",
       "easyJet                    165.0\n",
       "Avianca                    161.0\n",
       "Aeroflot                   161.0\n",
       "Wizz Air                   137.0\n",
       "JetBlue Airways            136.0\n",
       "Gol Linhas Aéreas          134.0\n",
       "Korean Air                 133.0\n",
       "Air Canada                 122.0\n",
       "China Southern Airlines    115.0\n",
       "Name: Orders, dtype: float64"
      ]
     },
     "execution_count": 101,
     "metadata": {},
     "output_type": "execute_result"
    }
   ],
   "source": [
    "#Airline that has the most orders\n",
    "fleet_data.groupby(by= 'Airline').sum()['Orders'].sort_values(ascending= False).head(25)"
   ]
  },
  {
   "cell_type": "code",
   "execution_count": 25,
   "metadata": {},
   "outputs": [],
   "source": [
    "aircraftfleet= fleet_data[['Airline', 'Aircraft Type', 'Current', 'Future', 'Historic', 'Total', 'Orders', 'Total Cost (Current)']].copy()"
   ]
  },
  {
   "cell_type": "code",
   "execution_count": 26,
   "metadata": {},
   "outputs": [],
   "source": [
    "parentfleet= fleet_data[['Parent Airline', 'Aircraft Type', 'Current', 'Future', 'Historic','Total', 'Orders', 'Total Cost (Current)']].copy()"
   ]
  },
  {
   "cell_type": "code",
   "execution_count": 27,
   "metadata": {},
   "outputs": [
    {
     "data": {
      "text/html": [
       "<div>\n",
       "<style scoped>\n",
       "    .dataframe tbody tr th:only-of-type {\n",
       "        vertical-align: middle;\n",
       "    }\n",
       "\n",
       "    .dataframe tbody tr th {\n",
       "        vertical-align: top;\n",
       "    }\n",
       "\n",
       "    .dataframe thead th {\n",
       "        text-align: right;\n",
       "    }\n",
       "</style>\n",
       "<table border=\"1\" class=\"dataframe\">\n",
       "  <thead>\n",
       "    <tr style=\"text-align: right;\">\n",
       "      <th></th>\n",
       "      <th>Parent Airline</th>\n",
       "      <th>Aircraft Type</th>\n",
       "      <th>Current</th>\n",
       "      <th>Future</th>\n",
       "      <th>Historic</th>\n",
       "      <th>Total</th>\n",
       "      <th>Orders</th>\n",
       "      <th>Total Cost (Current)</th>\n",
       "    </tr>\n",
       "  </thead>\n",
       "  <tbody>\n",
       "    <tr>\n",
       "      <td>0</td>\n",
       "      <td>Aegean Airlines</td>\n",
       "      <td>Airbus A319</td>\n",
       "      <td>1.0</td>\n",
       "      <td>NaN</td>\n",
       "      <td>3.0</td>\n",
       "      <td>4.0</td>\n",
       "      <td>NaN</td>\n",
       "      <td>$90</td>\n",
       "    </tr>\n",
       "    <tr>\n",
       "      <td>1</td>\n",
       "      <td>Aegean Airlines</td>\n",
       "      <td>Airbus A319</td>\n",
       "      <td>NaN</td>\n",
       "      <td>NaN</td>\n",
       "      <td>8.0</td>\n",
       "      <td>8.0</td>\n",
       "      <td>NaN</td>\n",
       "      <td>$0</td>\n",
       "    </tr>\n",
       "    <tr>\n",
       "      <td>2</td>\n",
       "      <td>Aegean Airlines</td>\n",
       "      <td>Airbus A320</td>\n",
       "      <td>38.0</td>\n",
       "      <td>NaN</td>\n",
       "      <td>3.0</td>\n",
       "      <td>41.0</td>\n",
       "      <td>NaN</td>\n",
       "      <td>$3,724</td>\n",
       "    </tr>\n",
       "    <tr>\n",
       "      <td>3</td>\n",
       "      <td>Aegean Airlines</td>\n",
       "      <td>Airbus A320</td>\n",
       "      <td>NaN</td>\n",
       "      <td>NaN</td>\n",
       "      <td>9.0</td>\n",
       "      <td>9.0</td>\n",
       "      <td>NaN</td>\n",
       "      <td>$0</td>\n",
       "    </tr>\n",
       "    <tr>\n",
       "      <td>4</td>\n",
       "      <td>Aegean Airlines</td>\n",
       "      <td>Airbus A321</td>\n",
       "      <td>8.0</td>\n",
       "      <td>NaN</td>\n",
       "      <td>NaN</td>\n",
       "      <td>8.0</td>\n",
       "      <td>NaN</td>\n",
       "      <td>$919</td>\n",
       "    </tr>\n",
       "    <tr>\n",
       "      <td>5</td>\n",
       "      <td>Aegean Airlines</td>\n",
       "      <td>ATR 42/72</td>\n",
       "      <td>2.0</td>\n",
       "      <td>NaN</td>\n",
       "      <td>NaN</td>\n",
       "      <td>2.0</td>\n",
       "      <td>NaN</td>\n",
       "      <td>$44</td>\n",
       "    </tr>\n",
       "  </tbody>\n",
       "</table>\n",
       "</div>"
      ],
      "text/plain": [
       "    Parent Airline Aircraft Type  Current  Future  Historic  Total  Orders  \\\n",
       "0  Aegean Airlines   Airbus A319      1.0     NaN       3.0    4.0     NaN   \n",
       "1  Aegean Airlines   Airbus A319      NaN     NaN       8.0    8.0     NaN   \n",
       "2  Aegean Airlines   Airbus A320     38.0     NaN       3.0   41.0     NaN   \n",
       "3  Aegean Airlines   Airbus A320      NaN     NaN       9.0    9.0     NaN   \n",
       "4  Aegean Airlines   Airbus A321      8.0     NaN       NaN    8.0     NaN   \n",
       "5  Aegean Airlines     ATR 42/72      2.0     NaN       NaN    2.0     NaN   \n",
       "\n",
       "  Total Cost (Current)  \n",
       "0                  $90  \n",
       "1                   $0  \n",
       "2               $3,724  \n",
       "3                   $0  \n",
       "4                 $919  \n",
       "5                  $44  "
      ]
     },
     "execution_count": 27,
     "metadata": {},
     "output_type": "execute_result"
    }
   ],
   "source": [
    "parentfleet.head(6)"
   ]
  },
  {
   "cell_type": "code",
   "execution_count": 28,
   "metadata": {},
   "outputs": [
    {
     "data": {
      "text/html": [
       "<div>\n",
       "<style scoped>\n",
       "    .dataframe tbody tr th:only-of-type {\n",
       "        vertical-align: middle;\n",
       "    }\n",
       "\n",
       "    .dataframe tbody tr th {\n",
       "        vertical-align: top;\n",
       "    }\n",
       "\n",
       "    .dataframe thead th {\n",
       "        text-align: right;\n",
       "    }\n",
       "</style>\n",
       "<table border=\"1\" class=\"dataframe\">\n",
       "  <thead>\n",
       "    <tr style=\"text-align: right;\">\n",
       "      <th></th>\n",
       "      <th>Airline</th>\n",
       "      <th>Aircraft Type</th>\n",
       "      <th>Current</th>\n",
       "      <th>Future</th>\n",
       "      <th>Historic</th>\n",
       "      <th>Total</th>\n",
       "      <th>Orders</th>\n",
       "      <th>Total Cost (Current)</th>\n",
       "    </tr>\n",
       "  </thead>\n",
       "  <tbody>\n",
       "    <tr>\n",
       "      <td>0</td>\n",
       "      <td>Aegean Airlines</td>\n",
       "      <td>Airbus A319</td>\n",
       "      <td>1.0</td>\n",
       "      <td>NaN</td>\n",
       "      <td>3.0</td>\n",
       "      <td>4.0</td>\n",
       "      <td>NaN</td>\n",
       "      <td>$90</td>\n",
       "    </tr>\n",
       "    <tr>\n",
       "      <td>1</td>\n",
       "      <td>Olympic Air</td>\n",
       "      <td>Airbus A319</td>\n",
       "      <td>NaN</td>\n",
       "      <td>NaN</td>\n",
       "      <td>8.0</td>\n",
       "      <td>8.0</td>\n",
       "      <td>NaN</td>\n",
       "      <td>$0</td>\n",
       "    </tr>\n",
       "    <tr>\n",
       "      <td>2</td>\n",
       "      <td>Aegean Airlines</td>\n",
       "      <td>Airbus A320</td>\n",
       "      <td>38.0</td>\n",
       "      <td>NaN</td>\n",
       "      <td>3.0</td>\n",
       "      <td>41.0</td>\n",
       "      <td>NaN</td>\n",
       "      <td>$3,724</td>\n",
       "    </tr>\n",
       "    <tr>\n",
       "      <td>3</td>\n",
       "      <td>Olympic Air</td>\n",
       "      <td>Airbus A320</td>\n",
       "      <td>NaN</td>\n",
       "      <td>NaN</td>\n",
       "      <td>9.0</td>\n",
       "      <td>9.0</td>\n",
       "      <td>NaN</td>\n",
       "      <td>$0</td>\n",
       "    </tr>\n",
       "    <tr>\n",
       "      <td>4</td>\n",
       "      <td>Aegean Airlines</td>\n",
       "      <td>Airbus A321</td>\n",
       "      <td>8.0</td>\n",
       "      <td>NaN</td>\n",
       "      <td>NaN</td>\n",
       "      <td>8.0</td>\n",
       "      <td>NaN</td>\n",
       "      <td>$919</td>\n",
       "    </tr>\n",
       "    <tr>\n",
       "      <td>5</td>\n",
       "      <td>Olympic Air</td>\n",
       "      <td>ATR 42/72</td>\n",
       "      <td>2.0</td>\n",
       "      <td>NaN</td>\n",
       "      <td>NaN</td>\n",
       "      <td>2.0</td>\n",
       "      <td>NaN</td>\n",
       "      <td>$44</td>\n",
       "    </tr>\n",
       "  </tbody>\n",
       "</table>\n",
       "</div>"
      ],
      "text/plain": [
       "           Airline Aircraft Type  Current  Future  Historic  Total  Orders  \\\n",
       "0  Aegean Airlines   Airbus A319      1.0     NaN       3.0    4.0     NaN   \n",
       "1      Olympic Air   Airbus A319      NaN     NaN       8.0    8.0     NaN   \n",
       "2  Aegean Airlines   Airbus A320     38.0     NaN       3.0   41.0     NaN   \n",
       "3      Olympic Air   Airbus A320      NaN     NaN       9.0    9.0     NaN   \n",
       "4  Aegean Airlines   Airbus A321      8.0     NaN       NaN    8.0     NaN   \n",
       "5      Olympic Air     ATR 42/72      2.0     NaN       NaN    2.0     NaN   \n",
       "\n",
       "  Total Cost (Current)  \n",
       "0                  $90  \n",
       "1                   $0  \n",
       "2               $3,724  \n",
       "3                   $0  \n",
       "4                 $919  \n",
       "5                  $44  "
      ]
     },
     "execution_count": 28,
     "metadata": {},
     "output_type": "execute_result"
    }
   ],
   "source": [
    "aircraftfleet.head(6)"
   ]
  },
  {
   "cell_type": "code",
   "execution_count": 32,
   "metadata": {},
   "outputs": [
    {
     "data": {
      "text/plain": [
       "Airline\n",
       "American Airlines          928.0\n",
       "Delta Airlines             855.0\n",
       "United Airlines            730.0\n",
       "Southwest Airlines         718.0\n",
       "China Southern Airlines    522.0\n",
       "China Eastern Airlines     451.0\n",
       "FedEx Express              408.0\n",
       "Air China                  375.0\n",
       "RyanAir                    366.0\n",
       "American Eagle             297.0\n",
       "Turkish Airlines           295.0\n",
       "FedEx Feeder Fleet         288.0\n",
       "British Airways            268.0\n",
       "Lufthansa                  267.0\n",
       "Emirates                   249.0\n",
       "UPS                        236.0\n",
       "easyJet                    234.0\n",
       "Air France                 226.0\n",
       "JetBlue Airways            225.0\n",
       "All Nippon Airways         215.0\n",
       "Skywest                    209.0\n",
       "Aeroflot                   189.0\n",
       "Saudi Arabian Airlines     177.0\n",
       "Alaska Airlines            173.0\n",
       "Shenzhen Airlines          171.0\n",
       "Name: Current, dtype: float64"
      ]
     },
     "execution_count": 32,
     "metadata": {},
     "output_type": "execute_result"
    }
   ],
   "source": [
    "# Top 25 Airlines with the biggest currently active aircraft fleet\n",
    "aircraftfleet.groupby(by= 'Airline').sum()['Current'].sort_values(ascending= False).head(25)"
   ]
  },
  {
   "cell_type": "code",
   "execution_count": 82,
   "metadata": {},
   "outputs": [
    {
     "data": {
      "text/plain": [
       "Parent Airline\n",
       "American Airlines          1410.0\n",
       "Delta Airlines              989.0\n",
       "Lufthansa                   737.0\n",
       "United Airlines             730.0\n",
       "Southwest Airlines          718.0\n",
       "Air China                   708.0\n",
       "FedEx Express               696.0\n",
       "IAG                         608.0\n",
       "China Eastern Airlines      579.0\n",
       "Air France/KLM              541.0\n",
       "China Southern Airlines     522.0\n",
       "Qantas Airways              367.0\n",
       "Ryanair                     366.0\n",
       "LATAM Airlines Chile        347.0\n",
       "Turkish Airlines            329.0\n",
       "Hainan Airlines             294.0\n",
       "Aeroflot                    282.0\n",
       "Lion Air                    270.0\n",
       "All Nippon Airways          264.0\n",
       "easyJet                     260.0\n",
       "Emirates                    249.0\n",
       "Avianca                     243.0\n",
       "UPS Airlines                236.0\n",
       "JetBlue                     225.0\n",
       "Alaska Airlines             225.0\n",
       "Name: Current, dtype: float64"
      ]
     },
     "execution_count": 82,
     "metadata": {},
     "output_type": "execute_result"
    }
   ],
   "source": [
    "# Top25 Parent Airlines with the biggest currently active aircraft fleet:\n",
    "\n",
    "parentfleet.groupby(by= 'Parent Airline').sum()['Current'].sort_values(ascending= False).head(25)"
   ]
  },
  {
   "cell_type": "code",
   "execution_count": 35,
   "metadata": {},
   "outputs": [
    {
     "data": {
      "text/plain": [
       "Parent Airline\n",
       "American Airlines     1410.0\n",
       "Lufthansa              737.0\n",
       "United Airlines        730.0\n",
       "Qantas Airways         367.0\n",
       "Emirates               249.0\n",
       "Air Canada             214.0\n",
       "Singapore Airlines     147.0\n",
       "Name: Current, dtype: float64"
      ]
     },
     "execution_count": 35,
     "metadata": {},
     "output_type": "execute_result"
    }
   ],
   "source": [
    "fleet_data[(fleet_data['Parent Airline'] == 'Air Canada') | (fleet_data['Parent Airline'] == 'American Airlines') | (fleet_data['Parent Airline'] == 'Lufthansa') | (fleet_data['Parent Airline'] == 'Emirates') | (fleet_data['Parent Airline'] == 'Qantas Airways') | (fleet_data['Parent Airline'] == 'Singapore Airlines') | (fleet_data['Parent Airline'] == 'United Airlines') ].groupby(by='Parent Airline').sum()['Current'].sort_values(ascending=False).head(10)"
   ]
  },
  {
   "cell_type": "code",
   "execution_count": 36,
   "metadata": {},
   "outputs": [],
   "source": [
    "selected_airlines = fleet_data[(fleet_data['Parent Airline'] == 'Air Canada') | (fleet_data['Parent Airline'] == 'Emirates') | (fleet_data['Parent Airline'] == 'Lufthansa') | (fleet_data['Parent Airline'] == 'Singapore Airlines') | (fleet_data['Parent Airline'] == 'American Airlines') | (fleet_data['Parent Airline'] == 'Qantas Airways') | (fleet_data['Parent Airline'] == 'United Airlines' )].copy()"
   ]
  },
  {
   "cell_type": "code",
   "execution_count": 38,
   "metadata": {},
   "outputs": [
    {
     "data": {
      "text/html": [
       "<div>\n",
       "<style scoped>\n",
       "    .dataframe tbody tr th:only-of-type {\n",
       "        vertical-align: middle;\n",
       "    }\n",
       "\n",
       "    .dataframe tbody tr th {\n",
       "        vertical-align: top;\n",
       "    }\n",
       "\n",
       "    .dataframe thead th {\n",
       "        text-align: right;\n",
       "    }\n",
       "</style>\n",
       "<table border=\"1\" class=\"dataframe\">\n",
       "  <thead>\n",
       "    <tr style=\"text-align: right;\">\n",
       "      <th></th>\n",
       "      <th>Parent Airline</th>\n",
       "      <th>Aircraft Type</th>\n",
       "      <th>Average Age</th>\n",
       "    </tr>\n",
       "  </thead>\n",
       "  <tbody>\n",
       "    <tr>\n",
       "      <td>1202</td>\n",
       "      <td>Qantas Airways</td>\n",
       "      <td>British Aerospace BAe 146/Avro RJ</td>\n",
       "      <td>28.7</td>\n",
       "    </tr>\n",
       "    <tr>\n",
       "      <td>378</td>\n",
       "      <td>American Airlines</td>\n",
       "      <td>De Havilland Canada DHC-8 Dash 8</td>\n",
       "      <td>26.1</td>\n",
       "    </tr>\n",
       "    <tr>\n",
       "      <td>111</td>\n",
       "      <td>Air Canada</td>\n",
       "      <td>Boeing 767</td>\n",
       "      <td>25.8</td>\n",
       "    </tr>\n",
       "    <tr>\n",
       "      <td>1005</td>\n",
       "      <td>Lufthansa</td>\n",
       "      <td>Airbus A320</td>\n",
       "      <td>25.4</td>\n",
       "    </tr>\n",
       "    <tr>\n",
       "      <td>1208</td>\n",
       "      <td>Qantas Airways</td>\n",
       "      <td>Fokker F70 / F100</td>\n",
       "      <td>23.6</td>\n",
       "    </tr>\n",
       "    <tr>\n",
       "      <td>1209</td>\n",
       "      <td>Qantas Airways</td>\n",
       "      <td>Fokker F70 / F100</td>\n",
       "      <td>23.6</td>\n",
       "    </tr>\n",
       "    <tr>\n",
       "      <td>101</td>\n",
       "      <td>Air Canada</td>\n",
       "      <td>Airbus A320</td>\n",
       "      <td>23.3</td>\n",
       "    </tr>\n",
       "    <tr>\n",
       "      <td>1077</td>\n",
       "      <td>Lufthansa</td>\n",
       "      <td>Fokker F70 / F100</td>\n",
       "      <td>23.2</td>\n",
       "    </tr>\n",
       "    <tr>\n",
       "      <td>389</td>\n",
       "      <td>American Airlines</td>\n",
       "      <td>McDonnell Douglas MD-80</td>\n",
       "      <td>22.2</td>\n",
       "    </tr>\n",
       "    <tr>\n",
       "      <td>1504</td>\n",
       "      <td>United Airlines</td>\n",
       "      <td>Boeing 747</td>\n",
       "      <td>21.2</td>\n",
       "    </tr>\n",
       "  </tbody>\n",
       "</table>\n",
       "</div>"
      ],
      "text/plain": [
       "         Parent Airline                      Aircraft Type  Average Age\n",
       "1202     Qantas Airways  British Aerospace BAe 146/Avro RJ         28.7\n",
       "378   American Airlines   De Havilland Canada DHC-8 Dash 8         26.1\n",
       "111          Air Canada                         Boeing 767         25.8\n",
       "1005          Lufthansa                        Airbus A320         25.4\n",
       "1208     Qantas Airways                  Fokker F70 / F100         23.6\n",
       "1209     Qantas Airways                  Fokker F70 / F100         23.6\n",
       "101          Air Canada                        Airbus A320         23.3\n",
       "1077          Lufthansa                  Fokker F70 / F100         23.2\n",
       "389   American Airlines            McDonnell Douglas MD-80         22.2\n",
       "1504    United Airlines                         Boeing 747         21.2"
      ]
     },
     "execution_count": 38,
     "metadata": {},
     "output_type": "execute_result"
    }
   ],
   "source": [
    "# Top10 oldest currently active aircraft types based on the average age\n",
    "selected_airlines[['Parent Airline', 'Aircraft Type','Average Age']].dropna(axis=0).sort_values(by='Average Age', ascending=False).head(10)"
   ]
  },
  {
   "cell_type": "code",
   "execution_count": 39,
   "metadata": {},
   "outputs": [
    {
     "data": {
      "text/html": [
       "<div>\n",
       "<style scoped>\n",
       "    .dataframe tbody tr th:only-of-type {\n",
       "        vertical-align: middle;\n",
       "    }\n",
       "\n",
       "    .dataframe tbody tr th {\n",
       "        vertical-align: top;\n",
       "    }\n",
       "\n",
       "    .dataframe thead th {\n",
       "        text-align: right;\n",
       "    }\n",
       "</style>\n",
       "<table border=\"1\" class=\"dataframe\">\n",
       "  <thead>\n",
       "    <tr style=\"text-align: right;\">\n",
       "      <th></th>\n",
       "      <th>Parent Airline</th>\n",
       "      <th>Aircraft Type</th>\n",
       "      <th>Average Age</th>\n",
       "    </tr>\n",
       "  </thead>\n",
       "  <tbody>\n",
       "    <tr>\n",
       "      <td>1047</td>\n",
       "      <td>Lufthansa</td>\n",
       "      <td>Bombardier BD-500 CSeries</td>\n",
       "      <td>0.3</td>\n",
       "    </tr>\n",
       "    <tr>\n",
       "      <td>1330</td>\n",
       "      <td>Singapore Airlines</td>\n",
       "      <td>Airbus A350 XWB</td>\n",
       "      <td>0.4</td>\n",
       "    </tr>\n",
       "    <tr>\n",
       "      <td>383</td>\n",
       "      <td>American Airlines</td>\n",
       "      <td>Embraer ERJ-170</td>\n",
       "      <td>0.6</td>\n",
       "    </tr>\n",
       "    <tr>\n",
       "      <td>1045</td>\n",
       "      <td>Lufthansa</td>\n",
       "      <td>Boeing 777</td>\n",
       "      <td>0.7</td>\n",
       "    </tr>\n",
       "    <tr>\n",
       "      <td>1004</td>\n",
       "      <td>Lufthansa</td>\n",
       "      <td>Airbus A320</td>\n",
       "      <td>0.7</td>\n",
       "    </tr>\n",
       "    <tr>\n",
       "      <td>104</td>\n",
       "      <td>Air Canada</td>\n",
       "      <td>Airbus A321</td>\n",
       "      <td>1.0</td>\n",
       "    </tr>\n",
       "    <tr>\n",
       "      <td>371</td>\n",
       "      <td>American Airlines</td>\n",
       "      <td>Boeing 787 Dreamliner</td>\n",
       "      <td>1.2</td>\n",
       "    </tr>\n",
       "    <tr>\n",
       "      <td>1003</td>\n",
       "      <td>Lufthansa</td>\n",
       "      <td>Airbus A320</td>\n",
       "      <td>1.3</td>\n",
       "    </tr>\n",
       "    <tr>\n",
       "      <td>114</td>\n",
       "      <td>Air Canada</td>\n",
       "      <td>Boeing 787 Dreamliner</td>\n",
       "      <td>1.4</td>\n",
       "    </tr>\n",
       "    <tr>\n",
       "      <td>377</td>\n",
       "      <td>American Airlines</td>\n",
       "      <td>Canadair CRJ-900</td>\n",
       "      <td>1.5</td>\n",
       "    </tr>\n",
       "  </tbody>\n",
       "</table>\n",
       "</div>"
      ],
      "text/plain": [
       "          Parent Airline              Aircraft Type  Average Age\n",
       "1047           Lufthansa  Bombardier BD-500 CSeries          0.3\n",
       "1330  Singapore Airlines            Airbus A350 XWB          0.4\n",
       "383    American Airlines            Embraer ERJ-170          0.6\n",
       "1045           Lufthansa                 Boeing 777          0.7\n",
       "1004           Lufthansa                Airbus A320          0.7\n",
       "104           Air Canada                Airbus A321          1.0\n",
       "371    American Airlines      Boeing 787 Dreamliner          1.2\n",
       "1003           Lufthansa                Airbus A320          1.3\n",
       "114           Air Canada      Boeing 787 Dreamliner          1.4\n",
       "377    American Airlines           Canadair CRJ-900          1.5"
      ]
     },
     "execution_count": 39,
     "metadata": {},
     "output_type": "execute_result"
    }
   ],
   "source": [
    " #Top10 newest currently active planes:\n",
    "selected_airlines[['Parent Airline', 'Aircraft Type','Average Age']].dropna(axis=0).sort_values(by='Average Age').head(10)"
   ]
  },
  {
   "cell_type": "code",
   "execution_count": 41,
   "metadata": {},
   "outputs": [
    {
     "data": {
      "text/plain": [
       "Index(['Parent Airline', 'Airline', 'Aircraft Type', 'Current', 'Future',\n",
       "       'Historic', 'Total', 'Orders', 'Unit Cost', 'Total Cost (Current)',\n",
       "       'Average Age'],\n",
       "      dtype='object')"
      ]
     },
     "execution_count": 41,
     "metadata": {},
     "output_type": "execute_result"
    }
   ],
   "source": [
    "selected_airlines.columns"
   ]
  },
  {
   "cell_type": "code",
   "execution_count": 103,
   "metadata": {},
   "outputs": [
    {
     "data": {
      "text/plain": [
       "<matplotlib.legend.Legend at 0x1a209f1710>"
      ]
     },
     "execution_count": 103,
     "metadata": {},
     "output_type": "execute_result"
    },
    {
     "data": {
      "image/png": "[encoded data removed]",
      "text/plain": [
       "<Figure size 1008x720 with 1 Axes>"
      ]
     },
     "metadata": {},
     "output_type": "display_data"
    }
   ],
   "source": [
    "#plot demonstrates the distribution of the aircraft types among daughter airlines. We can see which airline has the biggest variety of the planes.\n",
    "plt.figure(figsize=(14,10))\n",
    "sns.countplot(data=selected_airlines, x='Parent Airline', hue='Airline')\n",
    "plt.legend(bbox_to_anchor=(1, 1.0))"
   ]
  },
  {
   "cell_type": "code",
   "execution_count": 49,
   "metadata": {},
   "outputs": [
    {
     "data": {
      "text/plain": [
       "47"
      ]
     },
     "execution_count": 49,
     "metadata": {},
     "output_type": "execute_result"
    }
   ],
   "source": [
    "# Number of unique aircraft types\n",
    "selected_airlines['Aircraft Type'].nunique()"
   ]
  },
  {
   "cell_type": "code",
   "execution_count": 53,
   "metadata": {},
   "outputs": [
    {
     "data": {
      "text/plain": [
       "37"
      ]
     },
     "execution_count": 53,
     "metadata": {},
     "output_type": "execute_result"
    }
   ],
   "source": [
    "# finding the number of unique aircraft types used by Lufthansa:\n",
    "selected_airlines[selected_airlines['Parent Airline'] == 'Lufthansa']['Aircraft Type'].nunique()"
   ]
  },
  {
   "cell_type": "code",
   "execution_count": 54,
   "metadata": {},
   "outputs": [
    {
     "data": {
      "text/html": [
       "<div>\n",
       "<style scoped>\n",
       "    .dataframe tbody tr th:only-of-type {\n",
       "        vertical-align: middle;\n",
       "    }\n",
       "\n",
       "    .dataframe tbody tr th {\n",
       "        vertical-align: top;\n",
       "    }\n",
       "\n",
       "    .dataframe thead th {\n",
       "        text-align: right;\n",
       "    }\n",
       "</style>\n",
       "<table border=\"1\" class=\"dataframe\">\n",
       "  <thead>\n",
       "    <tr style=\"text-align: right;\">\n",
       "      <th></th>\n",
       "      <th>Aircraft Type</th>\n",
       "      <th>Current</th>\n",
       "      <th>Future</th>\n",
       "      <th>Historic</th>\n",
       "      <th>Total</th>\n",
       "      <th>Orders</th>\n",
       "    </tr>\n",
       "  </thead>\n",
       "  <tbody>\n",
       "    <tr>\n",
       "      <td>990</td>\n",
       "      <td>Airbus A300</td>\n",
       "      <td>NaN</td>\n",
       "      <td>NaN</td>\n",
       "      <td>26.0</td>\n",
       "      <td>26.0</td>\n",
       "      <td>NaN</td>\n",
       "    </tr>\n",
       "    <tr>\n",
       "      <td>991</td>\n",
       "      <td>Airbus A310</td>\n",
       "      <td>NaN</td>\n",
       "      <td>NaN</td>\n",
       "      <td>25.0</td>\n",
       "      <td>25.0</td>\n",
       "      <td>NaN</td>\n",
       "    </tr>\n",
       "    <tr>\n",
       "      <td>992</td>\n",
       "      <td>Airbus A310</td>\n",
       "      <td>NaN</td>\n",
       "      <td>NaN</td>\n",
       "      <td>4.0</td>\n",
       "      <td>4.0</td>\n",
       "      <td>NaN</td>\n",
       "    </tr>\n",
       "    <tr>\n",
       "      <td>993</td>\n",
       "      <td>Airbus A319</td>\n",
       "      <td>30.0</td>\n",
       "      <td>NaN</td>\n",
       "      <td>5.0</td>\n",
       "      <td>35.0</td>\n",
       "      <td>NaN</td>\n",
       "    </tr>\n",
       "    <tr>\n",
       "      <td>994</td>\n",
       "      <td>Airbus A319</td>\n",
       "      <td>7.0</td>\n",
       "      <td>NaN</td>\n",
       "      <td>NaN</td>\n",
       "      <td>7.0</td>\n",
       "      <td>NaN</td>\n",
       "    </tr>\n",
       "    <tr>\n",
       "      <td>...</td>\n",
       "      <td>...</td>\n",
       "      <td>...</td>\n",
       "      <td>...</td>\n",
       "      <td>...</td>\n",
       "      <td>...</td>\n",
       "      <td>...</td>\n",
       "    </tr>\n",
       "    <tr>\n",
       "      <td>1085</td>\n",
       "      <td>McDonnell Douglas MD-80</td>\n",
       "      <td>NaN</td>\n",
       "      <td>NaN</td>\n",
       "      <td>29.0</td>\n",
       "      <td>29.0</td>\n",
       "      <td>NaN</td>\n",
       "    </tr>\n",
       "    <tr>\n",
       "      <td>1086</td>\n",
       "      <td>McDonnell Douglas MD-80</td>\n",
       "      <td>NaN</td>\n",
       "      <td>NaN</td>\n",
       "      <td>4.0</td>\n",
       "      <td>4.0</td>\n",
       "      <td>NaN</td>\n",
       "    </tr>\n",
       "    <tr>\n",
       "      <td>1087</td>\n",
       "      <td>McDonnell Douglas MD-80</td>\n",
       "      <td>NaN</td>\n",
       "      <td>NaN</td>\n",
       "      <td>11.0</td>\n",
       "      <td>11.0</td>\n",
       "      <td>NaN</td>\n",
       "    </tr>\n",
       "    <tr>\n",
       "      <td>1088</td>\n",
       "      <td>McDonnell Douglas MD-80</td>\n",
       "      <td>NaN</td>\n",
       "      <td>NaN</td>\n",
       "      <td>3.0</td>\n",
       "      <td>3.0</td>\n",
       "      <td>NaN</td>\n",
       "    </tr>\n",
       "    <tr>\n",
       "      <td>1089</td>\n",
       "      <td>Saab 2000</td>\n",
       "      <td>NaN</td>\n",
       "      <td>NaN</td>\n",
       "      <td>31.0</td>\n",
       "      <td>31.0</td>\n",
       "      <td>NaN</td>\n",
       "    </tr>\n",
       "  </tbody>\n",
       "</table>\n",
       "<p>100 rows × 6 columns</p>\n",
       "</div>"
      ],
      "text/plain": [
       "                Aircraft Type  Current  Future  Historic  Total  Orders\n",
       "990               Airbus A300      NaN     NaN      26.0   26.0     NaN\n",
       "991               Airbus A310      NaN     NaN      25.0   25.0     NaN\n",
       "992               Airbus A310      NaN     NaN       4.0    4.0     NaN\n",
       "993               Airbus A319     30.0     NaN       5.0   35.0     NaN\n",
       "994               Airbus A319      7.0     NaN       NaN    7.0     NaN\n",
       "...                       ...      ...     ...       ...    ...     ...\n",
       "1085  McDonnell Douglas MD-80      NaN     NaN      29.0   29.0     NaN\n",
       "1086  McDonnell Douglas MD-80      NaN     NaN       4.0    4.0     NaN\n",
       "1087  McDonnell Douglas MD-80      NaN     NaN      11.0   11.0     NaN\n",
       "1088  McDonnell Douglas MD-80      NaN     NaN       3.0    3.0     NaN\n",
       "1089                Saab 2000      NaN     NaN      31.0   31.0     NaN\n",
       "\n",
       "[100 rows x 6 columns]"
      ]
     },
     "execution_count": 54,
     "metadata": {},
     "output_type": "execute_result"
    }
   ],
   "source": [
    "selected_airlines[selected_airlines['Parent Airline'] == 'Lufthansa'][['Aircraft Type', 'Current', 'Future',\n",
    "       'Historic', 'Total', 'Orders']]"
   ]
  },
  {
   "cell_type": "code",
   "execution_count": 102,
   "metadata": {},
   "outputs": [
    {
     "data": {
      "text/plain": [
       "<matplotlib.axes._subplots.AxesSubplot at 0x1a20193e10>"
      ]
     },
     "execution_count": 102,
     "metadata": {},
     "output_type": "execute_result"
    },
    {
     "data": {
      "image/png": "[encoded data removed]",
      "text/plain": [
       "<Figure size 1008x720 with 1 Axes>"
      ]
     },
     "metadata": {},
     "output_type": "display_data"
    }
   ],
   "source": [
    "#Average age of aircraft across selected Parent Airlines\n",
    "sns.set_style('darkgrid')\n",
    "plt.figure(figsize=(14,10))\n",
    "sns.boxplot(data=selected_airlines, x='Parent Airline', y='Average Age', palette='coolwarm')"
   ]
  },
  {
   "cell_type": "code",
   "execution_count": 57,
   "metadata": {},
   "outputs": [],
   "source": [
    "#distribution of the big planes like Airbus A380, Airbus A330, Airbus A340, Boeing 747, Boeing 777, Boeing 787 among these selected airlines.\n",
    "big_aircrafts = selected_airlines[(selected_airlines['Aircraft Type'] == 'Airbus A380') | (selected_airlines['Aircraft Type'] == 'Airbus A330') | (selected_airlines['Aircraft Type'] == 'Airbus A340') | (selected_airlines['Aircraft Type'] == 'Boeing 747') | (selected_airlines['Aircraft Type'] == 'Boeing 777') | (selected_airlines['Aircraft Type'] == 'Boeing 787 Dreamliner')]"
   ]
  },
  {
   "cell_type": "code",
   "execution_count": 58,
   "metadata": {},
   "outputs": [
    {
     "data": {
      "text/html": [
       "<div>\n",
       "<style scoped>\n",
       "    .dataframe tbody tr th:only-of-type {\n",
       "        vertical-align: middle;\n",
       "    }\n",
       "\n",
       "    .dataframe tbody tr th {\n",
       "        vertical-align: top;\n",
       "    }\n",
       "\n",
       "    .dataframe thead th {\n",
       "        text-align: right;\n",
       "    }\n",
       "</style>\n",
       "<table border=\"1\" class=\"dataframe\">\n",
       "  <thead>\n",
       "    <tr style=\"text-align: right;\">\n",
       "      <th></th>\n",
       "      <th>Parent Airline</th>\n",
       "      <th>Airline</th>\n",
       "      <th>Aircraft Type</th>\n",
       "      <th>Current</th>\n",
       "      <th>Future</th>\n",
       "      <th>Historic</th>\n",
       "      <th>Total</th>\n",
       "      <th>Orders</th>\n",
       "      <th>Unit Cost</th>\n",
       "      <th>Total Cost (Current)</th>\n",
       "      <th>Average Age</th>\n",
       "    </tr>\n",
       "  </thead>\n",
       "  <tbody>\n",
       "    <tr>\n",
       "      <td>105</td>\n",
       "      <td>Air Canada</td>\n",
       "      <td>Air Canada</td>\n",
       "      <td>Airbus A330</td>\n",
       "      <td>8.0</td>\n",
       "      <td>NaN</td>\n",
       "      <td>NaN</td>\n",
       "      <td>8.0</td>\n",
       "      <td>NaN</td>\n",
       "      <td>$240</td>\n",
       "      <td>$1,920</td>\n",
       "      <td>16.3</td>\n",
       "    </tr>\n",
       "    <tr>\n",
       "      <td>106</td>\n",
       "      <td>Air Canada</td>\n",
       "      <td>Air Canada</td>\n",
       "      <td>Airbus A340</td>\n",
       "      <td>NaN</td>\n",
       "      <td>NaN</td>\n",
       "      <td>15.0</td>\n",
       "      <td>15.0</td>\n",
       "      <td>NaN</td>\n",
       "      <td>$216</td>\n",
       "      <td>$0</td>\n",
       "      <td>NaN</td>\n",
       "    </tr>\n",
       "    <tr>\n",
       "      <td>110</td>\n",
       "      <td>Air Canada</td>\n",
       "      <td>Air Canada</td>\n",
       "      <td>Boeing 747</td>\n",
       "      <td>NaN</td>\n",
       "      <td>NaN</td>\n",
       "      <td>15.0</td>\n",
       "      <td>15.0</td>\n",
       "      <td>NaN</td>\n",
       "      <td>$316</td>\n",
       "      <td>$0</td>\n",
       "      <td>NaN</td>\n",
       "    </tr>\n",
       "    <tr>\n",
       "      <td>113</td>\n",
       "      <td>Air Canada</td>\n",
       "      <td>Air Canada</td>\n",
       "      <td>Boeing 777</td>\n",
       "      <td>25.0</td>\n",
       "      <td>NaN</td>\n",
       "      <td>NaN</td>\n",
       "      <td>25.0</td>\n",
       "      <td>NaN</td>\n",
       "      <td>$295</td>\n",
       "      <td>$7,364</td>\n",
       "      <td>7.1</td>\n",
       "    </tr>\n",
       "    <tr>\n",
       "      <td>114</td>\n",
       "      <td>Air Canada</td>\n",
       "      <td>Air Canada</td>\n",
       "      <td>Boeing 787 Dreamliner</td>\n",
       "      <td>21.0</td>\n",
       "      <td>3.0</td>\n",
       "      <td>NaN</td>\n",
       "      <td>24.0</td>\n",
       "      <td>16.0</td>\n",
       "      <td>$265</td>\n",
       "      <td>$5,567</td>\n",
       "      <td>1.4</td>\n",
       "    </tr>\n",
       "    <tr>\n",
       "      <td>362</td>\n",
       "      <td>American Airlines</td>\n",
       "      <td>American Airlines</td>\n",
       "      <td>Airbus A330</td>\n",
       "      <td>24.0</td>\n",
       "      <td>NaN</td>\n",
       "      <td>NaN</td>\n",
       "      <td>24.0</td>\n",
       "      <td>NaN</td>\n",
       "      <td>$240</td>\n",
       "      <td>$5,760</td>\n",
       "      <td>9.3</td>\n",
       "    </tr>\n",
       "    <tr>\n",
       "      <td>367</td>\n",
       "      <td>American Airlines</td>\n",
       "      <td>American Airlines</td>\n",
       "      <td>Boeing 747</td>\n",
       "      <td>NaN</td>\n",
       "      <td>NaN</td>\n",
       "      <td>19.0</td>\n",
       "      <td>19.0</td>\n",
       "      <td>NaN</td>\n",
       "      <td>$316</td>\n",
       "      <td>$0</td>\n",
       "      <td>NaN</td>\n",
       "    </tr>\n",
       "    <tr>\n",
       "      <td>370</td>\n",
       "      <td>American Airlines</td>\n",
       "      <td>American Airlines</td>\n",
       "      <td>Boeing 777</td>\n",
       "      <td>67.0</td>\n",
       "      <td>NaN</td>\n",
       "      <td>NaN</td>\n",
       "      <td>67.0</td>\n",
       "      <td>NaN</td>\n",
       "      <td>$295</td>\n",
       "      <td>$19,735</td>\n",
       "      <td>12.1</td>\n",
       "    </tr>\n",
       "    <tr>\n",
       "      <td>371</td>\n",
       "      <td>American Airlines</td>\n",
       "      <td>American Airlines</td>\n",
       "      <td>Boeing 787 Dreamliner</td>\n",
       "      <td>20.0</td>\n",
       "      <td>6.0</td>\n",
       "      <td>NaN</td>\n",
       "      <td>26.0</td>\n",
       "      <td>22.0</td>\n",
       "      <td>$265</td>\n",
       "      <td>$5,302</td>\n",
       "      <td>1.2</td>\n",
       "    </tr>\n",
       "    <tr>\n",
       "      <td>610</td>\n",
       "      <td>Emirates</td>\n",
       "      <td>Emirates</td>\n",
       "      <td>Airbus A330</td>\n",
       "      <td>NaN</td>\n",
       "      <td>NaN</td>\n",
       "      <td>29.0</td>\n",
       "      <td>29.0</td>\n",
       "      <td>NaN</td>\n",
       "      <td>$115</td>\n",
       "      <td>$0</td>\n",
       "      <td>NaN</td>\n",
       "    </tr>\n",
       "  </tbody>\n",
       "</table>\n",
       "</div>"
      ],
      "text/plain": [
       "        Parent Airline            Airline          Aircraft Type  Current  \\\n",
       "105         Air Canada         Air Canada            Airbus A330      8.0   \n",
       "106         Air Canada         Air Canada            Airbus A340      NaN   \n",
       "110         Air Canada         Air Canada             Boeing 747      NaN   \n",
       "113         Air Canada         Air Canada             Boeing 777     25.0   \n",
       "114         Air Canada         Air Canada  Boeing 787 Dreamliner     21.0   \n",
       "362  American Airlines  American Airlines            Airbus A330     24.0   \n",
       "367  American Airlines  American Airlines             Boeing 747      NaN   \n",
       "370  American Airlines  American Airlines             Boeing 777     67.0   \n",
       "371  American Airlines  American Airlines  Boeing 787 Dreamliner     20.0   \n",
       "610           Emirates           Emirates            Airbus A330      NaN   \n",
       "\n",
       "     Future  Historic  Total  Orders Unit Cost Total Cost (Current)  \\\n",
       "105     NaN       NaN    8.0     NaN      $240               $1,920   \n",
       "106     NaN      15.0   15.0     NaN      $216                   $0   \n",
       "110     NaN      15.0   15.0     NaN      $316                   $0   \n",
       "113     NaN       NaN   25.0     NaN      $295               $7,364   \n",
       "114     3.0       NaN   24.0    16.0      $265               $5,567   \n",
       "362     NaN       NaN   24.0     NaN      $240               $5,760   \n",
       "367     NaN      19.0   19.0     NaN      $316                   $0   \n",
       "370     NaN       NaN   67.0     NaN      $295              $19,735   \n",
       "371     6.0       NaN   26.0    22.0      $265               $5,302   \n",
       "610     NaN      29.0   29.0     NaN      $115                   $0   \n",
       "\n",
       "     Average Age  \n",
       "105         16.3  \n",
       "106          NaN  \n",
       "110          NaN  \n",
       "113          7.1  \n",
       "114          1.4  \n",
       "362          9.3  \n",
       "367          NaN  \n",
       "370         12.1  \n",
       "371          1.2  \n",
       "610          NaN  "
      ]
     },
     "execution_count": 58,
     "metadata": {},
     "output_type": "execute_result"
    }
   ],
   "source": [
    "big_aircrafts.head(10)"
   ]
  },
  {
   "cell_type": "code",
   "execution_count": 60,
   "metadata": {},
   "outputs": [
    {
     "data": {
      "text/plain": [
       "<matplotlib.legend.Legend at 0x1a1a508650>"
      ]
     },
     "execution_count": 60,
     "metadata": {},
     "output_type": "execute_result"
    },
    {
     "data": {
      "image/png": "[encoded data removed]",
      "text/plain": [
       "<Figure size 720x432 with 1 Axes>"
      ]
     },
     "metadata": {},
     "output_type": "display_data"
    }
   ],
   "source": [
    "#The plot demonstrates how many Airlines under major daughter airlines use big aircraft.\n",
    "plt.figure(figsize=(10,6))\n",
    "sns.countplot(data=big_aircrafts, x='Aircraft Type', hue='Parent Airline')\n",
    "plt.legend(bbox_to_anchor=(1, 1.0))"
   ]
  },
  {
   "cell_type": "code",
   "execution_count": 67,
   "metadata": {},
   "outputs": [
    {
     "data": {
      "text/plain": [
       "Index(['Parent Airline', 'Airline', 'Aircraft Type', 'Current', 'Future',\n",
       "       'Historic', 'Total', 'Orders', 'Unit Cost', 'Total Cost (Current)',\n",
       "       'Average Age'],\n",
       "      dtype='object')"
      ]
     },
     "execution_count": 67,
     "metadata": {},
     "output_type": "execute_result"
    }
   ],
   "source": [
    "selected_airlines.columns"
   ]
  },
  {
   "cell_type": "code",
   "execution_count": 70,
   "metadata": {},
   "outputs": [
    {
     "data": {
      "text/html": [
       "<div>\n",
       "<style scoped>\n",
       "    .dataframe tbody tr th:only-of-type {\n",
       "        vertical-align: middle;\n",
       "    }\n",
       "\n",
       "    .dataframe tbody tr th {\n",
       "        vertical-align: top;\n",
       "    }\n",
       "\n",
       "    .dataframe thead th {\n",
       "        text-align: right;\n",
       "    }\n",
       "</style>\n",
       "<table border=\"1\" class=\"dataframe\">\n",
       "  <thead>\n",
       "    <tr style=\"text-align: right;\">\n",
       "      <th></th>\n",
       "      <th>Current</th>\n",
       "      <th>Future</th>\n",
       "      <th>Historic</th>\n",
       "      <th>Total</th>\n",
       "      <th>Orders</th>\n",
       "    </tr>\n",
       "    <tr>\n",
       "      <th>Aircraft Type</th>\n",
       "      <th></th>\n",
       "      <th></th>\n",
       "      <th></th>\n",
       "      <th></th>\n",
       "      <th></th>\n",
       "    </tr>\n",
       "  </thead>\n",
       "  <tbody>\n",
       "    <tr>\n",
       "      <td>Boeing 777</td>\n",
       "      <td>395.0</td>\n",
       "      <td>20.0</td>\n",
       "      <td>49.0</td>\n",
       "      <td>464.0</td>\n",
       "      <td>226.0</td>\n",
       "    </tr>\n",
       "    <tr>\n",
       "      <td>Airbus A330</td>\n",
       "      <td>145.0</td>\n",
       "      <td>3.0</td>\n",
       "      <td>76.0</td>\n",
       "      <td>224.0</td>\n",
       "      <td>3.0</td>\n",
       "    </tr>\n",
       "    <tr>\n",
       "      <td>Airbus A380</td>\n",
       "      <td>132.0</td>\n",
       "      <td>17.0</td>\n",
       "      <td>0.0</td>\n",
       "      <td>149.0</td>\n",
       "      <td>59.0</td>\n",
       "    </tr>\n",
       "    <tr>\n",
       "      <td>Boeing 787 Dreamliner</td>\n",
       "      <td>82.0</td>\n",
       "      <td>11.0</td>\n",
       "      <td>0.0</td>\n",
       "      <td>93.0</td>\n",
       "      <td>67.0</td>\n",
       "    </tr>\n",
       "    <tr>\n",
       "      <td>Boeing 747</td>\n",
       "      <td>78.0</td>\n",
       "      <td>0.0</td>\n",
       "      <td>308.0</td>\n",
       "      <td>383.0</td>\n",
       "      <td>0.0</td>\n",
       "    </tr>\n",
       "    <tr>\n",
       "      <td>Airbus A340</td>\n",
       "      <td>58.0</td>\n",
       "      <td>2.0</td>\n",
       "      <td>84.0</td>\n",
       "      <td>139.0</td>\n",
       "      <td>3.0</td>\n",
       "    </tr>\n",
       "  </tbody>\n",
       "</table>\n",
       "</div>"
      ],
      "text/plain": [
       "                       Current  Future  Historic  Total  Orders\n",
       "Aircraft Type                                                  \n",
       "Boeing 777               395.0    20.0      49.0  464.0   226.0\n",
       "Airbus A330              145.0     3.0      76.0  224.0     3.0\n",
       "Airbus A380              132.0    17.0       0.0  149.0    59.0\n",
       "Boeing 787 Dreamliner     82.0    11.0       0.0   93.0    67.0\n",
       "Boeing 747                78.0     0.0     308.0  383.0     0.0\n",
       "Airbus A340               58.0     2.0      84.0  139.0     3.0"
      ]
     },
     "execution_count": 70,
     "metadata": {},
     "output_type": "execute_result"
    }
   ],
   "source": [
    "bigsorted = big_aircrafts.drop(axis=1, columns='Average Age').groupby('Aircraft Type').sum()\n",
    "bigsorted.head(10).sort_values('Current', ascending=False)\n",
    "\n"
   ]
  },
  {
   "cell_type": "markdown",
   "metadata": {},
   "source": [
    "- As we can see the most used type of Aircraft among the selected Airlines is Boeing 777.\n",
    "- Boeing 787 Dreamliner is quite a new plane and is not that widely used yet.\n",
    "- Boeing 747 is quite old already and probably most airlines will soone replace these planes with newer ones, like 787."
   ]
  },
  {
   "cell_type": "code",
   "execution_count": 72,
   "metadata": {},
   "outputs": [
    {
     "data": {
      "text/plain": [
       "Aircraft Type\n",
       "Boeing 747               14.1200\n",
       "Airbus A340              13.7000\n",
       "Airbus A330              11.0700\n",
       "Boeing 777                9.1625\n",
       "Airbus A380               5.9500\n",
       "Boeing 787 Dreamliner     1.8000\n",
       "Name: Average Age, dtype: float64"
      ]
     },
     "execution_count": 72,
     "metadata": {},
     "output_type": "execute_result"
    }
   ],
   "source": [
    "bigsorted = big_aircrafts.groupby('Aircraft Type').mean().sort_values('Average Age', ascending=False)\n",
    "bigsorted['Average Age']\n",
    "\n"
   ]
  },
  {
   "cell_type": "markdown",
   "metadata": {},
   "source": [
    "- Boeing 747 is indeed in general older that other planes, while Boeing 787 planes are the youngest ones."
   ]
  },
  {
   "cell_type": "code",
   "execution_count": 73,
   "metadata": {},
   "outputs": [
    {
     "data": {
      "text/html": [
       "<div>\n",
       "<style scoped>\n",
       "    .dataframe tbody tr th:only-of-type {\n",
       "        vertical-align: middle;\n",
       "    }\n",
       "\n",
       "    .dataframe tbody tr th {\n",
       "        vertical-align: top;\n",
       "    }\n",
       "\n",
       "    .dataframe thead th {\n",
       "        text-align: right;\n",
       "    }\n",
       "</style>\n",
       "<table border=\"1\" class=\"dataframe\">\n",
       "  <thead>\n",
       "    <tr style=\"text-align: right;\">\n",
       "      <th></th>\n",
       "      <th>Parent Airline</th>\n",
       "      <th>Aircraft Type</th>\n",
       "      <th>Current</th>\n",
       "    </tr>\n",
       "  </thead>\n",
       "  <tbody>\n",
       "    <tr>\n",
       "      <td>105</td>\n",
       "      <td>Air Canada</td>\n",
       "      <td>Airbus A330</td>\n",
       "      <td>8.0</td>\n",
       "    </tr>\n",
       "    <tr>\n",
       "      <td>1328</td>\n",
       "      <td>Singapore Airlines</td>\n",
       "      <td>Airbus A330</td>\n",
       "      <td>26.0</td>\n",
       "    </tr>\n",
       "    <tr>\n",
       "      <td>1185</td>\n",
       "      <td>Qantas Airways</td>\n",
       "      <td>Airbus A330</td>\n",
       "      <td>28.0</td>\n",
       "    </tr>\n",
       "    <tr>\n",
       "      <td>362</td>\n",
       "      <td>American Airlines</td>\n",
       "      <td>Airbus A330</td>\n",
       "      <td>24.0</td>\n",
       "    </tr>\n",
       "    <tr>\n",
       "      <td>1018</td>\n",
       "      <td>Lufthansa</td>\n",
       "      <td>Airbus A330</td>\n",
       "      <td>9.0</td>\n",
       "    </tr>\n",
       "    <tr>\n",
       "      <td>1017</td>\n",
       "      <td>Lufthansa</td>\n",
       "      <td>Airbus A330</td>\n",
       "      <td>2.0</td>\n",
       "    </tr>\n",
       "    <tr>\n",
       "      <td>1013</td>\n",
       "      <td>Lufthansa</td>\n",
       "      <td>Airbus A330</td>\n",
       "      <td>19.0</td>\n",
       "    </tr>\n",
       "    <tr>\n",
       "      <td>1014</td>\n",
       "      <td>Lufthansa</td>\n",
       "      <td>Airbus A330</td>\n",
       "      <td>9.0</td>\n",
       "    </tr>\n",
       "    <tr>\n",
       "      <td>1015</td>\n",
       "      <td>Lufthansa</td>\n",
       "      <td>Airbus A330</td>\n",
       "      <td>6.0</td>\n",
       "    </tr>\n",
       "    <tr>\n",
       "      <td>1016</td>\n",
       "      <td>Lufthansa</td>\n",
       "      <td>Airbus A330</td>\n",
       "      <td>14.0</td>\n",
       "    </tr>\n",
       "    <tr>\n",
       "      <td>1023</td>\n",
       "      <td>Lufthansa</td>\n",
       "      <td>Airbus A340</td>\n",
       "      <td>5.0</td>\n",
       "    </tr>\n",
       "    <tr>\n",
       "      <td>1021</td>\n",
       "      <td>Lufthansa</td>\n",
       "      <td>Airbus A340</td>\n",
       "      <td>10.0</td>\n",
       "    </tr>\n",
       "    <tr>\n",
       "      <td>1020</td>\n",
       "      <td>Lufthansa</td>\n",
       "      <td>Airbus A340</td>\n",
       "      <td>42.0</td>\n",
       "    </tr>\n",
       "    <tr>\n",
       "      <td>1022</td>\n",
       "      <td>Lufthansa</td>\n",
       "      <td>Airbus A340</td>\n",
       "      <td>1.0</td>\n",
       "    </tr>\n",
       "    <tr>\n",
       "      <td>612</td>\n",
       "      <td>Emirates</td>\n",
       "      <td>Airbus A380</td>\n",
       "      <td>87.0</td>\n",
       "    </tr>\n",
       "    <tr>\n",
       "      <td>1187</td>\n",
       "      <td>Qantas Airways</td>\n",
       "      <td>Airbus A380</td>\n",
       "      <td>12.0</td>\n",
       "    </tr>\n",
       "    <tr>\n",
       "      <td>1025</td>\n",
       "      <td>Lufthansa</td>\n",
       "      <td>Airbus A380</td>\n",
       "      <td>14.0</td>\n",
       "    </tr>\n",
       "    <tr>\n",
       "      <td>1331</td>\n",
       "      <td>Singapore Airlines</td>\n",
       "      <td>Airbus A380</td>\n",
       "      <td>19.0</td>\n",
       "    </tr>\n",
       "    <tr>\n",
       "      <td>614</td>\n",
       "      <td>Emirates</td>\n",
       "      <td>Boeing 747</td>\n",
       "      <td>2.0</td>\n",
       "    </tr>\n",
       "    <tr>\n",
       "      <td>1195</td>\n",
       "      <td>Qantas Airways</td>\n",
       "      <td>Boeing 747</td>\n",
       "      <td>3.0</td>\n",
       "    </tr>\n",
       "    <tr>\n",
       "      <td>1194</td>\n",
       "      <td>Qantas Airways</td>\n",
       "      <td>Boeing 747</td>\n",
       "      <td>11.0</td>\n",
       "    </tr>\n",
       "    <tr>\n",
       "      <td>1336</td>\n",
       "      <td>Singapore Airlines</td>\n",
       "      <td>Boeing 747</td>\n",
       "      <td>9.0</td>\n",
       "    </tr>\n",
       "    <tr>\n",
       "      <td>1039</td>\n",
       "      <td>Lufthansa</td>\n",
       "      <td>Boeing 747</td>\n",
       "      <td>32.0</td>\n",
       "    </tr>\n",
       "    <tr>\n",
       "      <td>1504</td>\n",
       "      <td>United Airlines</td>\n",
       "      <td>Boeing 747</td>\n",
       "      <td>21.0</td>\n",
       "    </tr>\n",
       "    <tr>\n",
       "      <td>1045</td>\n",
       "      <td>Lufthansa</td>\n",
       "      <td>Boeing 777</td>\n",
       "      <td>6.0</td>\n",
       "    </tr>\n",
       "    <tr>\n",
       "      <td>615</td>\n",
       "      <td>Emirates</td>\n",
       "      <td>Boeing 777</td>\n",
       "      <td>159.0</td>\n",
       "    </tr>\n",
       "    <tr>\n",
       "      <td>370</td>\n",
       "      <td>American Airlines</td>\n",
       "      <td>Boeing 777</td>\n",
       "      <td>67.0</td>\n",
       "    </tr>\n",
       "    <tr>\n",
       "      <td>1507</td>\n",
       "      <td>United Airlines</td>\n",
       "      <td>Boeing 777</td>\n",
       "      <td>74.0</td>\n",
       "    </tr>\n",
       "    <tr>\n",
       "      <td>1338</td>\n",
       "      <td>Singapore Airlines</td>\n",
       "      <td>Boeing 777</td>\n",
       "      <td>54.0</td>\n",
       "    </tr>\n",
       "    <tr>\n",
       "      <td>113</td>\n",
       "      <td>Air Canada</td>\n",
       "      <td>Boeing 777</td>\n",
       "      <td>25.0</td>\n",
       "    </tr>\n",
       "    <tr>\n",
       "      <td>1043</td>\n",
       "      <td>Lufthansa</td>\n",
       "      <td>Boeing 777</td>\n",
       "      <td>5.0</td>\n",
       "    </tr>\n",
       "    <tr>\n",
       "      <td>1044</td>\n",
       "      <td>Lufthansa</td>\n",
       "      <td>Boeing 777</td>\n",
       "      <td>5.0</td>\n",
       "    </tr>\n",
       "    <tr>\n",
       "      <td>114</td>\n",
       "      <td>Air Canada</td>\n",
       "      <td>Boeing 787 Dreamliner</td>\n",
       "      <td>21.0</td>\n",
       "    </tr>\n",
       "    <tr>\n",
       "      <td>371</td>\n",
       "      <td>American Airlines</td>\n",
       "      <td>Boeing 787 Dreamliner</td>\n",
       "      <td>20.0</td>\n",
       "    </tr>\n",
       "    <tr>\n",
       "      <td>1199</td>\n",
       "      <td>Qantas Airways</td>\n",
       "      <td>Boeing 787 Dreamliner</td>\n",
       "      <td>11.0</td>\n",
       "    </tr>\n",
       "    <tr>\n",
       "      <td>1508</td>\n",
       "      <td>United Airlines</td>\n",
       "      <td>Boeing 787 Dreamliner</td>\n",
       "      <td>30.0</td>\n",
       "    </tr>\n",
       "  </tbody>\n",
       "</table>\n",
       "</div>"
      ],
      "text/plain": [
       "          Parent Airline          Aircraft Type  Current\n",
       "105           Air Canada            Airbus A330      8.0\n",
       "1328  Singapore Airlines            Airbus A330     26.0\n",
       "1185      Qantas Airways            Airbus A330     28.0\n",
       "362    American Airlines            Airbus A330     24.0\n",
       "1018           Lufthansa            Airbus A330      9.0\n",
       "1017           Lufthansa            Airbus A330      2.0\n",
       "1013           Lufthansa            Airbus A330     19.0\n",
       "1014           Lufthansa            Airbus A330      9.0\n",
       "1015           Lufthansa            Airbus A330      6.0\n",
       "1016           Lufthansa            Airbus A330     14.0\n",
       "1023           Lufthansa            Airbus A340      5.0\n",
       "1021           Lufthansa            Airbus A340     10.0\n",
       "1020           Lufthansa            Airbus A340     42.0\n",
       "1022           Lufthansa            Airbus A340      1.0\n",
       "612             Emirates            Airbus A380     87.0\n",
       "1187      Qantas Airways            Airbus A380     12.0\n",
       "1025           Lufthansa            Airbus A380     14.0\n",
       "1331  Singapore Airlines            Airbus A380     19.0\n",
       "614             Emirates             Boeing 747      2.0\n",
       "1195      Qantas Airways             Boeing 747      3.0\n",
       "1194      Qantas Airways             Boeing 747     11.0\n",
       "1336  Singapore Airlines             Boeing 747      9.0\n",
       "1039           Lufthansa             Boeing 747     32.0\n",
       "1504     United Airlines             Boeing 747     21.0\n",
       "1045           Lufthansa             Boeing 777      6.0\n",
       "615             Emirates             Boeing 777    159.0\n",
       "370    American Airlines             Boeing 777     67.0\n",
       "1507     United Airlines             Boeing 777     74.0\n",
       "1338  Singapore Airlines             Boeing 777     54.0\n",
       "113           Air Canada             Boeing 777     25.0\n",
       "1043           Lufthansa             Boeing 777      5.0\n",
       "1044           Lufthansa             Boeing 777      5.0\n",
       "114           Air Canada  Boeing 787 Dreamliner     21.0\n",
       "371    American Airlines  Boeing 787 Dreamliner     20.0\n",
       "1199      Qantas Airways  Boeing 787 Dreamliner     11.0\n",
       "1508     United Airlines  Boeing 787 Dreamliner     30.0"
      ]
     },
     "execution_count": 73,
     "metadata": {},
     "output_type": "execute_result"
    }
   ],
   "source": [
    "airplanes = big_aircrafts[['Parent Airline', 'Aircraft Type', 'Current']].copy()\n",
    "airplanes.dropna(axis=0, subset=['Current',], inplace=True)\n",
    "airplanes.sort_values('Aircraft Type')"
   ]
  },
  {
   "cell_type": "code",
   "execution_count": 77,
   "metadata": {},
   "outputs": [
    {
     "data": {
      "text/plain": [
       "<seaborn.axisgrid.FacetGrid at 0x1a1ae91dd0>"
      ]
     },
     "execution_count": 77,
     "metadata": {},
     "output_type": "execute_result"
    },
    {
     "data": {
      "image/png": "[encoded data removed]",
      "text/plain": [
       "<Figure size 570.375x432 with 1 Axes>"
      ]
     },
     "metadata": {},
     "output_type": "display_data"
    }
   ],
   "source": [
    "airplanes = airplanes.groupby(by=['Parent Airline', 'Aircraft Type']).sum()\n",
    "airplanes = airplanes.reset_index()\n",
    "sns.lmplot(x='Parent Airline', y='Current', hue='Aircraft Type', data=airplanes, fit_reg=False, size=6)"
   ]
  },
  {
   "cell_type": "code",
   "execution_count": 88,
   "metadata": {},
   "outputs": [
    {
     "data": {
      "text/plain": [
       "<matplotlib.legend.Legend at 0x1a1cf31510>"
      ]
     },
     "execution_count": 88,
     "metadata": {},
     "output_type": "execute_result"
    },
    {
     "data": {
      "image/png": "[encoded data removed]",
      "text/plain": [
       "<Figure size 936x576 with 1 Axes>"
      ]
     },
     "metadata": {},
     "output_type": "display_data"
    }
   ],
   "source": [
    "plt.figure(figsize=(13,8))\n",
    "sns.barplot(data=airplanes, x='Parent Airline',y='Current', hue='Aircraft Type')\n",
    "plt.legend(bbox_to_anchor=(1, 1.0))"
   ]
  },
  {
   "cell_type": "code",
   "execution_count": 100,
   "metadata": {},
   "outputs": [
    {
     "data": {
      "text/plain": [
       "Airline\n",
       "Lion Air                   425.0\n",
       "IndiGo                     420.0\n",
       "AirAsia                    401.0\n",
       "American Airlines          287.0\n",
       "Southwest Airlines         284.0\n",
       "Delta Airlines             268.0\n",
       "China Eastern Airlines     233.0\n",
       "Emirates                   231.0\n",
       "Skywest                    225.0\n",
       "RyanAir                    205.0\n",
       "Etihad Airways             190.0\n",
       "Qatar Airways              187.0\n",
       "Turkish Airlines           179.0\n",
       "Lufthansa                  176.0\n",
       "Air China                  175.0\n",
       "United Airlines            173.0\n",
       "easyJet                    165.0\n",
       "Avianca                    161.0\n",
       "Aeroflot                   161.0\n",
       "Wizz Air                   137.0\n",
       "JetBlue Airways            136.0\n",
       "Gol Linhas Aéreas          134.0\n",
       "Korean Air                 133.0\n",
       "Air Canada                 122.0\n",
       "China Southern Airlines    115.0\n",
       "Name: Orders, dtype: float64"
      ]
     },
     "execution_count": 100,
     "metadata": {},
     "output_type": "execute_result"
    }
   ],
   "source": [
    "#Among more recent planes, the A380 seems to be a commercial failure based on new orders' numbers, and the fact that Emirates is the only major airline investing in it. On the other hand, the 787 Dreamliner is a much better commercial success across multiple airlines.\n",
    "#This being said the overall trend for the future is for the industry to lean more towards airbus planes (the percentage of new orders favor Airbus overall vs Boeing)\n",
    "#Lion Air, IndiGo and AirAsia have a very high orders rate. They are clearly expanding at a very fast rate (see the ratio versus their current fleet). They also appear as clear outliers considering their current fleet size.\n",
    "fleet_data.groupby(by= 'Airline').sum()['Orders'].sort_values(ascending= False).head(25)"
   ]
  },
  {
   "cell_type": "code",
   "execution_count": 151,
   "metadata": {},
   "outputs": [],
   "source": [
    "#Implementing Linear Regression\n",
    "import seaborn as seabornInstance \n",
    "from sklearn.model_selection import train_test_split \n",
    "from sklearn.linear_model import LinearRegression\n",
    "from sklearn import metrics\n",
    "from sklearn.metrics import r2_score as rs\n",
    "%matplotlib inline"
   ]
  },
  {
   "cell_type": "code",
   "execution_count": 138,
   "metadata": {},
   "outputs": [],
   "source": [
    "fleet_data_regression = pd.read_csv(\"Fleet Data_new.csv\")"
   ]
  },
  {
   "cell_type": "code",
   "execution_count": 139,
   "metadata": {},
   "outputs": [],
   "source": [
    "fleet_data_regression['Total Cost (Current)'].replace('', np.nan, inplace=True)\n",
    "fleet_data_regression['Average Age'].replace('', np.nan, inplace=True)"
   ]
  },
  {
   "cell_type": "code",
   "execution_count": 140,
   "metadata": {},
   "outputs": [],
   "source": [
    "fleet_data_regression.dropna(subset=['Total Cost (Current)'], inplace=True)\n",
    "fleet_data_regression.dropna(subset=['Average Age'], inplace=True)"
   ]
  },
  {
   "cell_type": "code",
   "execution_count": 141,
   "metadata": {},
   "outputs": [],
   "source": [
    "X = fleet_data_regression['Average Age'].values.reshape(-1,1)\n",
    "y = fleet_data_regression['Total Cost (Current)'].values.reshape(-1,1)"
   ]
  },
  {
   "cell_type": "code",
   "execution_count": 142,
   "metadata": {},
   "outputs": [],
   "source": [
    "X_train, X_test, y_train, y_test = train_test_split(X, y, test_size=0.2, random_state=0)"
   ]
  },
  {
   "cell_type": "code",
   "execution_count": 143,
   "metadata": {},
   "outputs": [
    {
     "data": {
      "text/plain": [
       "LinearRegression(copy_X=True, fit_intercept=True, n_jobs=None, normalize=False)"
      ]
     },
     "execution_count": 143,
     "metadata": {},
     "output_type": "execute_result"
    }
   ],
   "source": [
    "regressor = LinearRegression()  \n",
    "regressor.fit(X_train, y_train)"
   ]
  },
  {
   "cell_type": "code",
   "execution_count": 144,
   "metadata": {},
   "outputs": [
    {
     "name": "stdout",
     "output_type": "stream",
     "text": [
      "[3404.62508752]\n",
      "[[-44.41920223]]\n"
     ]
    }
   ],
   "source": [
    "print(regressor.intercept_)\n",
    "print(regressor.coef_)"
   ]
  },
  {
   "cell_type": "code",
   "execution_count": 145,
   "metadata": {},
   "outputs": [],
   "source": [
    "y_pred = regressor.predict(X_test)"
   ]
  },
  {
   "cell_type": "code",
   "execution_count": 146,
   "metadata": {},
   "outputs": [
    {
     "data": {
      "text/html": [
       "<div>\n",
       "<style scoped>\n",
       "    .dataframe tbody tr th:only-of-type {\n",
       "        vertical-align: middle;\n",
       "    }\n",
       "\n",
       "    .dataframe tbody tr th {\n",
       "        vertical-align: top;\n",
       "    }\n",
       "\n",
       "    .dataframe thead th {\n",
       "        text-align: right;\n",
       "    }\n",
       "</style>\n",
       "<table border=\"1\" class=\"dataframe\">\n",
       "  <thead>\n",
       "    <tr style=\"text-align: right;\">\n",
       "      <th></th>\n",
       "      <th>Actual</th>\n",
       "      <th>Predicted</th>\n",
       "    </tr>\n",
       "  </thead>\n",
       "  <tbody>\n",
       "    <tr>\n",
       "      <td>0</td>\n",
       "      <td>919.0</td>\n",
       "      <td>2978.200746</td>\n",
       "    </tr>\n",
       "    <tr>\n",
       "      <td>1</td>\n",
       "      <td>358.0</td>\n",
       "      <td>3133.667954</td>\n",
       "    </tr>\n",
       "    <tr>\n",
       "      <td>2</td>\n",
       "      <td>1155.0</td>\n",
       "      <td>2982.642666</td>\n",
       "    </tr>\n",
       "    <tr>\n",
       "      <td>3</td>\n",
       "      <td>538.0</td>\n",
       "      <td>3093.690672</td>\n",
       "    </tr>\n",
       "    <tr>\n",
       "      <td>4</td>\n",
       "      <td>3724.0</td>\n",
       "      <td>3275.809401</td>\n",
       "    </tr>\n",
       "    <tr>\n",
       "      <td>...</td>\n",
       "      <td>...</td>\n",
       "      <td>...</td>\n",
       "    </tr>\n",
       "    <tr>\n",
       "      <td>157</td>\n",
       "      <td>66.0</td>\n",
       "      <td>2773.872416</td>\n",
       "    </tr>\n",
       "    <tr>\n",
       "      <td>158</td>\n",
       "      <td>3158.0</td>\n",
       "      <td>3071.481071</td>\n",
       "    </tr>\n",
       "    <tr>\n",
       "      <td>159</td>\n",
       "      <td>1920.0</td>\n",
       "      <td>2680.592091</td>\n",
       "    </tr>\n",
       "    <tr>\n",
       "      <td>160</td>\n",
       "      <td>5191.0</td>\n",
       "      <td>3284.693241</td>\n",
       "    </tr>\n",
       "    <tr>\n",
       "      <td>161</td>\n",
       "      <td>882.0</td>\n",
       "      <td>3302.460922</td>\n",
       "    </tr>\n",
       "  </tbody>\n",
       "</table>\n",
       "<p>162 rows × 2 columns</p>\n",
       "</div>"
      ],
      "text/plain": [
       "     Actual    Predicted\n",
       "0     919.0  2978.200746\n",
       "1     358.0  3133.667954\n",
       "2    1155.0  2982.642666\n",
       "3     538.0  3093.690672\n",
       "4    3724.0  3275.809401\n",
       "..      ...          ...\n",
       "157    66.0  2773.872416\n",
       "158  3158.0  3071.481071\n",
       "159  1920.0  2680.592091\n",
       "160  5191.0  3284.693241\n",
       "161   882.0  3302.460922\n",
       "\n",
       "[162 rows x 2 columns]"
      ]
     },
     "execution_count": 146,
     "metadata": {},
     "output_type": "execute_result"
    }
   ],
   "source": [
    "df = pd.DataFrame({'Actual': y_test.flatten(), 'Predicted': y_pred.flatten()})\n",
    "df"
   ]
  },
  {
   "cell_type": "code",
   "execution_count": 154,
   "metadata": {},
   "outputs": [
    {
     "data": {
      "image/png": "[encoded data removed]",
      "text/plain": [
       "<Figure size 432x288 with 1 Axes>"
      ]
     },
     "metadata": {
      "needs_background": "light"
     },
     "output_type": "display_data"
    }
   ],
   "source": [
    "plt.scatter(X_test, y_test,  color='')\n",
    "plt.plot(X_test, y_pred, color='blue', linewidth=2.5)\n",
    "plt.show()"
   ]
  },
  {
   "cell_type": "code",
   "execution_count": 152,
   "metadata": {},
   "outputs": [
    {
     "data": {
      "text/plain": [
       "-0.014540499366298976"
      ]
     },
     "execution_count": 152,
     "metadata": {},
     "output_type": "execute_result"
    }
   ],
   "source": [
    "rs(df['Actual'], df['Predicted'])"
   ]
  },
  {
   "cell_type": "code",
   "execution_count": null,
   "metadata": {},
   "outputs": [],
   "source": [
    "#Linear regression calculates an equation that minimizes the distance between the fitted line and all of the data points.\n",
    "#As there is not enough data, it is not best fit."
   ]
  }
 ],
 "metadata": {
  "kernelspec": {
   "display_name": "Python 3",
   "language": "python",
   "name": "python3"
  },
  "language_info": {
   "codemirror_mode": {
    "name": "ipython",
    "version": 3
   },
   "file_extension": ".py",
   "mimetype": "text/x-python",
   "name": "python",
   "nbconvert_exporter": "python",
   "pygments_lexer": "ipython3",
   "version": "3.7.4"
  }
 },
 "nbformat": 4,
 "nbformat_minor": 2
}
