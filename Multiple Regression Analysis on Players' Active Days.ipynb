{
 "cells": [
  {
   "cell_type": "markdown",
   "metadata": {},
   "source": [
    "### Author: Tanvi Bhagat"
   ]
  },
  {
   "cell_type": "markdown",
   "metadata": {},
   "source": [
    "### Aim: \n",
    "- Determine the causes of active day\n",
    "- Use multiple regression model to predict players' active day"
   ]
  },
  {
   "cell_type": "markdown",
   "metadata": {},
   "source": [
    "### Importing Packages"
   ]
  },
  {
   "cell_type": "code",
   "execution_count": 129,
   "metadata": {},
   "outputs": [],
   "source": [
    "import matplotlib.pyplot as plt\n",
    "import numpy as np\n",
    "import pandas as pd\n",
    "import seaborn as sns\n",
    "\n",
    "from sklearn.metrics import r2_score\n",
    "from sklearn.metrics import mean_squared_error\n",
    "from sklearn.linear_model import LinearRegression\n",
    "from sklearn.linear_model import Lasso\n",
    "from sklearn.linear_model import LassoCV, LassoLarsCV, LassoLarsIC\n",
    "from sklearn.model_selection import train_test_split,cross_val_predict,cross_val_score\n",
    "from sklearn.preprocessing import LabelEncoder\n",
    "%matplotlib inline"
   ]
  },
  {
   "cell_type": "markdown",
   "metadata": {},
   "source": [
    "### Acquiring Data and Performing Modifications"
   ]
  },
  {
   "cell_type": "code",
   "execution_count": 130,
   "metadata": {},
   "outputs": [],
   "source": [
    "data_path=\"https://docs.google.com/spreadsheets/d/e/2PACX-1vSjFSi5pJ6EQEiR6C_CPUb0xYSwX3BscJ41XD3xAB94MnYp90ICOBtwG30xtFqjMtsvGjD1vfc4ijux/pub?gid=1104164681&single=true&output=csv\"\n",
    "baseball= pd.read_csv(data_path)"
   ]
  },
  {
   "cell_type": "code",
   "execution_count": 95,
   "metadata": {},
   "outputs": [
    {
     "data": {
      "text/html": [
       "<div>\n",
       "<style scoped>\n",
       "    .dataframe tbody tr th:only-of-type {\n",
       "        vertical-align: middle;\n",
       "    }\n",
       "\n",
       "    .dataframe tbody tr th {\n",
       "        vertical-align: top;\n",
       "    }\n",
       "\n",
       "    .dataframe thead th {\n",
       "        text-align: right;\n",
       "    }\n",
       "</style>\n",
       "<table border=\"1\" class=\"dataframe\">\n",
       "  <thead>\n",
       "    <tr style=\"text-align: right;\">\n",
       "      <th></th>\n",
       "      <th>Salary</th>\n",
       "      <th>count_at_bats</th>\n",
       "      <th>count_hits</th>\n",
       "      <th>count_home_runs</th>\n",
       "      <th>count_runs</th>\n",
       "      <th>RBI</th>\n",
       "      <th>count_walks</th>\n",
       "      <th>years_experience</th>\n",
       "      <th>cumulative_at_bats</th>\n",
       "      <th>cumulative_hits</th>\n",
       "      <th>cumulative_home_runs</th>\n",
       "      <th>cumulative_runs</th>\n",
       "      <th>cumulative_RBI</th>\n",
       "      <th>cumulative_walks</th>\n",
       "      <th>League</th>\n",
       "      <th>Division</th>\n",
       "      <th>PutOuts</th>\n",
       "      <th>Assists</th>\n",
       "      <th>Errors</th>\n",
       "      <th>NewLeague</th>\n",
       "    </tr>\n",
       "  </thead>\n",
       "  <tbody>\n",
       "    <tr>\n",
       "      <td>0</td>\n",
       "      <td>875000</td>\n",
       "      <td>457</td>\n",
       "      <td>101</td>\n",
       "      <td>14</td>\n",
       "      <td>42</td>\n",
       "      <td>63</td>\n",
       "      <td>22</td>\n",
       "      <td>17</td>\n",
       "      <td>6521</td>\n",
       "      <td>1767</td>\n",
       "      <td>281</td>\n",
       "      <td>1003</td>\n",
       "      <td>977</td>\n",
       "      <td>619</td>\n",
       "      <td>A</td>\n",
       "      <td>W</td>\n",
       "      <td>389</td>\n",
       "      <td>39</td>\n",
       "      <td>4</td>\n",
       "      <td>A</td>\n",
       "    </tr>\n",
       "    <tr>\n",
       "      <td>1</td>\n",
       "      <td>1300000</td>\n",
       "      <td>441</td>\n",
       "      <td>118</td>\n",
       "      <td>28</td>\n",
       "      <td>84</td>\n",
       "      <td>86</td>\n",
       "      <td>68</td>\n",
       "      <td>8</td>\n",
       "      <td>2723</td>\n",
       "      <td>750</td>\n",
       "      <td>126</td>\n",
       "      <td>433</td>\n",
       "      <td>420</td>\n",
       "      <td>309</td>\n",
       "      <td>A</td>\n",
       "      <td>E</td>\n",
       "      <td>190</td>\n",
       "      <td>2</td>\n",
       "      <td>2</td>\n",
       "      <td>A</td>\n",
       "    </tr>\n",
       "    <tr>\n",
       "      <td>2</td>\n",
       "      <td>940000</td>\n",
       "      <td>593</td>\n",
       "      <td>152</td>\n",
       "      <td>23</td>\n",
       "      <td>69</td>\n",
       "      <td>75</td>\n",
       "      <td>53</td>\n",
       "      <td>6</td>\n",
       "      <td>2765</td>\n",
       "      <td>686</td>\n",
       "      <td>133</td>\n",
       "      <td>369</td>\n",
       "      <td>384</td>\n",
       "      <td>321</td>\n",
       "      <td>A</td>\n",
       "      <td>W</td>\n",
       "      <td>315</td>\n",
       "      <td>10</td>\n",
       "      <td>6</td>\n",
       "      <td>A</td>\n",
       "    </tr>\n",
       "  </tbody>\n",
       "</table>\n",
       "</div>"
      ],
      "text/plain": [
       "    Salary  count_at_bats  count_hits  count_home_runs  count_runs  RBI  \\\n",
       "0   875000            457         101               14          42   63   \n",
       "1  1300000            441         118               28          84   86   \n",
       "2   940000            593         152               23          69   75   \n",
       "\n",
       "   count_walks  years_experience  cumulative_at_bats  cumulative_hits  \\\n",
       "0           22                17                6521             1767   \n",
       "1           68                 8                2723              750   \n",
       "2           53                 6                2765              686   \n",
       "\n",
       "   cumulative_home_runs  cumulative_runs  cumulative_RBI  cumulative_walks  \\\n",
       "0                   281             1003             977               619   \n",
       "1                   126              433             420               309   \n",
       "2                   133              369             384               321   \n",
       "\n",
       "  League Division  PutOuts  Assists  Errors NewLeague  \n",
       "0      A        W      389       39       4         A  \n",
       "1      A        E      190        2       2         A  \n",
       "2      A        W      315       10       6         A  "
      ]
     },
     "execution_count": 95,
     "metadata": {},
     "output_type": "execute_result"
    }
   ],
   "source": [
    "baseball.head(3)"
   ]
  },
  {
   "cell_type": "code",
   "execution_count": 96,
   "metadata": {},
   "outputs": [
    {
     "data": {
      "text/html": [
       "<div>\n",
       "<style scoped>\n",
       "    .dataframe tbody tr th:only-of-type {\n",
       "        vertical-align: middle;\n",
       "    }\n",
       "\n",
       "    .dataframe tbody tr th {\n",
       "        vertical-align: top;\n",
       "    }\n",
       "\n",
       "    .dataframe thead th {\n",
       "        text-align: right;\n",
       "    }\n",
       "</style>\n",
       "<table border=\"1\" class=\"dataframe\">\n",
       "  <thead>\n",
       "    <tr style=\"text-align: right;\">\n",
       "      <th></th>\n",
       "      <th>Salary</th>\n",
       "      <th>count_at_bats</th>\n",
       "      <th>count_hits</th>\n",
       "      <th>count_home_runs</th>\n",
       "      <th>count_runs</th>\n",
       "      <th>RBI</th>\n",
       "      <th>count_walks</th>\n",
       "      <th>years_experience</th>\n",
       "      <th>cumulative_at_bats</th>\n",
       "      <th>cumulative_hits</th>\n",
       "      <th>cumulative_home_runs</th>\n",
       "      <th>cumulative_runs</th>\n",
       "      <th>cumulative_RBI</th>\n",
       "      <th>cumulative_walks</th>\n",
       "      <th>League</th>\n",
       "      <th>Division</th>\n",
       "      <th>PutOuts</th>\n",
       "      <th>Assists</th>\n",
       "      <th>Errors</th>\n",
       "      <th>NewLeague</th>\n",
       "    </tr>\n",
       "  </thead>\n",
       "  <tbody>\n",
       "    <tr>\n",
       "      <td>241</td>\n",
       "      <td>0</td>\n",
       "      <td>200</td>\n",
       "      <td>57</td>\n",
       "      <td>6</td>\n",
       "      <td>23</td>\n",
       "      <td>14</td>\n",
       "      <td>14</td>\n",
       "      <td>9</td>\n",
       "      <td>2516</td>\n",
       "      <td>684</td>\n",
       "      <td>46</td>\n",
       "      <td>371</td>\n",
       "      <td>230</td>\n",
       "      <td>195</td>\n",
       "      <td>N</td>\n",
       "      <td>W</td>\n",
       "      <td>69</td>\n",
       "      <td>1</td>\n",
       "      <td>1</td>\n",
       "      <td>N</td>\n",
       "    </tr>\n",
       "    <tr>\n",
       "      <td>242</td>\n",
       "      <td>0</td>\n",
       "      <td>346</td>\n",
       "      <td>98</td>\n",
       "      <td>5</td>\n",
       "      <td>31</td>\n",
       "      <td>53</td>\n",
       "      <td>30</td>\n",
       "      <td>16</td>\n",
       "      <td>5913</td>\n",
       "      <td>1615</td>\n",
       "      <td>235</td>\n",
       "      <td>784</td>\n",
       "      <td>901</td>\n",
       "      <td>560</td>\n",
       "      <td>A</td>\n",
       "      <td>E</td>\n",
       "      <td>0</td>\n",
       "      <td>0</td>\n",
       "      <td>0</td>\n",
       "      <td>A</td>\n",
       "    </tr>\n",
       "  </tbody>\n",
       "</table>\n",
       "</div>"
      ],
      "text/plain": [
       "     Salary  count_at_bats  count_hits  count_home_runs  count_runs  RBI  \\\n",
       "241       0            200          57                6          23   14   \n",
       "242       0            346          98                5          31   53   \n",
       "\n",
       "     count_walks  years_experience  cumulative_at_bats  cumulative_hits  \\\n",
       "241           14                 9                2516              684   \n",
       "242           30                16                5913             1615   \n",
       "\n",
       "     cumulative_home_runs  cumulative_runs  cumulative_RBI  cumulative_walks  \\\n",
       "241                    46              371             230               195   \n",
       "242                   235              784             901               560   \n",
       "\n",
       "    League Division  PutOuts  Assists  Errors NewLeague  \n",
       "241      N        W       69        1       1         N  \n",
       "242      A        E        0        0       0         A  "
      ]
     },
     "execution_count": 96,
     "metadata": {},
     "output_type": "execute_result"
    }
   ],
   "source": [
    "baseball.tail(2)"
   ]
  },
  {
   "cell_type": "code",
   "execution_count": 97,
   "metadata": {},
   "outputs": [
    {
     "data": {
      "text/plain": [
       "['Salary',\n",
       " 'count_at_bats',\n",
       " 'count_hits',\n",
       " 'count_home_runs',\n",
       " 'count_runs',\n",
       " 'RBI',\n",
       " 'count_walks',\n",
       " 'years_experience',\n",
       " 'cumulative_at_bats',\n",
       " 'cumulative_hits',\n",
       " 'cumulative_home_runs',\n",
       " 'cumulative_runs',\n",
       " 'cumulative_RBI',\n",
       " 'cumulative_walks',\n",
       " 'League',\n",
       " 'Division',\n",
       " 'PutOuts',\n",
       " 'Assists',\n",
       " 'Errors',\n",
       " 'NewLeague']"
      ]
     },
     "execution_count": 97,
     "metadata": {},
     "output_type": "execute_result"
    }
   ],
   "source": [
    "list(baseball)"
   ]
  },
  {
   "cell_type": "markdown",
   "metadata": {},
   "source": [
    "\n",
    "### Data set interpretion\n",
    "<ul>\n",
    "<li> PLAYERID: Unique identifier of each player</li>\n",
    "<li>INSTALLDATE: Player's CIV6 install date</li>\n",
    "<li>ACTIVEDAYS: The number of unique days player played the game</li>\n",
    "<li>LASTACTIVEDAY: Last active day of the player</li>\n",
    "<li>LEADERMOSTSELECTED: Most selected leaders in the game</li>\n",
    "<li>CIVILIZATIONMOSTSELECTED: Most selected civilization in the game</li>\n",
    "<li>POLAND: Player's install date of this DLC</li>\n",
    "<li>NUBIA: Player's install date of this DLC</li>\n",
    "<li>KHMER_AND_INDONESIA: Player's install date of this DLC</li>\n",
    "<li>GATHERING_STORM: Player's install date of this Expansion Pack</li>\n",
    "<li>PERSIA_AND_MACEDON: Player's install date of this DLC</li>\n",
    "<li>VIKINGS: Player's install date of this DLC</li>\n",
    "<li>RISE_AND_FALL: Player's install date of this Expansion Pack</li>\n",
    "<li>AUSTRALIA: Player's install date of this DLC</li>\n",
    "    </ul>"
   ]
  },
  {
   "cell_type": "code",
   "execution_count": 98,
   "metadata": {},
   "outputs": [
    {
     "data": {
      "text/plain": [
       "NewLeague                 2\n",
       "Division                  2\n",
       "League                    2\n",
       "years_experience         21\n",
       "Errors                   27\n",
       "count_home_runs          35\n",
       "count_walks              82\n",
       "count_runs               87\n",
       "RBI                      98\n",
       "Salary                  115\n",
       "cumulative_home_runs    128\n",
       "count_hits              128\n",
       "Assists                 130\n",
       "PutOuts                 185\n",
       "count_at_bats           195\n",
       "cumulative_runs         202\n",
       "cumulative_walks        203\n",
       "cumulative_RBI          207\n",
       "cumulative_hits         221\n",
       "cumulative_at_bats      241\n",
       "dtype: int64"
      ]
     },
     "execution_count": 98,
     "metadata": {},
     "output_type": "execute_result"
    }
   ],
   "source": [
    "Nunique = baseball.nunique()\n",
    "Nunique = Nunique.sort_values()\n",
    "Nunique"
   ]
  },
  {
   "cell_type": "code",
   "execution_count": 99,
   "metadata": {},
   "outputs": [
    {
     "data": {
      "text/plain": [
       "array(['W', 'E'], dtype=object)"
      ]
     },
     "execution_count": 99,
     "metadata": {},
     "output_type": "execute_result"
    }
   ],
   "source": [
    "baseball['Division'].unique()"
   ]
  },
  {
   "cell_type": "code",
   "execution_count": 100,
   "metadata": {},
   "outputs": [
    {
     "data": {
      "text/plain": [
       "array(['A', 'N'], dtype=object)"
      ]
     },
     "execution_count": 100,
     "metadata": {},
     "output_type": "execute_result"
    }
   ],
   "source": [
    "baseball['NewLeague'].unique()"
   ]
  },
  {
   "cell_type": "code",
   "execution_count": 101,
   "metadata": {},
   "outputs": [
    {
     "name": "stdout",
     "output_type": "stream",
     "text": [
      "(243, 20)\n",
      "['Salary', 'count_at_bats', 'count_hits', 'count_home_runs', 'count_runs', 'RBI', 'count_walks', 'years_experience', 'cumulative_at_bats', 'cumulative_hits', 'cumulative_home_runs', 'cumulative_runs', 'cumulative_RBI', 'cumulative_walks', 'League', 'Division', 'PutOuts', 'Assists', 'Errors', 'NewLeague']\n"
     ]
    }
   ],
   "source": [
    "print(baseball.shape)\n",
    "print(list(baseball.columns))"
   ]
  },
  {
   "cell_type": "markdown",
   "metadata": {},
   "source": [
    "### Describing Quantitative Variables"
   ]
  },
  {
   "cell_type": "code",
   "execution_count": 102,
   "metadata": {},
   "outputs": [
    {
     "data": {
      "text/html": [
       "<div>\n",
       "<style scoped>\n",
       "    .dataframe tbody tr th:only-of-type {\n",
       "        vertical-align: middle;\n",
       "    }\n",
       "\n",
       "    .dataframe tbody tr th {\n",
       "        vertical-align: top;\n",
       "    }\n",
       "\n",
       "    .dataframe thead th {\n",
       "        text-align: right;\n",
       "    }\n",
       "</style>\n",
       "<table border=\"1\" class=\"dataframe\">\n",
       "  <thead>\n",
       "    <tr style=\"text-align: right;\">\n",
       "      <th></th>\n",
       "      <th>Salary</th>\n",
       "      <th>count_at_bats</th>\n",
       "      <th>count_hits</th>\n",
       "      <th>count_home_runs</th>\n",
       "      <th>count_runs</th>\n",
       "      <th>RBI</th>\n",
       "      <th>count_walks</th>\n",
       "      <th>years_experience</th>\n",
       "      <th>cumulative_at_bats</th>\n",
       "      <th>cumulative_hits</th>\n",
       "      <th>cumulative_home_runs</th>\n",
       "      <th>cumulative_runs</th>\n",
       "      <th>cumulative_RBI</th>\n",
       "      <th>cumulative_walks</th>\n",
       "      <th>PutOuts</th>\n",
       "      <th>Assists</th>\n",
       "      <th>Errors</th>\n",
       "    </tr>\n",
       "  </thead>\n",
       "  <tbody>\n",
       "    <tr>\n",
       "      <td>count</td>\n",
       "      <td>2.430000e+02</td>\n",
       "      <td>243.000000</td>\n",
       "      <td>243.000000</td>\n",
       "      <td>243.000000</td>\n",
       "      <td>243.000000</td>\n",
       "      <td>243.000000</td>\n",
       "      <td>243.000000</td>\n",
       "      <td>243.000000</td>\n",
       "      <td>243.000000</td>\n",
       "      <td>243.000000</td>\n",
       "      <td>243.000000</td>\n",
       "      <td>243.000000</td>\n",
       "      <td>243.000000</td>\n",
       "      <td>243.000000</td>\n",
       "      <td>243.000000</td>\n",
       "      <td>243.000000</td>\n",
       "      <td>243.000000</td>\n",
       "    </tr>\n",
       "    <tr>\n",
       "      <td>mean</td>\n",
       "      <td>3.964856e+05</td>\n",
       "      <td>377.621399</td>\n",
       "      <td>99.975309</td>\n",
       "      <td>10.666667</td>\n",
       "      <td>50.123457</td>\n",
       "      <td>47.362140</td>\n",
       "      <td>38.115226</td>\n",
       "      <td>7.473251</td>\n",
       "      <td>2654.497942</td>\n",
       "      <td>717.703704</td>\n",
       "      <td>71.831276</td>\n",
       "      <td>362.061728</td>\n",
       "      <td>332.069959</td>\n",
       "      <td>263.711934</td>\n",
       "      <td>284.263374</td>\n",
       "      <td>102.781893</td>\n",
       "      <td>7.629630</td>\n",
       "    </tr>\n",
       "    <tr>\n",
       "      <td>std</td>\n",
       "      <td>4.205241e+05</td>\n",
       "      <td>151.221516</td>\n",
       "      <td>45.997478</td>\n",
       "      <td>8.449656</td>\n",
       "      <td>25.186109</td>\n",
       "      <td>25.642821</td>\n",
       "      <td>21.239171</td>\n",
       "      <td>5.018386</td>\n",
       "      <td>2344.518332</td>\n",
       "      <td>657.431235</td>\n",
       "      <td>88.616130</td>\n",
       "      <td>337.841166</td>\n",
       "      <td>333.997166</td>\n",
       "      <td>277.955388</td>\n",
       "      <td>275.126756</td>\n",
       "      <td>134.263086</td>\n",
       "      <td>6.244557</td>\n",
       "    </tr>\n",
       "    <tr>\n",
       "      <td>min</td>\n",
       "      <td>0.000000e+00</td>\n",
       "      <td>16.000000</td>\n",
       "      <td>2.000000</td>\n",
       "      <td>0.000000</td>\n",
       "      <td>1.000000</td>\n",
       "      <td>0.000000</td>\n",
       "      <td>0.000000</td>\n",
       "      <td>1.000000</td>\n",
       "      <td>19.000000</td>\n",
       "      <td>4.000000</td>\n",
       "      <td>0.000000</td>\n",
       "      <td>1.000000</td>\n",
       "      <td>0.000000</td>\n",
       "      <td>0.000000</td>\n",
       "      <td>0.000000</td>\n",
       "      <td>0.000000</td>\n",
       "      <td>0.000000</td>\n",
       "    </tr>\n",
       "    <tr>\n",
       "      <td>25%</td>\n",
       "      <td>7.000000e+04</td>\n",
       "      <td>255.500000</td>\n",
       "      <td>64.000000</td>\n",
       "      <td>4.000000</td>\n",
       "      <td>31.000000</td>\n",
       "      <td>29.000000</td>\n",
       "      <td>22.000000</td>\n",
       "      <td>4.000000</td>\n",
       "      <td>826.500000</td>\n",
       "      <td>209.500000</td>\n",
       "      <td>14.000000</td>\n",
       "      <td>100.500000</td>\n",
       "      <td>91.500000</td>\n",
       "      <td>66.500000</td>\n",
       "      <td>113.500000</td>\n",
       "      <td>6.500000</td>\n",
       "      <td>3.000000</td>\n",
       "    </tr>\n",
       "    <tr>\n",
       "      <td>50%</td>\n",
       "      <td>2.500000e+05</td>\n",
       "      <td>360.000000</td>\n",
       "      <td>95.000000</td>\n",
       "      <td>8.000000</td>\n",
       "      <td>48.000000</td>\n",
       "      <td>44.000000</td>\n",
       "      <td>34.000000</td>\n",
       "      <td>6.000000</td>\n",
       "      <td>1931.000000</td>\n",
       "      <td>510.000000</td>\n",
       "      <td>39.000000</td>\n",
       "      <td>258.000000</td>\n",
       "      <td>230.000000</td>\n",
       "      <td>174.000000</td>\n",
       "      <td>211.000000</td>\n",
       "      <td>33.000000</td>\n",
       "      <td>6.000000</td>\n",
       "    </tr>\n",
       "    <tr>\n",
       "      <td>75%</td>\n",
       "      <td>6.665000e+05</td>\n",
       "      <td>511.000000</td>\n",
       "      <td>136.000000</td>\n",
       "      <td>16.000000</td>\n",
       "      <td>68.500000</td>\n",
       "      <td>63.500000</td>\n",
       "      <td>52.000000</td>\n",
       "      <td>11.000000</td>\n",
       "      <td>3890.500000</td>\n",
       "      <td>1037.500000</td>\n",
       "      <td>93.000000</td>\n",
       "      <td>523.500000</td>\n",
       "      <td>424.500000</td>\n",
       "      <td>329.500000</td>\n",
       "      <td>322.500000</td>\n",
       "      <td>151.500000</td>\n",
       "      <td>10.000000</td>\n",
       "    </tr>\n",
       "    <tr>\n",
       "      <td>max</td>\n",
       "      <td>1.975000e+06</td>\n",
       "      <td>687.000000</td>\n",
       "      <td>238.000000</td>\n",
       "      <td>40.000000</td>\n",
       "      <td>117.000000</td>\n",
       "      <td>121.000000</td>\n",
       "      <td>105.000000</td>\n",
       "      <td>24.000000</td>\n",
       "      <td>14053.000000</td>\n",
       "      <td>4256.000000</td>\n",
       "      <td>548.000000</td>\n",
       "      <td>2165.000000</td>\n",
       "      <td>1659.000000</td>\n",
       "      <td>1566.000000</td>\n",
       "      <td>1378.000000</td>\n",
       "      <td>492.000000</td>\n",
       "      <td>32.000000</td>\n",
       "    </tr>\n",
       "  </tbody>\n",
       "</table>\n",
       "</div>"
      ],
      "text/plain": [
       "             Salary  count_at_bats  count_hits  count_home_runs  count_runs  \\\n",
       "count  2.430000e+02     243.000000  243.000000       243.000000  243.000000   \n",
       "mean   3.964856e+05     377.621399   99.975309        10.666667   50.123457   \n",
       "std    4.205241e+05     151.221516   45.997478         8.449656   25.186109   \n",
       "min    0.000000e+00      16.000000    2.000000         0.000000    1.000000   \n",
       "25%    7.000000e+04     255.500000   64.000000         4.000000   31.000000   \n",
       "50%    2.500000e+05     360.000000   95.000000         8.000000   48.000000   \n",
       "75%    6.665000e+05     511.000000  136.000000        16.000000   68.500000   \n",
       "max    1.975000e+06     687.000000  238.000000        40.000000  117.000000   \n",
       "\n",
       "              RBI  count_walks  years_experience  cumulative_at_bats  \\\n",
       "count  243.000000   243.000000        243.000000          243.000000   \n",
       "mean    47.362140    38.115226          7.473251         2654.497942   \n",
       "std     25.642821    21.239171          5.018386         2344.518332   \n",
       "min      0.000000     0.000000          1.000000           19.000000   \n",
       "25%     29.000000    22.000000          4.000000          826.500000   \n",
       "50%     44.000000    34.000000          6.000000         1931.000000   \n",
       "75%     63.500000    52.000000         11.000000         3890.500000   \n",
       "max    121.000000   105.000000         24.000000        14053.000000   \n",
       "\n",
       "       cumulative_hits  cumulative_home_runs  cumulative_runs  cumulative_RBI  \\\n",
       "count       243.000000            243.000000       243.000000      243.000000   \n",
       "mean        717.703704             71.831276       362.061728      332.069959   \n",
       "std         657.431235             88.616130       337.841166      333.997166   \n",
       "min           4.000000              0.000000         1.000000        0.000000   \n",
       "25%         209.500000             14.000000       100.500000       91.500000   \n",
       "50%         510.000000             39.000000       258.000000      230.000000   \n",
       "75%        1037.500000             93.000000       523.500000      424.500000   \n",
       "max        4256.000000            548.000000      2165.000000     1659.000000   \n",
       "\n",
       "       cumulative_walks      PutOuts     Assists      Errors  \n",
       "count        243.000000   243.000000  243.000000  243.000000  \n",
       "mean         263.711934   284.263374  102.781893    7.629630  \n",
       "std          277.955388   275.126756  134.263086    6.244557  \n",
       "min            0.000000     0.000000    0.000000    0.000000  \n",
       "25%           66.500000   113.500000    6.500000    3.000000  \n",
       "50%          174.000000   211.000000   33.000000    6.000000  \n",
       "75%          329.500000   322.500000  151.500000   10.000000  \n",
       "max         1566.000000  1378.000000  492.000000   32.000000  "
      ]
     },
     "execution_count": 102,
     "metadata": {},
     "output_type": "execute_result"
    }
   ],
   "source": [
    "baseball.describe()"
   ]
  },
  {
   "cell_type": "markdown",
   "metadata": {},
   "source": [
    "#### Checking for null values"
   ]
  },
  {
   "cell_type": "code",
   "execution_count": 103,
   "metadata": {},
   "outputs": [
    {
     "data": {
      "text/plain": [
       "Salary                  0.0\n",
       "count_at_bats           0.0\n",
       "count_hits              0.0\n",
       "count_home_runs         0.0\n",
       "count_runs              0.0\n",
       "RBI                     0.0\n",
       "count_walks             0.0\n",
       "years_experience        0.0\n",
       "cumulative_at_bats      0.0\n",
       "cumulative_hits         0.0\n",
       "cumulative_home_runs    0.0\n",
       "cumulative_runs         0.0\n",
       "cumulative_RBI          0.0\n",
       "cumulative_walks        0.0\n",
       "League                  0.0\n",
       "Division                0.0\n",
       "PutOuts                 0.0\n",
       "Assists                 0.0\n",
       "Errors                  0.0\n",
       "NewLeague               0.0\n",
       "dtype: float64"
      ]
     },
     "execution_count": 103,
     "metadata": {},
     "output_type": "execute_result"
    }
   ],
   "source": [
    "round(100*(baseball.isnull().sum()/len(baseball.index)), 2)"
   ]
  },
  {
   "cell_type": "code",
   "execution_count": 104,
   "metadata": {},
   "outputs": [
    {
     "data": {
      "text/plain": [
       "(166, 20)"
      ]
     },
     "execution_count": 104,
     "metadata": {},
     "output_type": "execute_result"
    }
   ],
   "source": [
    "baseball= baseball[~(baseball==0).any(axis=1)]\n",
    "baseball.shape"
   ]
  },
  {
   "cell_type": "code",
   "execution_count": 105,
   "metadata": {},
   "outputs": [
    {
     "data": {
      "text/html": [
       "<div>\n",
       "<style scoped>\n",
       "    .dataframe tbody tr th:only-of-type {\n",
       "        vertical-align: middle;\n",
       "    }\n",
       "\n",
       "    .dataframe tbody tr th {\n",
       "        vertical-align: top;\n",
       "    }\n",
       "\n",
       "    .dataframe thead th {\n",
       "        text-align: right;\n",
       "    }\n",
       "</style>\n",
       "<table border=\"1\" class=\"dataframe\">\n",
       "  <thead>\n",
       "    <tr style=\"text-align: right;\">\n",
       "      <th></th>\n",
       "      <th>Salary</th>\n",
       "      <th>count_at_bats</th>\n",
       "      <th>count_hits</th>\n",
       "      <th>count_home_runs</th>\n",
       "      <th>count_runs</th>\n",
       "      <th>RBI</th>\n",
       "      <th>count_walks</th>\n",
       "      <th>years_experience</th>\n",
       "      <th>cumulative_at_bats</th>\n",
       "      <th>cumulative_hits</th>\n",
       "      <th>cumulative_home_runs</th>\n",
       "      <th>cumulative_runs</th>\n",
       "      <th>cumulative_RBI</th>\n",
       "      <th>cumulative_walks</th>\n",
       "      <th>League</th>\n",
       "      <th>Division</th>\n",
       "      <th>PutOuts</th>\n",
       "      <th>Assists</th>\n",
       "      <th>Errors</th>\n",
       "      <th>NewLeague</th>\n",
       "    </tr>\n",
       "  </thead>\n",
       "  <tbody>\n",
       "    <tr>\n",
       "      <td>182</td>\n",
       "      <td>700000</td>\n",
       "      <td>283</td>\n",
       "      <td>77</td>\n",
       "      <td>14</td>\n",
       "      <td>45</td>\n",
       "      <td>47</td>\n",
       "      <td>26</td>\n",
       "      <td>16</td>\n",
       "      <td>6840</td>\n",
       "      <td>1910</td>\n",
       "      <td>259</td>\n",
       "      <td>915</td>\n",
       "      <td>1067</td>\n",
       "      <td>546</td>\n",
       "      <td>A</td>\n",
       "      <td>W</td>\n",
       "      <td>144</td>\n",
       "      <td>6</td>\n",
       "      <td>5</td>\n",
       "      <td>A</td>\n",
       "    </tr>\n",
       "    <tr>\n",
       "      <td>183</td>\n",
       "      <td>1350000</td>\n",
       "      <td>627</td>\n",
       "      <td>177</td>\n",
       "      <td>25</td>\n",
       "      <td>98</td>\n",
       "      <td>81</td>\n",
       "      <td>70</td>\n",
       "      <td>6</td>\n",
       "      <td>3210</td>\n",
       "      <td>927</td>\n",
       "      <td>133</td>\n",
       "      <td>529</td>\n",
       "      <td>472</td>\n",
       "      <td>313</td>\n",
       "      <td>A</td>\n",
       "      <td>E</td>\n",
       "      <td>240</td>\n",
       "      <td>482</td>\n",
       "      <td>13</td>\n",
       "      <td>A</td>\n",
       "    </tr>\n",
       "  </tbody>\n",
       "</table>\n",
       "</div>"
      ],
      "text/plain": [
       "      Salary  count_at_bats  count_hits  count_home_runs  count_runs  RBI  \\\n",
       "182   700000            283          77               14          45   47   \n",
       "183  1350000            627         177               25          98   81   \n",
       "\n",
       "     count_walks  years_experience  cumulative_at_bats  cumulative_hits  \\\n",
       "182           26                16                6840             1910   \n",
       "183           70                 6                3210              927   \n",
       "\n",
       "     cumulative_home_runs  cumulative_runs  cumulative_RBI  cumulative_walks  \\\n",
       "182                   259              915            1067               546   \n",
       "183                   133              529             472               313   \n",
       "\n",
       "    League Division  PutOuts  Assists  Errors NewLeague  \n",
       "182      A        W      144        6       5         A  \n",
       "183      A        E      240      482      13         A  "
      ]
     },
     "execution_count": 105,
     "metadata": {},
     "output_type": "execute_result"
    }
   ],
   "source": [
    "baseball.tail(2)"
   ]
  },
  {
   "cell_type": "markdown",
   "metadata": {},
   "source": [
    "### Encoding the three columns: League, Division, and NewLeague"
   ]
  },
  {
   "cell_type": "code",
   "execution_count": 106,
   "metadata": {},
   "outputs": [
    {
     "data": {
      "text/html": [
       "<div>\n",
       "<style scoped>\n",
       "    .dataframe tbody tr th:only-of-type {\n",
       "        vertical-align: middle;\n",
       "    }\n",
       "\n",
       "    .dataframe tbody tr th {\n",
       "        vertical-align: top;\n",
       "    }\n",
       "\n",
       "    .dataframe thead th {\n",
       "        text-align: right;\n",
       "    }\n",
       "</style>\n",
       "<table border=\"1\" class=\"dataframe\">\n",
       "  <thead>\n",
       "    <tr style=\"text-align: right;\">\n",
       "      <th></th>\n",
       "      <th>Salary</th>\n",
       "      <th>count_at_bats</th>\n",
       "      <th>count_hits</th>\n",
       "      <th>count_home_runs</th>\n",
       "      <th>count_runs</th>\n",
       "      <th>RBI</th>\n",
       "      <th>count_walks</th>\n",
       "      <th>years_experience</th>\n",
       "      <th>cumulative_at_bats</th>\n",
       "      <th>cumulative_hits</th>\n",
       "      <th>cumulative_home_runs</th>\n",
       "      <th>cumulative_runs</th>\n",
       "      <th>cumulative_RBI</th>\n",
       "      <th>cumulative_walks</th>\n",
       "      <th>League</th>\n",
       "      <th>Division</th>\n",
       "      <th>PutOuts</th>\n",
       "      <th>Assists</th>\n",
       "      <th>Errors</th>\n",
       "      <th>NewLeague</th>\n",
       "    </tr>\n",
       "  </thead>\n",
       "  <tbody>\n",
       "    <tr>\n",
       "      <td>0</td>\n",
       "      <td>875000</td>\n",
       "      <td>457</td>\n",
       "      <td>101</td>\n",
       "      <td>14</td>\n",
       "      <td>42</td>\n",
       "      <td>63</td>\n",
       "      <td>22</td>\n",
       "      <td>17</td>\n",
       "      <td>6521</td>\n",
       "      <td>1767</td>\n",
       "      <td>281</td>\n",
       "      <td>1003</td>\n",
       "      <td>977</td>\n",
       "      <td>619</td>\n",
       "      <td>0</td>\n",
       "      <td>1</td>\n",
       "      <td>389</td>\n",
       "      <td>39</td>\n",
       "      <td>4</td>\n",
       "      <td>0</td>\n",
       "    </tr>\n",
       "    <tr>\n",
       "      <td>1</td>\n",
       "      <td>1300000</td>\n",
       "      <td>441</td>\n",
       "      <td>118</td>\n",
       "      <td>28</td>\n",
       "      <td>84</td>\n",
       "      <td>86</td>\n",
       "      <td>68</td>\n",
       "      <td>8</td>\n",
       "      <td>2723</td>\n",
       "      <td>750</td>\n",
       "      <td>126</td>\n",
       "      <td>433</td>\n",
       "      <td>420</td>\n",
       "      <td>309</td>\n",
       "      <td>0</td>\n",
       "      <td>0</td>\n",
       "      <td>190</td>\n",
       "      <td>2</td>\n",
       "      <td>2</td>\n",
       "      <td>0</td>\n",
       "    </tr>\n",
       "    <tr>\n",
       "      <td>2</td>\n",
       "      <td>940000</td>\n",
       "      <td>593</td>\n",
       "      <td>152</td>\n",
       "      <td>23</td>\n",
       "      <td>69</td>\n",
       "      <td>75</td>\n",
       "      <td>53</td>\n",
       "      <td>6</td>\n",
       "      <td>2765</td>\n",
       "      <td>686</td>\n",
       "      <td>133</td>\n",
       "      <td>369</td>\n",
       "      <td>384</td>\n",
       "      <td>321</td>\n",
       "      <td>0</td>\n",
       "      <td>1</td>\n",
       "      <td>315</td>\n",
       "      <td>10</td>\n",
       "      <td>6</td>\n",
       "      <td>0</td>\n",
       "    </tr>\n",
       "    <tr>\n",
       "      <td>3</td>\n",
       "      <td>70000</td>\n",
       "      <td>312</td>\n",
       "      <td>68</td>\n",
       "      <td>2</td>\n",
       "      <td>32</td>\n",
       "      <td>22</td>\n",
       "      <td>24</td>\n",
       "      <td>1</td>\n",
       "      <td>312</td>\n",
       "      <td>68</td>\n",
       "      <td>2</td>\n",
       "      <td>32</td>\n",
       "      <td>22</td>\n",
       "      <td>24</td>\n",
       "      <td>0</td>\n",
       "      <td>0</td>\n",
       "      <td>86</td>\n",
       "      <td>150</td>\n",
       "      <td>15</td>\n",
       "      <td>0</td>\n",
       "    </tr>\n",
       "    <tr>\n",
       "      <td>4</td>\n",
       "      <td>815000</td>\n",
       "      <td>526</td>\n",
       "      <td>146</td>\n",
       "      <td>13</td>\n",
       "      <td>71</td>\n",
       "      <td>70</td>\n",
       "      <td>84</td>\n",
       "      <td>6</td>\n",
       "      <td>2648</td>\n",
       "      <td>715</td>\n",
       "      <td>77</td>\n",
       "      <td>352</td>\n",
       "      <td>342</td>\n",
       "      <td>289</td>\n",
       "      <td>1</td>\n",
       "      <td>1</td>\n",
       "      <td>303</td>\n",
       "      <td>9</td>\n",
       "      <td>9</td>\n",
       "      <td>1</td>\n",
       "    </tr>\n",
       "  </tbody>\n",
       "</table>\n",
       "</div>"
      ],
      "text/plain": [
       "    Salary  count_at_bats  count_hits  count_home_runs  count_runs  RBI  \\\n",
       "0   875000            457         101               14          42   63   \n",
       "1  1300000            441         118               28          84   86   \n",
       "2   940000            593         152               23          69   75   \n",
       "3    70000            312          68                2          32   22   \n",
       "4   815000            526         146               13          71   70   \n",
       "\n",
       "   count_walks  years_experience  cumulative_at_bats  cumulative_hits  \\\n",
       "0           22                17                6521             1767   \n",
       "1           68                 8                2723              750   \n",
       "2           53                 6                2765              686   \n",
       "3           24                 1                 312               68   \n",
       "4           84                 6                2648              715   \n",
       "\n",
       "   cumulative_home_runs  cumulative_runs  cumulative_RBI  cumulative_walks  \\\n",
       "0                   281             1003             977               619   \n",
       "1                   126              433             420               309   \n",
       "2                   133              369             384               321   \n",
       "3                     2               32              22                24   \n",
       "4                    77              352             342               289   \n",
       "\n",
       "   League  Division  PutOuts  Assists  Errors  NewLeague  \n",
       "0       0         1      389       39       4          0  \n",
       "1       0         0      190        2       2          0  \n",
       "2       0         1      315       10       6          0  \n",
       "3       0         0       86      150      15          0  \n",
       "4       1         1      303        9       9          1  "
      ]
     },
     "execution_count": 106,
     "metadata": {},
     "output_type": "execute_result"
    }
   ],
   "source": [
    "\n",
    "encode= LabelEncoder()\n",
    "baseball.loc[:, ['League', 'Division', 'NewLeague']]= \\\n",
    "baseball.loc[:, ['League', 'Division','NewLeague']].apply(encode.fit_transform)\n",
    "baseball.head(5)"
   ]
  },
  {
   "cell_type": "markdown",
   "metadata": {},
   "source": [
    "### scaling the data between 0 to 1 "
   ]
  },
  {
   "cell_type": "code",
   "execution_count": 145,
   "metadata": {},
   "outputs": [
    {
     "name": "stderr",
     "output_type": "stream",
     "text": [
      "/opt/anaconda3/lib/python3.7/site-packages/pandas/core/series.py:853: RuntimeWarning: divide by zero encountered in log\n",
      "  result = getattr(ufunc, method)(*inputs, **kwargs)\n"
     ]
    }
   ],
   "source": [
    "baseball_s = baseball.copy() \n",
    "baseball_s['Salary'] = np.log(baseball_s['Salary'])"
   ]
  },
  {
   "cell_type": "code",
   "execution_count": 134,
   "metadata": {},
   "outputs": [
    {
     "data": {
      "text/html": [
       "<div>\n",
       "<style scoped>\n",
       "    .dataframe tbody tr th:only-of-type {\n",
       "        vertical-align: middle;\n",
       "    }\n",
       "\n",
       "    .dataframe tbody tr th {\n",
       "        vertical-align: top;\n",
       "    }\n",
       "\n",
       "    .dataframe thead th {\n",
       "        text-align: right;\n",
       "    }\n",
       "</style>\n",
       "<table border=\"1\" class=\"dataframe\">\n",
       "  <thead>\n",
       "    <tr style=\"text-align: right;\">\n",
       "      <th></th>\n",
       "      <th>Salary</th>\n",
       "      <th>count_at_bats</th>\n",
       "      <th>count_hits</th>\n",
       "      <th>count_home_runs</th>\n",
       "      <th>count_runs</th>\n",
       "      <th>RBI</th>\n",
       "      <th>count_walks</th>\n",
       "      <th>years_experience</th>\n",
       "      <th>cumulative_at_bats</th>\n",
       "      <th>cumulative_hits</th>\n",
       "      <th>cumulative_home_runs</th>\n",
       "      <th>cumulative_runs</th>\n",
       "      <th>cumulative_RBI</th>\n",
       "      <th>cumulative_walks</th>\n",
       "      <th>PutOuts</th>\n",
       "      <th>Assists</th>\n",
       "      <th>Errors</th>\n",
       "    </tr>\n",
       "  </thead>\n",
       "  <tbody>\n",
       "    <tr>\n",
       "      <td>count</td>\n",
       "      <td>2.430000e+02</td>\n",
       "      <td>243.000000</td>\n",
       "      <td>243.000000</td>\n",
       "      <td>243.000000</td>\n",
       "      <td>243.000000</td>\n",
       "      <td>243.000000</td>\n",
       "      <td>243.000000</td>\n",
       "      <td>243.000000</td>\n",
       "      <td>243.000000</td>\n",
       "      <td>243.000000</td>\n",
       "      <td>243.000000</td>\n",
       "      <td>243.000000</td>\n",
       "      <td>243.000000</td>\n",
       "      <td>243.000000</td>\n",
       "      <td>243.000000</td>\n",
       "      <td>243.000000</td>\n",
       "      <td>243.000000</td>\n",
       "    </tr>\n",
       "    <tr>\n",
       "      <td>mean</td>\n",
       "      <td>3.964856e+05</td>\n",
       "      <td>377.621399</td>\n",
       "      <td>99.975309</td>\n",
       "      <td>10.666667</td>\n",
       "      <td>50.123457</td>\n",
       "      <td>47.362140</td>\n",
       "      <td>38.115226</td>\n",
       "      <td>7.473251</td>\n",
       "      <td>2654.497942</td>\n",
       "      <td>717.703704</td>\n",
       "      <td>71.831276</td>\n",
       "      <td>362.061728</td>\n",
       "      <td>332.069959</td>\n",
       "      <td>263.711934</td>\n",
       "      <td>284.263374</td>\n",
       "      <td>102.781893</td>\n",
       "      <td>7.629630</td>\n",
       "    </tr>\n",
       "    <tr>\n",
       "      <td>std</td>\n",
       "      <td>4.205241e+05</td>\n",
       "      <td>151.221516</td>\n",
       "      <td>45.997478</td>\n",
       "      <td>8.449656</td>\n",
       "      <td>25.186109</td>\n",
       "      <td>25.642821</td>\n",
       "      <td>21.239171</td>\n",
       "      <td>5.018386</td>\n",
       "      <td>2344.518332</td>\n",
       "      <td>657.431235</td>\n",
       "      <td>88.616130</td>\n",
       "      <td>337.841166</td>\n",
       "      <td>333.997166</td>\n",
       "      <td>277.955388</td>\n",
       "      <td>275.126756</td>\n",
       "      <td>134.263086</td>\n",
       "      <td>6.244557</td>\n",
       "    </tr>\n",
       "    <tr>\n",
       "      <td>min</td>\n",
       "      <td>0.000000e+00</td>\n",
       "      <td>16.000000</td>\n",
       "      <td>2.000000</td>\n",
       "      <td>0.000000</td>\n",
       "      <td>1.000000</td>\n",
       "      <td>0.000000</td>\n",
       "      <td>0.000000</td>\n",
       "      <td>1.000000</td>\n",
       "      <td>19.000000</td>\n",
       "      <td>4.000000</td>\n",
       "      <td>0.000000</td>\n",
       "      <td>1.000000</td>\n",
       "      <td>0.000000</td>\n",
       "      <td>0.000000</td>\n",
       "      <td>0.000000</td>\n",
       "      <td>0.000000</td>\n",
       "      <td>0.000000</td>\n",
       "    </tr>\n",
       "    <tr>\n",
       "      <td>25%</td>\n",
       "      <td>7.000000e+04</td>\n",
       "      <td>255.500000</td>\n",
       "      <td>64.000000</td>\n",
       "      <td>4.000000</td>\n",
       "      <td>31.000000</td>\n",
       "      <td>29.000000</td>\n",
       "      <td>22.000000</td>\n",
       "      <td>4.000000</td>\n",
       "      <td>826.500000</td>\n",
       "      <td>209.500000</td>\n",
       "      <td>14.000000</td>\n",
       "      <td>100.500000</td>\n",
       "      <td>91.500000</td>\n",
       "      <td>66.500000</td>\n",
       "      <td>113.500000</td>\n",
       "      <td>6.500000</td>\n",
       "      <td>3.000000</td>\n",
       "    </tr>\n",
       "    <tr>\n",
       "      <td>50%</td>\n",
       "      <td>2.500000e+05</td>\n",
       "      <td>360.000000</td>\n",
       "      <td>95.000000</td>\n",
       "      <td>8.000000</td>\n",
       "      <td>48.000000</td>\n",
       "      <td>44.000000</td>\n",
       "      <td>34.000000</td>\n",
       "      <td>6.000000</td>\n",
       "      <td>1931.000000</td>\n",
       "      <td>510.000000</td>\n",
       "      <td>39.000000</td>\n",
       "      <td>258.000000</td>\n",
       "      <td>230.000000</td>\n",
       "      <td>174.000000</td>\n",
       "      <td>211.000000</td>\n",
       "      <td>33.000000</td>\n",
       "      <td>6.000000</td>\n",
       "    </tr>\n",
       "    <tr>\n",
       "      <td>75%</td>\n",
       "      <td>6.665000e+05</td>\n",
       "      <td>511.000000</td>\n",
       "      <td>136.000000</td>\n",
       "      <td>16.000000</td>\n",
       "      <td>68.500000</td>\n",
       "      <td>63.500000</td>\n",
       "      <td>52.000000</td>\n",
       "      <td>11.000000</td>\n",
       "      <td>3890.500000</td>\n",
       "      <td>1037.500000</td>\n",
       "      <td>93.000000</td>\n",
       "      <td>523.500000</td>\n",
       "      <td>424.500000</td>\n",
       "      <td>329.500000</td>\n",
       "      <td>322.500000</td>\n",
       "      <td>151.500000</td>\n",
       "      <td>10.000000</td>\n",
       "    </tr>\n",
       "    <tr>\n",
       "      <td>max</td>\n",
       "      <td>1.975000e+06</td>\n",
       "      <td>687.000000</td>\n",
       "      <td>238.000000</td>\n",
       "      <td>40.000000</td>\n",
       "      <td>117.000000</td>\n",
       "      <td>121.000000</td>\n",
       "      <td>105.000000</td>\n",
       "      <td>24.000000</td>\n",
       "      <td>14053.000000</td>\n",
       "      <td>4256.000000</td>\n",
       "      <td>548.000000</td>\n",
       "      <td>2165.000000</td>\n",
       "      <td>1659.000000</td>\n",
       "      <td>1566.000000</td>\n",
       "      <td>1378.000000</td>\n",
       "      <td>492.000000</td>\n",
       "      <td>32.000000</td>\n",
       "    </tr>\n",
       "  </tbody>\n",
       "</table>\n",
       "</div>"
      ],
      "text/plain": [
       "             Salary  count_at_bats  count_hits  count_home_runs  count_runs  \\\n",
       "count  2.430000e+02     243.000000  243.000000       243.000000  243.000000   \n",
       "mean   3.964856e+05     377.621399   99.975309        10.666667   50.123457   \n",
       "std    4.205241e+05     151.221516   45.997478         8.449656   25.186109   \n",
       "min    0.000000e+00      16.000000    2.000000         0.000000    1.000000   \n",
       "25%    7.000000e+04     255.500000   64.000000         4.000000   31.000000   \n",
       "50%    2.500000e+05     360.000000   95.000000         8.000000   48.000000   \n",
       "75%    6.665000e+05     511.000000  136.000000        16.000000   68.500000   \n",
       "max    1.975000e+06     687.000000  238.000000        40.000000  117.000000   \n",
       "\n",
       "              RBI  count_walks  years_experience  cumulative_at_bats  \\\n",
       "count  243.000000   243.000000        243.000000          243.000000   \n",
       "mean    47.362140    38.115226          7.473251         2654.497942   \n",
       "std     25.642821    21.239171          5.018386         2344.518332   \n",
       "min      0.000000     0.000000          1.000000           19.000000   \n",
       "25%     29.000000    22.000000          4.000000          826.500000   \n",
       "50%     44.000000    34.000000          6.000000         1931.000000   \n",
       "75%     63.500000    52.000000         11.000000         3890.500000   \n",
       "max    121.000000   105.000000         24.000000        14053.000000   \n",
       "\n",
       "       cumulative_hits  cumulative_home_runs  cumulative_runs  cumulative_RBI  \\\n",
       "count       243.000000            243.000000       243.000000      243.000000   \n",
       "mean        717.703704             71.831276       362.061728      332.069959   \n",
       "std         657.431235             88.616130       337.841166      333.997166   \n",
       "min           4.000000              0.000000         1.000000        0.000000   \n",
       "25%         209.500000             14.000000       100.500000       91.500000   \n",
       "50%         510.000000             39.000000       258.000000      230.000000   \n",
       "75%        1037.500000             93.000000       523.500000      424.500000   \n",
       "max        4256.000000            548.000000      2165.000000     1659.000000   \n",
       "\n",
       "       cumulative_walks      PutOuts     Assists      Errors  \n",
       "count        243.000000   243.000000  243.000000  243.000000  \n",
       "mean         263.711934   284.263374  102.781893    7.629630  \n",
       "std          277.955388   275.126756  134.263086    6.244557  \n",
       "min            0.000000     0.000000    0.000000    0.000000  \n",
       "25%           66.500000   113.500000    6.500000    3.000000  \n",
       "50%          174.000000   211.000000   33.000000    6.000000  \n",
       "75%          329.500000   322.500000  151.500000   10.000000  \n",
       "max         1566.000000  1378.000000  492.000000   32.000000  "
      ]
     },
     "execution_count": 134,
     "metadata": {},
     "output_type": "execute_result"
    }
   ],
   "source": [
    "baseball_s.describe()"
   ]
  },
  {
   "cell_type": "markdown",
   "metadata": {},
   "source": [
    "## Lasso"
   ]
  },
  {
   "cell_type": "code",
   "execution_count": 109,
   "metadata": {},
   "outputs": [],
   "source": [
    "X = np.array(baseball_s.loc[:, baseball_s.columns != 'Salary'])\n",
    "y = np.array(baseball_s.loc[:, baseball_s.columns == 'Salary'])\n"
   ]
  },
  {
   "cell_type": "code",
   "execution_count": 110,
   "metadata": {},
   "outputs": [],
   "source": [
    "train_data_X,test_data_X,train_data_y,test_data_y=train_test_split(X,y, test_size=0.3, random_state=31)"
   ]
  },
  {
   "cell_type": "code",
   "execution_count": 111,
   "metadata": {},
   "outputs": [
    {
     "name": "stdout",
     "output_type": "stream",
     "text": [
      "training score: 0.5756286643764177\n",
      "test score: 0.47816170441556083\n",
      "number of features used:  8\n"
     ]
    },
    {
     "name": "stderr",
     "output_type": "stream",
     "text": [
      "/opt/anaconda3/lib/python3.7/site-packages/sklearn/linear_model/_coordinate_descent.py:476: ConvergenceWarning: Objective did not converge. You might want to increase the number of iterations. Duality gap: 0.03438720702416731, tolerance: 0.009786094237822835\n",
      "  positive)\n"
     ]
    }
   ],
   "source": [
    "lasso = Lasso()\n",
    "lasso.fit(train_data_X,train_data_y)\n",
    "train_score=lasso.score(train_data_X,train_data_y)\n",
    "test_score=lasso.score(test_data_X,test_data_y)\n",
    "coeff_used = np.sum(lasso.coef_!=0)\n",
    "\n",
    "print(\"training score:\", train_score) \n",
    "print(\"test score:\", test_score)\n",
    "print(\"number of features used: \", coeff_used)"
   ]
  },
  {
   "cell_type": "code",
   "execution_count": 112,
   "metadata": {},
   "outputs": [
    {
     "data": {
      "text/plain": [
       "Lasso(alpha=0.01, copy_X=True, fit_intercept=True, max_iter=1000000.0,\n",
       "      normalize=False, positive=False, precompute=False, random_state=None,\n",
       "      selection='cyclic', tol=0.0001, warm_start=False)"
      ]
     },
     "execution_count": 112,
     "metadata": {},
     "output_type": "execute_result"
    }
   ],
   "source": [
    "lasso001 = Lasso(alpha=0.01, max_iter=10e5)\n",
    "lasso001.fit(train_data_X,train_data_y)"
   ]
  },
  {
   "cell_type": "code",
   "execution_count": 113,
   "metadata": {},
   "outputs": [
    {
     "name": "stdout",
     "output_type": "stream",
     "text": [
      "training score for alpha=0.01: 0.6294836860369226\n",
      "test score for alpha =0.01:  0.5309188029215687\n",
      "number of features used: for alpha =0.01: 19\n"
     ]
    }
   ],
   "source": [
    "train_score001=lasso001.score(train_data_X,train_data_y)\n",
    "test_score001=lasso001.score(test_data_X,test_data_y)\n",
    "coeff_used001 = np.sum(lasso001.coef_!=0)\n",
    "\n",
    "print(\"training score for alpha=0.01:\", train_score001) \n",
    "print(\"test score for alpha =0.01: \", test_score001)\n",
    "print(\"number of features used: for alpha =0.01:\", coeff_used001)"
   ]
  },
  {
   "cell_type": "code",
   "execution_count": 114,
   "metadata": {},
   "outputs": [
    {
     "data": {
      "text/plain": [
       "Lasso(alpha=0.0001, copy_X=True, fit_intercept=True, max_iter=1000000.0,\n",
       "      normalize=False, positive=False, precompute=False, random_state=None,\n",
       "      selection='cyclic', tol=0.0001, warm_start=False)"
      ]
     },
     "execution_count": 114,
     "metadata": {},
     "output_type": "execute_result"
    }
   ],
   "source": [
    "lasso00001 = Lasso(alpha=0.0001, max_iter=10e5)\n",
    "lasso00001.fit(train_data_X,train_data_y)"
   ]
  },
  {
   "cell_type": "code",
   "execution_count": 115,
   "metadata": {},
   "outputs": [
    {
     "name": "stdout",
     "output_type": "stream",
     "text": [
      "training score for alpha=0.0001: 0.6388208818972383\n",
      "test score for alpha =0.0001:  0.5133986062854887\n",
      "number of features used: for alpha =0.0001: 19\n"
     ]
    }
   ],
   "source": [
    "train_score00001=lasso00001.score(train_data_X,train_data_y)\n",
    "test_score00001=lasso00001.score(test_data_X,test_data_y)\n",
    "coeff_used00001 = np.sum(lasso00001.coef_!=0)\n",
    "\n",
    "print(\"training score for alpha=0.0001:\", train_score00001) \n",
    "print(\"test score for alpha =0.0001: \", test_score00001)\n",
    "print(\"number of features used: for alpha =0.0001:\", coeff_used00001)"
   ]
  },
  {
   "cell_type": "code",
   "execution_count": 116,
   "metadata": {},
   "outputs": [
    {
     "name": "stdout",
     "output_type": "stream",
     "text": [
      "LR training score: 0.6388218154601881\n",
      "LR test score:  0.5130180433454566\n"
     ]
    }
   ],
   "source": [
    "lr = LinearRegression()\n",
    "lr.fit(train_data_X,train_data_y)\n",
    "lr_train_score=lr.score(train_data_X,train_data_y)\n",
    "lr_test_score=lr.score(test_data_X,test_data_y)\n",
    "\n",
    "y_pred=lr.predict(test_data_X)\n",
    "print(\"LR training score:\", lr_train_score)\n",
    "print(\"LR test score: \", lr_test_score)\n",
    "\n"
   ]
  },
  {
   "cell_type": "code",
   "execution_count": 117,
   "metadata": {},
   "outputs": [
    {
     "data": {
      "text/plain": [
       "Text(0.5, 1.0, 'Scatter plot for lasso coefficient index vs magnitude')"
      ]
     },
     "execution_count": 117,
     "metadata": {},
     "output_type": "execute_result"
    },
    {
     "data": {
      "image/png": "[encoded data removed]",
      "text/plain": [
       "<Figure size 1080x720 with 1 Axes>"
      ]
     },
     "metadata": {},
     "output_type": "display_data"
    }
   ],
   "source": [
    "sns.set_style('whitegrid')\n",
    "plt.figure(figsize=(15,10))\n",
    "sns.set(style='whitegrid')\n",
    "sns.set(palette='colorblind')\n",
    "\n",
    "plt.xlabel(\"Coefficient Index\", labelpad = 15, fontsize=17)\n",
    "plt.ylabel(\"Coefficient Magnitude\", labelpad = 15, fontsize=17);\n",
    "\n",
    "plt.plot(lasso.coef_,alpha=0.7,linestyle='none',marker='s',markersize=20, label=r'Lasso; $\\alpha = 1$',zorder=7) # alpha here is for transparency\n",
    "plt.plot(lasso001.coef_,alpha=0.5,linestyle='none',marker='D',markersize=20, label=r'Lasso; $\\alpha = 0.01$') # alpha here is for transparency\n",
    "\n",
    "#sns.scatterplot(x = 'count_at_bats', y = 'count_hits', data = df , s=60, color=\"mediumvioletred\")\n",
    "plt.title(\"Scatter plot for lasso coefficient index vs magnitude\", fontsize=18)\n",
    "\n"
   ]
  },
  {
   "cell_type": "code",
   "execution_count": 118,
   "metadata": {},
   "outputs": [
    {
     "name": "stdout",
     "output_type": "stream",
     "text": [
      "Intercept: 11.33870759456007\n"
     ]
    }
   ],
   "source": [
    "#Print the intercept\n",
    "print('Intercept:', float(lr.intercept_))"
   ]
  },
  {
   "cell_type": "code",
   "execution_count": 119,
   "metadata": {},
   "outputs": [
    {
     "name": "stdout",
     "output_type": "stream",
     "text": [
      "   y_prediction\n",
      "0     13.165151\n",
      "1     13.688147\n",
      "2     12.641639\n",
      "3     13.724896\n",
      "4     12.453852\n",
      "\n"
     ]
    }
   ],
   "source": [
    "print((pd.DataFrame(y_pred, columns={'y_prediction'}).head(5)))\n",
    "print()"
   ]
  },
  {
   "cell_type": "markdown",
   "metadata": {},
   "source": [
    "### Performance Metric: Mean Squared Error"
   ]
  },
  {
   "cell_type": "code",
   "execution_count": 120,
   "metadata": {},
   "outputs": [
    {
     "name": "stdout",
     "output_type": "stream",
     "text": [
      "Mean Squared Error (MSE) = 0.35\n"
     ]
    }
   ],
   "source": [
    "print(\"Mean Squared Error (MSE) = %.2f\" % mean_squared_error(test_data_y, y_pred))"
   ]
  },
  {
   "cell_type": "markdown",
   "metadata": {},
   "source": [
    "### Performance Metric: Root Mean Squared Error"
   ]
  },
  {
   "cell_type": "code",
   "execution_count": 121,
   "metadata": {},
   "outputs": [
    {
     "name": "stdout",
     "output_type": "stream",
     "text": [
      " Root Mean Squared Error (RMSE):0.59\n"
     ]
    }
   ],
   "source": [
    "print(\" Root Mean Squared Error (RMSE):%.2f\" % np.sqrt(mean_squared_error(test_data_y, y_pred)))"
   ]
  },
  {
   "cell_type": "markdown",
   "metadata": {},
   "source": [
    "### Explained variance score:"
   ]
  },
  {
   "cell_type": "code",
   "execution_count": 122,
   "metadata": {},
   "outputs": [
    {
     "name": "stdout",
     "output_type": "stream",
     "text": [
      "Variance Score (R-Square) = 0.51\n"
     ]
    }
   ],
   "source": [
    "\n",
    "print('Variance Score (R-Square) = %.2f' % r2_score(test_data_y, y_pred))"
   ]
  },
  {
   "cell_type": "code",
   "execution_count": 141,
   "metadata": {},
   "outputs": [],
   "source": [
    "def lasso_regression(data_frame,salary_frame,alpha, i):\n",
    "    #Fit the model\n",
    "    lassoreg = Lasso(alpha=alpha, normalize=True,max_iter=1e6)\n",
    "    lassoreg.fit(data_frame,salary_frame['Salary'])\n",
    "    y_pred = lassoreg.predict(data_frame)\n",
    "    \n",
    "    rss = sum((y_pred-salary_frame['Salary'])**2)\n",
    "    aic = len(data_frame)*np.log(rss/len(data_frame)) + 2*(len(data_frame.columns)-1)\n",
    "\n",
    "    ret = [rss]\n",
    "    ret.extend([aic])\n",
    "    ret.extend([lassoreg.intercept_])\n",
    "    ret.extend(lassoreg.coef_)\n",
    "    print(str(i) + \"--> \", ret)\n",
    "    return ret"
   ]
  },
  {
   "cell_type": "code",
   "execution_count": 142,
   "metadata": {},
   "outputs": [
    {
     "name": "stdout",
     "output_type": "stream",
     "text": [
      "data_frame shape ->  (116, 19)\n",
      "salary_frame shape -> (116, 1)\n",
      "0-->  [35.34523750552365, -101.85747769695811, 11.338707594560205, -0.003651445936360816, 0.012972438513827424, 0.004096909451256762, 0.008095376267353694, -0.002118537161192756, 0.010355137002285056, 0.05481924386597293, -0.00017603566576580336, 0.0008717412172649134, 0.002256534247069712, 0.0012941211123152772, -0.0004340270479429457, -0.0015672691406428216, 0.6198502520803939, -0.033857831770453276, 0.0003528383904618364, 0.000558987953648817, -0.010100069770429827, -0.5850735847531088]\n",
      "1-->  [35.345255610139354, -101.85741827919685, 11.338842355969462, -0.0036527140678167384, 0.012987735602383891, 0.004126191069959972, 0.00807779760894854, -0.0021326513353756614, 0.01036450889419517, 0.05472370365785005, -0.00017352261105405358, 0.0008568108138317127, 0.002228631320749279, 0.0013024272608141451, -0.000421045199595207, -0.001569847120110594, 0.6193946436080178, -0.03401537044464149, 0.0003527016428783715, 0.0005576642528022832, -0.01008514772840632, -0.5847217479083149]\n",
      "2-->  [35.34713846653385, -101.85123907577147, 11.340102703901596, -0.0036654988363449283, 0.013133199392988003, 0.0044023977699970546, 0.007913313769351536, -0.002265020324034049, 0.010453622456370654, 0.053842272254864945, -0.00015010725507335373, 0.0007178715134163838, 0.00197021338541971, 0.0013799647583445768, -0.00030083705932778865, -0.0015942151462897873, 0.6152135879354436, -0.03548087126471819, 0.0003514659495748545, 0.0005455084263078719, -0.009947911336995775, -0.5814966432135871]\n",
      "3-->  [35.43018651615168, -101.57901691481263, 11.350606027612624, -0.003689663253004718, 0.013533628212455793, 0.004417830338437341, 0.007400471368511894, -0.0022284113975176005, 0.010527703021409183, 0.045890431400305104, -0.0, 0.00011501892971391008, 0.0011424702445333992, 0.0015048383840309966, 0.0, -0.0015945163281858373, 0.5857875729410734, -0.04262705762362809, 0.00034775275213443877, 0.00046094327925133463, -0.009394549016467782, -0.5596922841742806]\n",
      "4-->  [37.89305006134566, -93.78340669672019, 11.30539387489631, -0.0012606242897604954, 0.006501521765085708, 0.0, 0.009043345639637344, -0.0, 0.004465287368878862, 0.02772787523237316, 0.0, 0.000573496356379809, 0.0, 2.0367730571486438e-05, 0.0, -5.230262539190743e-05, 0.4068421886975684, -0.03912329396996465, 0.00027817590735867753, 3.0753531336591616e-05, -0.006172522169328336, -0.40327657737062533]\n",
      "5-->  [44.975437511545366, -73.90694727833448, 11.672259402049962, 0.0, 0.0008089319060931123, 0.0, 0.008877454984627891, 0.0, 0.002117077899556723, 0.0, 0.0, 0.0006757587396529194, 0.0, 0.0, 0.0, 0.0, 0.0, -0.0, 1.1196238165417928e-05, 0.0, -0.0, -0.0]\n",
      "6-->  [91.53632556457036, 8.52490155923676, 12.811830279369445, 0.0, 0.0, 0.0, 0.0, 0.0, 0.0, 0.0, 0.0, 5.0813850543404915e-05, 0.0, 5.8630819321530745e-05, 0.0, 0.0, -0.0, -0.0, 0.0, 0.0, 0.0, -0.0]\n",
      "7-->  [97.86094237822834, 16.275049650069146, 12.871553029257347, 0.0, 0.0, 0.0, 0.0, 0.0, 0.0, 0.0, 0.0, 0.0, 0.0, 0.0, 0.0, 0.0, -0.0, -0.0, 0.0, 0.0, 0.0, -0.0]\n",
      "8-->  [97.86094237822834, 16.275049650069146, 12.871553029257347, 0.0, 0.0, 0.0, 0.0, 0.0, 0.0, 0.0, 0.0, 0.0, 0.0, 0.0, 0.0, 0.0, -0.0, -0.0, 0.0, 0.0, 0.0, -0.0]\n",
      "9-->  [97.86094237822834, 16.275049650069146, 12.871553029257347, 0.0, 0.0, 0.0, 0.0, 0.0, 0.0, 0.0, 0.0, 0.0, 0.0, 0.0, 0.0, 0.0, -0.0, -0.0, 0.0, 0.0, 0.0, -0.0]\n"
     ]
    }
   ],
   "source": [
    "alpha_lasso = [1e-15, 1e-6, 1e-5, 1e-4, 1e-3, 1e-2, .5e-1, 1, 5, 20]\n",
    "\n",
    "# 3 + 19[columns of the data frame without 'Salary'] making it 22 dimensions that will be returned\n",
    "col = ['rss','aic','intercept'] + ['coef_x_%d'%i for i in range(1,20)]\n",
    "ind = ['alpha_%.2g'%alpha_lasso[i] for i in range(0,10)]\n",
    "\n",
    "\n",
    "# converting to a data frame with shape (116, 19)\n",
    "data_frame  = pd.DataFrame(train_data_X)\n",
    "data_frame.columns = ['count_at_bats', 'count_hits', 'count_home_runs',\t'count_runs', 'RBI', 'count_walks', 'years_experience', 'cumulative_at_bats', 'cumulative_hits', 'cumulative_home_runs', 'cumulative_runs', 'cumulative_RBI', 'cumulative_walks', 'League', 'Division', 'PutOuts', 'Assists', 'Errors', 'NewLeague']\n",
    "print(\"data_frame shape -> \", data_frame.shape)\n",
    "\n",
    "# converting to a data frame with a single feature (116,1)\n",
    "salary_frame = pd.DataFrame(train_data_y)\n",
    "salary_frame.columns = ['Salary']\n",
    "print(\"salary_frame shape ->\", salary_frame.shape)\n",
    "\n",
    "coef_matrix_lasso = pd.DataFrame(index=ind, columns=col)\n",
    "\n",
    "for i in range(len(alpha_lasso)):\n",
    "    coef_matrix_lasso.iloc[i,] = lasso_regression(data_frame, salary_frame, alpha_lasso[i], i)\n",
    "    "
   ]
  },
  {
   "cell_type": "markdown",
   "metadata": {},
   "source": [
    "## Observation:\n",
    "### For all the values of alpha, we perform linear regression and observe that as the value of alpha increases, more and more coefficients become zero.\n",
    "\n",
    "### We know that in a high dimensional data set, not all features are important for predicting a value and some features might be co-related. But in case of lasso regression, it performs feature selection even for small values of aplpha and reduces the coefficients to absolute zero as opposed to ridge regression.\n",
    "### Therefore, it can be observed that even for small values of alpha [starting from 1e-3], some features have their magnitude of coefficient reduced to zero.\n",
    "\n",
    "### As aplha value increases to 20, we observe that all features have their coefficients reduced to zero.\n",
    "\n"
   ]
  },
  {
   "cell_type": "markdown",
   "metadata": {},
   "source": [
    "### For example, we see that once we reach alpha value 1e-3, the lasso regressions selects only certain features such as `count_hits`, `count_runs`, `count_walks`, `cumulative_hits` and `PutOuts` that contribute towards a Player's Salary. Other features may either be tied to the existing features or are irrelevant when determining a Player's Salary based on the given data."
   ]
  }
 ],
 "metadata": {
  "kernelspec": {
   "display_name": "Python 3",
   "language": "python",
   "name": "python3"
  },
  "language_info": {
   "codemirror_mode": {
    "name": "ipython",
    "version": 3
   },
   "file_extension": ".py",
   "mimetype": "text/x-python",
   "name": "python",
   "nbconvert_exporter": "python",
   "pygments_lexer": "ipython3",
   "version": "3.7.4"
  }
 },
 "nbformat": 4,
 "nbformat_minor": 2
}
